{
 "cells": [
  {
   "cell_type": "markdown",
   "metadata": {},
   "source": [
    "# Отток клиентов"
   ]
  },
  {
   "cell_type": "markdown",
   "metadata": {},
   "source": [
    "Из «Гамма-Банка» усилися отток клиентов. Расчеты отдела маркетинга показали, что удержать существующих дешевле, чем привлекать новых.\n",
    "\n",
    "Нам необходимо спрогнозировать, уйдёт клиент из банка в ближайшее время или нет. Мы располагаем историческими данными о клиентах и о том, расторгли они договор или нет. \n",
    "\n",
    "Мы должны создать модель с максимально большим значением *F1*-меры. Целевое значение - не ниже 0.59.\n",
    "\n",
    "Источник данных: [https://www.kaggle.com/barelydedicated/bank-customer-churn-modeling](https://www.kaggle.com/barelydedicated/bank-customer-churn-modeling)\n",
    "\n",
    "**Описание данных**\n",
    "\n",
    "Данные находятся в файле /datasets/Churn.csv (англ. «отток клиентов»).\n",
    "**Признаки**\n",
    "\n",
    " - RowNumber — индекс строки в данных\n",
    " - CustomerId — уникальный идентификатор клиента\n",
    " - Surname — фамилия\n",
    " - CreditScore — кредитный рейтинг\n",
    " - Geography — страна проживания\n",
    " - Gender — пол\n",
    " - Age — возраст\n",
    " - Tenure — количество недвижимости у клиента\n",
    " - Balance — баланс на счёте\n",
    " - NumOfProducts — количество продуктов банка, используемых клиентом\n",
    " - HasCrCard — наличие кредитной карты\n",
    " - IsActiveMember — активность клиента\n",
    " - EstimatedSalary — предполагаемая зарплата\n",
    " \n",
    "**Целевой признак**\n",
    " - Exited — факт ухода клиента"
   ]
  },
  {
   "cell_type": "markdown",
   "metadata": {},
   "source": [
    "**Содержание проекта**\n",
    "- [1. Подготовка данных](#1.-Подготовка-данных)\n",
    " - [1.1 Предобработка данных](#1.1-Предобработка-данных)\n",
    " - [1.2 Отбор признаков, кодирование и масштабирование](#1.2-Отбор-признаков,-кодирование-и-масштабирование)\n",
    "- [2. Исследование задачи](#2.-Исследование-задачи)\n",
    "- [3. Борьба с дисбалансом](#3.-Борьба-с-дисбалансом)\n",
    " - [3.1 Взвешивание классов](#3.1-Взвешивание-классов)\n",
    " - [3.2 Уменьшение выборки](#3.2-Уменьшение-выборки)\n",
    " - [3.3 Увеличение выборки](#3.3-Увеличение-выборки)\n",
    " - [3.4 Подбор гиперпараметров для лучшей модели](#3.4-Подбор-гиперпараметров-для-лучшей-модели)\n",
    "- [4. Тестирование модели](#4.-Тестирование-модели)\n",
    "- [Вывод](#Вывод)"
   ]
  },
  {
   "cell_type": "markdown",
   "metadata": {},
   "source": [
    "# 1. Подготовка данных"
   ]
  },
  {
   "cell_type": "markdown",
   "metadata": {},
   "source": [
    "### 1.1 Предобработка данных"
   ]
  },
  {
   "cell_type": "markdown",
   "metadata": {},
   "source": [
    "Итак, загрузим необходимые нам инструменты и библиотеки."
   ]
  },
  {
   "cell_type": "code",
   "execution_count": 1,
   "metadata": {},
   "outputs": [],
   "source": [
    "import pandas as pd\n",
    "import numpy as np\n",
    "from sklearn.model_selection import train_test_split\n",
    "from sklearn.model_selection import GridSearchCV\n",
    "from sklearn.preprocessing import StandardScaler\n",
    "from sklearn.metrics import recall_score, precision_score, f1_score, roc_auc_score, accuracy_score, confusion_matrix \n",
    "from sklearn.metrics import roc_curve\n",
    "from sklearn.tree import DecisionTreeClassifier\n",
    "from sklearn.ensemble import RandomForestClassifier\n",
    "from sklearn.linear_model import LogisticRegression\n",
    "from sklearn.utils import shuffle\n",
    "import warnings\n",
    "warnings.filterwarnings('ignore')\n",
    "import matplotlib.pyplot as plt"
   ]
  },
  {
   "cell_type": "markdown",
   "metadata": {},
   "source": [
    "Загрузим данные."
   ]
  },
  {
   "cell_type": "code",
   "execution_count": 2,
   "metadata": {},
   "outputs": [],
   "source": [
    "data = pd.read_csv('/datasets/Churn.csv')"
   ]
  },
  {
   "cell_type": "markdown",
   "metadata": {},
   "source": [
    "Прочитаем первые пять строк."
   ]
  },
  {
   "cell_type": "code",
   "execution_count": 3,
   "metadata": {},
   "outputs": [
    {
     "data": {
      "text/html": [
       "<div>\n",
       "<style scoped>\n",
       "    .dataframe tbody tr th:only-of-type {\n",
       "        vertical-align: middle;\n",
       "    }\n",
       "\n",
       "    .dataframe tbody tr th {\n",
       "        vertical-align: top;\n",
       "    }\n",
       "\n",
       "    .dataframe thead th {\n",
       "        text-align: right;\n",
       "    }\n",
       "</style>\n",
       "<table border=\"1\" class=\"dataframe\">\n",
       "  <thead>\n",
       "    <tr style=\"text-align: right;\">\n",
       "      <th></th>\n",
       "      <th>RowNumber</th>\n",
       "      <th>CustomerId</th>\n",
       "      <th>Surname</th>\n",
       "      <th>CreditScore</th>\n",
       "      <th>Geography</th>\n",
       "      <th>Gender</th>\n",
       "      <th>Age</th>\n",
       "      <th>Tenure</th>\n",
       "      <th>Balance</th>\n",
       "      <th>NumOfProducts</th>\n",
       "      <th>HasCrCard</th>\n",
       "      <th>IsActiveMember</th>\n",
       "      <th>EstimatedSalary</th>\n",
       "      <th>Exited</th>\n",
       "    </tr>\n",
       "  </thead>\n",
       "  <tbody>\n",
       "    <tr>\n",
       "      <td>0</td>\n",
       "      <td>1</td>\n",
       "      <td>15634602</td>\n",
       "      <td>Hargrave</td>\n",
       "      <td>619</td>\n",
       "      <td>France</td>\n",
       "      <td>Female</td>\n",
       "      <td>42</td>\n",
       "      <td>2.0</td>\n",
       "      <td>0.00</td>\n",
       "      <td>1</td>\n",
       "      <td>1</td>\n",
       "      <td>1</td>\n",
       "      <td>101348.88</td>\n",
       "      <td>1</td>\n",
       "    </tr>\n",
       "    <tr>\n",
       "      <td>1</td>\n",
       "      <td>2</td>\n",
       "      <td>15647311</td>\n",
       "      <td>Hill</td>\n",
       "      <td>608</td>\n",
       "      <td>Spain</td>\n",
       "      <td>Female</td>\n",
       "      <td>41</td>\n",
       "      <td>1.0</td>\n",
       "      <td>83807.86</td>\n",
       "      <td>1</td>\n",
       "      <td>0</td>\n",
       "      <td>1</td>\n",
       "      <td>112542.58</td>\n",
       "      <td>0</td>\n",
       "    </tr>\n",
       "    <tr>\n",
       "      <td>2</td>\n",
       "      <td>3</td>\n",
       "      <td>15619304</td>\n",
       "      <td>Onio</td>\n",
       "      <td>502</td>\n",
       "      <td>France</td>\n",
       "      <td>Female</td>\n",
       "      <td>42</td>\n",
       "      <td>8.0</td>\n",
       "      <td>159660.80</td>\n",
       "      <td>3</td>\n",
       "      <td>1</td>\n",
       "      <td>0</td>\n",
       "      <td>113931.57</td>\n",
       "      <td>1</td>\n",
       "    </tr>\n",
       "    <tr>\n",
       "      <td>3</td>\n",
       "      <td>4</td>\n",
       "      <td>15701354</td>\n",
       "      <td>Boni</td>\n",
       "      <td>699</td>\n",
       "      <td>France</td>\n",
       "      <td>Female</td>\n",
       "      <td>39</td>\n",
       "      <td>1.0</td>\n",
       "      <td>0.00</td>\n",
       "      <td>2</td>\n",
       "      <td>0</td>\n",
       "      <td>0</td>\n",
       "      <td>93826.63</td>\n",
       "      <td>0</td>\n",
       "    </tr>\n",
       "    <tr>\n",
       "      <td>4</td>\n",
       "      <td>5</td>\n",
       "      <td>15737888</td>\n",
       "      <td>Mitchell</td>\n",
       "      <td>850</td>\n",
       "      <td>Spain</td>\n",
       "      <td>Female</td>\n",
       "      <td>43</td>\n",
       "      <td>2.0</td>\n",
       "      <td>125510.82</td>\n",
       "      <td>1</td>\n",
       "      <td>1</td>\n",
       "      <td>1</td>\n",
       "      <td>79084.10</td>\n",
       "      <td>0</td>\n",
       "    </tr>\n",
       "  </tbody>\n",
       "</table>\n",
       "</div>"
      ],
      "text/plain": [
       "   RowNumber  CustomerId   Surname  CreditScore Geography  Gender  Age  \\\n",
       "0          1    15634602  Hargrave          619    France  Female   42   \n",
       "1          2    15647311      Hill          608     Spain  Female   41   \n",
       "2          3    15619304      Onio          502    France  Female   42   \n",
       "3          4    15701354      Boni          699    France  Female   39   \n",
       "4          5    15737888  Mitchell          850     Spain  Female   43   \n",
       "\n",
       "   Tenure    Balance  NumOfProducts  HasCrCard  IsActiveMember  \\\n",
       "0     2.0       0.00              1          1               1   \n",
       "1     1.0   83807.86              1          0               1   \n",
       "2     8.0  159660.80              3          1               0   \n",
       "3     1.0       0.00              2          0               0   \n",
       "4     2.0  125510.82              1          1               1   \n",
       "\n",
       "   EstimatedSalary  Exited  \n",
       "0        101348.88       1  \n",
       "1        112542.58       0  \n",
       "2        113931.57       1  \n",
       "3         93826.63       0  \n",
       "4         79084.10       0  "
      ]
     },
     "execution_count": 3,
     "metadata": {},
     "output_type": "execute_result"
    }
   ],
   "source": [
    "data.head()"
   ]
  },
  {
   "cell_type": "markdown",
   "metadata": {},
   "source": [
    "Посмотрим, нет ли пропусков и какие типы данных."
   ]
  },
  {
   "cell_type": "code",
   "execution_count": 4,
   "metadata": {},
   "outputs": [
    {
     "name": "stdout",
     "output_type": "stream",
     "text": [
      "<class 'pandas.core.frame.DataFrame'>\n",
      "RangeIndex: 10000 entries, 0 to 9999\n",
      "Data columns (total 14 columns):\n",
      "RowNumber          10000 non-null int64\n",
      "CustomerId         10000 non-null int64\n",
      "Surname            10000 non-null object\n",
      "CreditScore        10000 non-null int64\n",
      "Geography          10000 non-null object\n",
      "Gender             10000 non-null object\n",
      "Age                10000 non-null int64\n",
      "Tenure             9091 non-null float64\n",
      "Balance            10000 non-null float64\n",
      "NumOfProducts      10000 non-null int64\n",
      "HasCrCard          10000 non-null int64\n",
      "IsActiveMember     10000 non-null int64\n",
      "EstimatedSalary    10000 non-null float64\n",
      "Exited             10000 non-null int64\n",
      "dtypes: float64(3), int64(8), object(3)\n",
      "memory usage: 1.1+ MB\n"
     ]
    }
   ],
   "source": [
    "data.info()"
   ]
  },
  {
   "cell_type": "markdown",
   "metadata": {},
   "source": [
    "Видно, что в столбце 'Tenure' - количество недвижимости у клиента есть пропуски. Это единственный столбец с пропусками.\n",
    "\n",
    "Далее взглянем на описательную статистику таблицы."
   ]
  },
  {
   "cell_type": "code",
   "execution_count": 5,
   "metadata": {},
   "outputs": [
    {
     "data": {
      "text/html": [
       "<div>\n",
       "<style scoped>\n",
       "    .dataframe tbody tr th:only-of-type {\n",
       "        vertical-align: middle;\n",
       "    }\n",
       "\n",
       "    .dataframe tbody tr th {\n",
       "        vertical-align: top;\n",
       "    }\n",
       "\n",
       "    .dataframe thead th {\n",
       "        text-align: right;\n",
       "    }\n",
       "</style>\n",
       "<table border=\"1\" class=\"dataframe\">\n",
       "  <thead>\n",
       "    <tr style=\"text-align: right;\">\n",
       "      <th></th>\n",
       "      <th>count</th>\n",
       "      <th>unique</th>\n",
       "      <th>top</th>\n",
       "      <th>freq</th>\n",
       "      <th>mean</th>\n",
       "      <th>std</th>\n",
       "      <th>min</th>\n",
       "      <th>25%</th>\n",
       "      <th>50%</th>\n",
       "      <th>75%</th>\n",
       "      <th>max</th>\n",
       "    </tr>\n",
       "  </thead>\n",
       "  <tbody>\n",
       "    <tr>\n",
       "      <td>RowNumber</td>\n",
       "      <td>10000</td>\n",
       "      <td>NaN</td>\n",
       "      <td>NaN</td>\n",
       "      <td>NaN</td>\n",
       "      <td>5000.5</td>\n",
       "      <td>2886.9</td>\n",
       "      <td>1</td>\n",
       "      <td>2500.75</td>\n",
       "      <td>5000.5</td>\n",
       "      <td>7500.25</td>\n",
       "      <td>10000</td>\n",
       "    </tr>\n",
       "    <tr>\n",
       "      <td>CustomerId</td>\n",
       "      <td>10000</td>\n",
       "      <td>NaN</td>\n",
       "      <td>NaN</td>\n",
       "      <td>NaN</td>\n",
       "      <td>1.56909e+07</td>\n",
       "      <td>71936.2</td>\n",
       "      <td>1.55657e+07</td>\n",
       "      <td>1.56285e+07</td>\n",
       "      <td>1.56907e+07</td>\n",
       "      <td>1.57532e+07</td>\n",
       "      <td>1.58157e+07</td>\n",
       "    </tr>\n",
       "    <tr>\n",
       "      <td>Surname</td>\n",
       "      <td>10000</td>\n",
       "      <td>2932</td>\n",
       "      <td>Smith</td>\n",
       "      <td>32</td>\n",
       "      <td>NaN</td>\n",
       "      <td>NaN</td>\n",
       "      <td>NaN</td>\n",
       "      <td>NaN</td>\n",
       "      <td>NaN</td>\n",
       "      <td>NaN</td>\n",
       "      <td>NaN</td>\n",
       "    </tr>\n",
       "    <tr>\n",
       "      <td>CreditScore</td>\n",
       "      <td>10000</td>\n",
       "      <td>NaN</td>\n",
       "      <td>NaN</td>\n",
       "      <td>NaN</td>\n",
       "      <td>650.529</td>\n",
       "      <td>96.6533</td>\n",
       "      <td>350</td>\n",
       "      <td>584</td>\n",
       "      <td>652</td>\n",
       "      <td>718</td>\n",
       "      <td>850</td>\n",
       "    </tr>\n",
       "    <tr>\n",
       "      <td>Geography</td>\n",
       "      <td>10000</td>\n",
       "      <td>3</td>\n",
       "      <td>France</td>\n",
       "      <td>5014</td>\n",
       "      <td>NaN</td>\n",
       "      <td>NaN</td>\n",
       "      <td>NaN</td>\n",
       "      <td>NaN</td>\n",
       "      <td>NaN</td>\n",
       "      <td>NaN</td>\n",
       "      <td>NaN</td>\n",
       "    </tr>\n",
       "    <tr>\n",
       "      <td>Gender</td>\n",
       "      <td>10000</td>\n",
       "      <td>2</td>\n",
       "      <td>Male</td>\n",
       "      <td>5457</td>\n",
       "      <td>NaN</td>\n",
       "      <td>NaN</td>\n",
       "      <td>NaN</td>\n",
       "      <td>NaN</td>\n",
       "      <td>NaN</td>\n",
       "      <td>NaN</td>\n",
       "      <td>NaN</td>\n",
       "    </tr>\n",
       "    <tr>\n",
       "      <td>Age</td>\n",
       "      <td>10000</td>\n",
       "      <td>NaN</td>\n",
       "      <td>NaN</td>\n",
       "      <td>NaN</td>\n",
       "      <td>38.9218</td>\n",
       "      <td>10.4878</td>\n",
       "      <td>18</td>\n",
       "      <td>32</td>\n",
       "      <td>37</td>\n",
       "      <td>44</td>\n",
       "      <td>92</td>\n",
       "    </tr>\n",
       "    <tr>\n",
       "      <td>Tenure</td>\n",
       "      <td>9091</td>\n",
       "      <td>NaN</td>\n",
       "      <td>NaN</td>\n",
       "      <td>NaN</td>\n",
       "      <td>4.99769</td>\n",
       "      <td>2.89472</td>\n",
       "      <td>0</td>\n",
       "      <td>2</td>\n",
       "      <td>5</td>\n",
       "      <td>7</td>\n",
       "      <td>10</td>\n",
       "    </tr>\n",
       "    <tr>\n",
       "      <td>Balance</td>\n",
       "      <td>10000</td>\n",
       "      <td>NaN</td>\n",
       "      <td>NaN</td>\n",
       "      <td>NaN</td>\n",
       "      <td>76485.9</td>\n",
       "      <td>62397.4</td>\n",
       "      <td>0</td>\n",
       "      <td>0</td>\n",
       "      <td>97198.5</td>\n",
       "      <td>127644</td>\n",
       "      <td>250898</td>\n",
       "    </tr>\n",
       "    <tr>\n",
       "      <td>NumOfProducts</td>\n",
       "      <td>10000</td>\n",
       "      <td>NaN</td>\n",
       "      <td>NaN</td>\n",
       "      <td>NaN</td>\n",
       "      <td>1.5302</td>\n",
       "      <td>0.581654</td>\n",
       "      <td>1</td>\n",
       "      <td>1</td>\n",
       "      <td>1</td>\n",
       "      <td>2</td>\n",
       "      <td>4</td>\n",
       "    </tr>\n",
       "    <tr>\n",
       "      <td>HasCrCard</td>\n",
       "      <td>10000</td>\n",
       "      <td>NaN</td>\n",
       "      <td>NaN</td>\n",
       "      <td>NaN</td>\n",
       "      <td>0.7055</td>\n",
       "      <td>0.45584</td>\n",
       "      <td>0</td>\n",
       "      <td>0</td>\n",
       "      <td>1</td>\n",
       "      <td>1</td>\n",
       "      <td>1</td>\n",
       "    </tr>\n",
       "    <tr>\n",
       "      <td>IsActiveMember</td>\n",
       "      <td>10000</td>\n",
       "      <td>NaN</td>\n",
       "      <td>NaN</td>\n",
       "      <td>NaN</td>\n",
       "      <td>0.5151</td>\n",
       "      <td>0.499797</td>\n",
       "      <td>0</td>\n",
       "      <td>0</td>\n",
       "      <td>1</td>\n",
       "      <td>1</td>\n",
       "      <td>1</td>\n",
       "    </tr>\n",
       "    <tr>\n",
       "      <td>EstimatedSalary</td>\n",
       "      <td>10000</td>\n",
       "      <td>NaN</td>\n",
       "      <td>NaN</td>\n",
       "      <td>NaN</td>\n",
       "      <td>100090</td>\n",
       "      <td>57510.5</td>\n",
       "      <td>11.58</td>\n",
       "      <td>51002.1</td>\n",
       "      <td>100194</td>\n",
       "      <td>149388</td>\n",
       "      <td>199992</td>\n",
       "    </tr>\n",
       "    <tr>\n",
       "      <td>Exited</td>\n",
       "      <td>10000</td>\n",
       "      <td>NaN</td>\n",
       "      <td>NaN</td>\n",
       "      <td>NaN</td>\n",
       "      <td>0.2037</td>\n",
       "      <td>0.402769</td>\n",
       "      <td>0</td>\n",
       "      <td>0</td>\n",
       "      <td>0</td>\n",
       "      <td>0</td>\n",
       "      <td>1</td>\n",
       "    </tr>\n",
       "  </tbody>\n",
       "</table>\n",
       "</div>"
      ],
      "text/plain": [
       "                 count unique     top  freq         mean       std  \\\n",
       "RowNumber        10000    NaN     NaN   NaN       5000.5    2886.9   \n",
       "CustomerId       10000    NaN     NaN   NaN  1.56909e+07   71936.2   \n",
       "Surname          10000   2932   Smith    32          NaN       NaN   \n",
       "CreditScore      10000    NaN     NaN   NaN      650.529   96.6533   \n",
       "Geography        10000      3  France  5014          NaN       NaN   \n",
       "Gender           10000      2    Male  5457          NaN       NaN   \n",
       "Age              10000    NaN     NaN   NaN      38.9218   10.4878   \n",
       "Tenure            9091    NaN     NaN   NaN      4.99769   2.89472   \n",
       "Balance          10000    NaN     NaN   NaN      76485.9   62397.4   \n",
       "NumOfProducts    10000    NaN     NaN   NaN       1.5302  0.581654   \n",
       "HasCrCard        10000    NaN     NaN   NaN       0.7055   0.45584   \n",
       "IsActiveMember   10000    NaN     NaN   NaN       0.5151  0.499797   \n",
       "EstimatedSalary  10000    NaN     NaN   NaN       100090   57510.5   \n",
       "Exited           10000    NaN     NaN   NaN       0.2037  0.402769   \n",
       "\n",
       "                         min          25%          50%          75%  \\\n",
       "RowNumber                  1      2500.75       5000.5      7500.25   \n",
       "CustomerId       1.55657e+07  1.56285e+07  1.56907e+07  1.57532e+07   \n",
       "Surname                  NaN          NaN          NaN          NaN   \n",
       "CreditScore              350          584          652          718   \n",
       "Geography                NaN          NaN          NaN          NaN   \n",
       "Gender                   NaN          NaN          NaN          NaN   \n",
       "Age                       18           32           37           44   \n",
       "Tenure                     0            2            5            7   \n",
       "Balance                    0            0      97198.5       127644   \n",
       "NumOfProducts              1            1            1            2   \n",
       "HasCrCard                  0            0            1            1   \n",
       "IsActiveMember             0            0            1            1   \n",
       "EstimatedSalary        11.58      51002.1       100194       149388   \n",
       "Exited                     0            0            0            0   \n",
       "\n",
       "                         max  \n",
       "RowNumber              10000  \n",
       "CustomerId       1.58157e+07  \n",
       "Surname                  NaN  \n",
       "CreditScore              850  \n",
       "Geography                NaN  \n",
       "Gender                   NaN  \n",
       "Age                       92  \n",
       "Tenure                    10  \n",
       "Balance               250898  \n",
       "NumOfProducts              4  \n",
       "HasCrCard                  1  \n",
       "IsActiveMember             1  \n",
       "EstimatedSalary       199992  \n",
       "Exited                     1  "
      ]
     },
     "execution_count": 5,
     "metadata": {},
     "output_type": "execute_result"
    }
   ],
   "source": [
    "data.describe(include='all').T"
   ]
  },
  {
   "cell_type": "markdown",
   "metadata": {},
   "source": [
    "В столбце \"Пол\" ошибок вроде бы нет - только 2 вида значений. Кроме того, мы рассматриваем клиентов только из трех стран.\n",
    "\n",
    "Проверим, нет ли дубликатов."
   ]
  },
  {
   "cell_type": "code",
   "execution_count": 6,
   "metadata": {},
   "outputs": [
    {
     "data": {
      "text/html": [
       "<div>\n",
       "<style scoped>\n",
       "    .dataframe tbody tr th:only-of-type {\n",
       "        vertical-align: middle;\n",
       "    }\n",
       "\n",
       "    .dataframe tbody tr th {\n",
       "        vertical-align: top;\n",
       "    }\n",
       "\n",
       "    .dataframe thead th {\n",
       "        text-align: right;\n",
       "    }\n",
       "</style>\n",
       "<table border=\"1\" class=\"dataframe\">\n",
       "  <thead>\n",
       "    <tr style=\"text-align: right;\">\n",
       "      <th></th>\n",
       "      <th>RowNumber</th>\n",
       "      <th>CustomerId</th>\n",
       "      <th>Surname</th>\n",
       "      <th>CreditScore</th>\n",
       "      <th>Geography</th>\n",
       "      <th>Gender</th>\n",
       "      <th>Age</th>\n",
       "      <th>Tenure</th>\n",
       "      <th>Balance</th>\n",
       "      <th>NumOfProducts</th>\n",
       "      <th>HasCrCard</th>\n",
       "      <th>IsActiveMember</th>\n",
       "      <th>EstimatedSalary</th>\n",
       "      <th>Exited</th>\n",
       "    </tr>\n",
       "  </thead>\n",
       "  <tbody>\n",
       "  </tbody>\n",
       "</table>\n",
       "</div>"
      ],
      "text/plain": [
       "Empty DataFrame\n",
       "Columns: [RowNumber, CustomerId, Surname, CreditScore, Geography, Gender, Age, Tenure, Balance, NumOfProducts, HasCrCard, IsActiveMember, EstimatedSalary, Exited]\n",
       "Index: []"
      ]
     },
     "execution_count": 6,
     "metadata": {},
     "output_type": "execute_result"
    }
   ],
   "source": [
    "dups = data[data.duplicated()]\n",
    "dups"
   ]
  },
  {
   "cell_type": "markdown",
   "metadata": {},
   "source": [
    "Дубликатов нет."
   ]
  },
  {
   "cell_type": "markdown",
   "metadata": {},
   "source": [
    "Далее поподробнее рассмотрим стобце с пропусками. Посмотрим, какие там значения и как они распределились."
   ]
  },
  {
   "cell_type": "code",
   "execution_count": 7,
   "metadata": {},
   "outputs": [
    {
     "data": {
      "text/plain": [
       "1.0     0.104719\n",
       "2.0     0.104499\n",
       "8.0     0.102629\n",
       "3.0     0.102079\n",
       "5.0     0.101969\n",
       "7.0     0.101749\n",
       "4.0     0.097349\n",
       "9.0     0.097019\n",
       "6.0     0.096909\n",
       "10.0    0.049060\n",
       "0.0     0.042020\n",
       "Name: Tenure, dtype: float64"
      ]
     },
     "execution_count": 7,
     "metadata": {},
     "output_type": "execute_result"
    }
   ],
   "source": [
    "data['Tenure'].value_counts(normalize=True)"
   ]
  },
  {
   "cell_type": "markdown",
   "metadata": {},
   "source": [
    "Заметно, что значения количества недвижимости у клиента распределились в диапазоне от 0 до 10.\n",
    "\n",
    "При этом на каждое значение приходится около 10% выборки, кроме 0 и 10.\n",
    "\n",
    "Отсюда нас может навести на мысль тот факт, что пропущенные значения - это нули и десятки.\n",
    "\n",
    "Сделаем отдельный срез по основному датафрейму с пропусками и посмотрим на их статистику, чтобы попробовать выявить закономерности. "
   ]
  },
  {
   "cell_type": "code",
   "execution_count": 8,
   "metadata": {},
   "outputs": [
    {
     "data": {
      "text/html": [
       "<div>\n",
       "<style scoped>\n",
       "    .dataframe tbody tr th:only-of-type {\n",
       "        vertical-align: middle;\n",
       "    }\n",
       "\n",
       "    .dataframe tbody tr th {\n",
       "        vertical-align: top;\n",
       "    }\n",
       "\n",
       "    .dataframe thead th {\n",
       "        text-align: right;\n",
       "    }\n",
       "</style>\n",
       "<table border=\"1\" class=\"dataframe\">\n",
       "  <thead>\n",
       "    <tr style=\"text-align: right;\">\n",
       "      <th></th>\n",
       "      <th>count</th>\n",
       "      <th>unique</th>\n",
       "      <th>top</th>\n",
       "      <th>freq</th>\n",
       "      <th>mean</th>\n",
       "      <th>std</th>\n",
       "      <th>min</th>\n",
       "      <th>25%</th>\n",
       "      <th>50%</th>\n",
       "      <th>75%</th>\n",
       "      <th>max</th>\n",
       "    </tr>\n",
       "  </thead>\n",
       "  <tbody>\n",
       "    <tr>\n",
       "      <td>RowNumber</td>\n",
       "      <td>909</td>\n",
       "      <td>NaN</td>\n",
       "      <td>NaN</td>\n",
       "      <td>NaN</td>\n",
       "      <td>4866.39</td>\n",
       "      <td>2909.6</td>\n",
       "      <td>31</td>\n",
       "      <td>2311</td>\n",
       "      <td>4887</td>\n",
       "      <td>7306</td>\n",
       "      <td>10000</td>\n",
       "    </tr>\n",
       "    <tr>\n",
       "      <td>CustomerId</td>\n",
       "      <td>909</td>\n",
       "      <td>NaN</td>\n",
       "      <td>NaN</td>\n",
       "      <td>NaN</td>\n",
       "      <td>1.56898e+07</td>\n",
       "      <td>75112.3</td>\n",
       "      <td>1.55658e+07</td>\n",
       "      <td>1.56266e+07</td>\n",
       "      <td>1.56869e+07</td>\n",
       "      <td>1.57568e+07</td>\n",
       "      <td>1.58157e+07</td>\n",
       "    </tr>\n",
       "    <tr>\n",
       "      <td>Surname</td>\n",
       "      <td>909</td>\n",
       "      <td>665</td>\n",
       "      <td>Hughes</td>\n",
       "      <td>7</td>\n",
       "      <td>NaN</td>\n",
       "      <td>NaN</td>\n",
       "      <td>NaN</td>\n",
       "      <td>NaN</td>\n",
       "      <td>NaN</td>\n",
       "      <td>NaN</td>\n",
       "      <td>NaN</td>\n",
       "    </tr>\n",
       "    <tr>\n",
       "      <td>CreditScore</td>\n",
       "      <td>909</td>\n",
       "      <td>NaN</td>\n",
       "      <td>NaN</td>\n",
       "      <td>NaN</td>\n",
       "      <td>648.451</td>\n",
       "      <td>99.0794</td>\n",
       "      <td>359</td>\n",
       "      <td>580</td>\n",
       "      <td>647</td>\n",
       "      <td>718</td>\n",
       "      <td>850</td>\n",
       "    </tr>\n",
       "    <tr>\n",
       "      <td>Geography</td>\n",
       "      <td>909</td>\n",
       "      <td>3</td>\n",
       "      <td>France</td>\n",
       "      <td>464</td>\n",
       "      <td>NaN</td>\n",
       "      <td>NaN</td>\n",
       "      <td>NaN</td>\n",
       "      <td>NaN</td>\n",
       "      <td>NaN</td>\n",
       "      <td>NaN</td>\n",
       "      <td>NaN</td>\n",
       "    </tr>\n",
       "    <tr>\n",
       "      <td>Gender</td>\n",
       "      <td>909</td>\n",
       "      <td>2</td>\n",
       "      <td>Male</td>\n",
       "      <td>483</td>\n",
       "      <td>NaN</td>\n",
       "      <td>NaN</td>\n",
       "      <td>NaN</td>\n",
       "      <td>NaN</td>\n",
       "      <td>NaN</td>\n",
       "      <td>NaN</td>\n",
       "      <td>NaN</td>\n",
       "    </tr>\n",
       "    <tr>\n",
       "      <td>Age</td>\n",
       "      <td>909</td>\n",
       "      <td>NaN</td>\n",
       "      <td>NaN</td>\n",
       "      <td>NaN</td>\n",
       "      <td>38.648</td>\n",
       "      <td>9.78544</td>\n",
       "      <td>18</td>\n",
       "      <td>32</td>\n",
       "      <td>37</td>\n",
       "      <td>43</td>\n",
       "      <td>92</td>\n",
       "    </tr>\n",
       "    <tr>\n",
       "      <td>Tenure</td>\n",
       "      <td>0</td>\n",
       "      <td>NaN</td>\n",
       "      <td>NaN</td>\n",
       "      <td>NaN</td>\n",
       "      <td>NaN</td>\n",
       "      <td>NaN</td>\n",
       "      <td>NaN</td>\n",
       "      <td>NaN</td>\n",
       "      <td>NaN</td>\n",
       "      <td>NaN</td>\n",
       "      <td>NaN</td>\n",
       "    </tr>\n",
       "    <tr>\n",
       "      <td>Balance</td>\n",
       "      <td>909</td>\n",
       "      <td>NaN</td>\n",
       "      <td>NaN</td>\n",
       "      <td>NaN</td>\n",
       "      <td>76117.3</td>\n",
       "      <td>63105.7</td>\n",
       "      <td>0</td>\n",
       "      <td>0</td>\n",
       "      <td>96674.6</td>\n",
       "      <td>128555</td>\n",
       "      <td>206664</td>\n",
       "    </tr>\n",
       "    <tr>\n",
       "      <td>NumOfProducts</td>\n",
       "      <td>909</td>\n",
       "      <td>NaN</td>\n",
       "      <td>NaN</td>\n",
       "      <td>NaN</td>\n",
       "      <td>1.53025</td>\n",
       "      <td>0.588452</td>\n",
       "      <td>1</td>\n",
       "      <td>1</td>\n",
       "      <td>1</td>\n",
       "      <td>2</td>\n",
       "      <td>4</td>\n",
       "    </tr>\n",
       "    <tr>\n",
       "      <td>HasCrCard</td>\n",
       "      <td>909</td>\n",
       "      <td>NaN</td>\n",
       "      <td>NaN</td>\n",
       "      <td>NaN</td>\n",
       "      <td>0.710671</td>\n",
       "      <td>0.453701</td>\n",
       "      <td>0</td>\n",
       "      <td>0</td>\n",
       "      <td>1</td>\n",
       "      <td>1</td>\n",
       "      <td>1</td>\n",
       "    </tr>\n",
       "    <tr>\n",
       "      <td>IsActiveMember</td>\n",
       "      <td>909</td>\n",
       "      <td>NaN</td>\n",
       "      <td>NaN</td>\n",
       "      <td>NaN</td>\n",
       "      <td>0.510451</td>\n",
       "      <td>0.500166</td>\n",
       "      <td>0</td>\n",
       "      <td>0</td>\n",
       "      <td>1</td>\n",
       "      <td>1</td>\n",
       "      <td>1</td>\n",
       "    </tr>\n",
       "    <tr>\n",
       "      <td>EstimatedSalary</td>\n",
       "      <td>909</td>\n",
       "      <td>NaN</td>\n",
       "      <td>NaN</td>\n",
       "      <td>NaN</td>\n",
       "      <td>99180.4</td>\n",
       "      <td>56378.1</td>\n",
       "      <td>106.67</td>\n",
       "      <td>49872.3</td>\n",
       "      <td>99444</td>\n",
       "      <td>145760</td>\n",
       "      <td>199390</td>\n",
       "    </tr>\n",
       "    <tr>\n",
       "      <td>Exited</td>\n",
       "      <td>909</td>\n",
       "      <td>NaN</td>\n",
       "      <td>NaN</td>\n",
       "      <td>NaN</td>\n",
       "      <td>0.20132</td>\n",
       "      <td>0.401207</td>\n",
       "      <td>0</td>\n",
       "      <td>0</td>\n",
       "      <td>0</td>\n",
       "      <td>0</td>\n",
       "      <td>1</td>\n",
       "    </tr>\n",
       "  </tbody>\n",
       "</table>\n",
       "</div>"
      ],
      "text/plain": [
       "                count unique     top freq         mean       std          min  \\\n",
       "RowNumber         909    NaN     NaN  NaN      4866.39    2909.6           31   \n",
       "CustomerId        909    NaN     NaN  NaN  1.56898e+07   75112.3  1.55658e+07   \n",
       "Surname           909    665  Hughes    7          NaN       NaN          NaN   \n",
       "CreditScore       909    NaN     NaN  NaN      648.451   99.0794          359   \n",
       "Geography         909      3  France  464          NaN       NaN          NaN   \n",
       "Gender            909      2    Male  483          NaN       NaN          NaN   \n",
       "Age               909    NaN     NaN  NaN       38.648   9.78544           18   \n",
       "Tenure              0    NaN     NaN  NaN          NaN       NaN          NaN   \n",
       "Balance           909    NaN     NaN  NaN      76117.3   63105.7            0   \n",
       "NumOfProducts     909    NaN     NaN  NaN      1.53025  0.588452            1   \n",
       "HasCrCard         909    NaN     NaN  NaN     0.710671  0.453701            0   \n",
       "IsActiveMember    909    NaN     NaN  NaN     0.510451  0.500166            0   \n",
       "EstimatedSalary   909    NaN     NaN  NaN      99180.4   56378.1       106.67   \n",
       "Exited            909    NaN     NaN  NaN      0.20132  0.401207            0   \n",
       "\n",
       "                         25%          50%          75%          max  \n",
       "RowNumber               2311         4887         7306        10000  \n",
       "CustomerId       1.56266e+07  1.56869e+07  1.57568e+07  1.58157e+07  \n",
       "Surname                  NaN          NaN          NaN          NaN  \n",
       "CreditScore              580          647          718          850  \n",
       "Geography                NaN          NaN          NaN          NaN  \n",
       "Gender                   NaN          NaN          NaN          NaN  \n",
       "Age                       32           37           43           92  \n",
       "Tenure                   NaN          NaN          NaN          NaN  \n",
       "Balance                    0      96674.6       128555       206664  \n",
       "NumOfProducts              1            1            2            4  \n",
       "HasCrCard                  0            1            1            1  \n",
       "IsActiveMember             0            1            1            1  \n",
       "EstimatedSalary      49872.3        99444       145760       199390  \n",
       "Exited                     0            0            0            1  "
      ]
     },
     "execution_count": 8,
     "metadata": {},
     "output_type": "execute_result"
    }
   ],
   "source": [
    "na_tenure = data[data['Tenure'].isna()]\n",
    "na_tenure.describe(include='all').T"
   ]
  },
  {
   "cell_type": "code",
   "execution_count": 9,
   "metadata": {},
   "outputs": [
    {
     "data": {
      "text/plain": [
       "Male      0.531353\n",
       "Female    0.468647\n",
       "Name: Gender, dtype: float64"
      ]
     },
     "execution_count": 9,
     "metadata": {},
     "output_type": "execute_result"
    }
   ],
   "source": [
    "na_tenure['Gender'].value_counts(normalize=True)"
   ]
  },
  {
   "cell_type": "markdown",
   "metadata": {},
   "source": [
    "Мы видим, что средние значения по таким показателям, как кредитный рейтинг, возраст, баланс на счете, предполагаемая зарплата - в целом совпадают по основному датасету и срезу с пропусками. Видимо, закономерности в пропусках нет и мы не сможем заполнить их по другим данным.\n",
    "\n",
    "Важно отметить, что баланс классов в целевом столбце 'Exited' также соответствует основному датасету.\n",
    "\n",
    "Далее посмотрим, на распределение баланса классов в зависимости от значения Tenure."
   ]
  },
  {
   "cell_type": "code",
   "execution_count": 10,
   "metadata": {
    "scrolled": true
   },
   "outputs": [
    {
     "name": "stdout",
     "output_type": "stream",
     "text": [
      "Баланс классов при Tenure = 0\n"
     ]
    },
    {
     "data": {
      "text/plain": [
       "0    0.764398\n",
       "1    0.235602\n",
       "Name: Exited, dtype: float64"
      ]
     },
     "metadata": {},
     "output_type": "display_data"
    },
    {
     "name": "stdout",
     "output_type": "stream",
     "text": [
      "Баланс классов при Tenure = 1\n"
     ]
    },
    {
     "data": {
      "text/plain": [
       "0    0.776261\n",
       "1    0.223739\n",
       "Name: Exited, dtype: float64"
      ]
     },
     "metadata": {},
     "output_type": "display_data"
    },
    {
     "name": "stdout",
     "output_type": "stream",
     "text": [
      "Баланс классов при Tenure = 2\n"
     ]
    },
    {
     "data": {
      "text/plain": [
       "0    0.805263\n",
       "1    0.194737\n",
       "Name: Exited, dtype: float64"
      ]
     },
     "metadata": {},
     "output_type": "display_data"
    },
    {
     "name": "stdout",
     "output_type": "stream",
     "text": [
      "Баланс классов при Tenure = 3\n"
     ]
    },
    {
     "data": {
      "text/plain": [
       "0    0.786638\n",
       "1    0.213362\n",
       "Name: Exited, dtype: float64"
      ]
     },
     "metadata": {},
     "output_type": "display_data"
    },
    {
     "name": "stdout",
     "output_type": "stream",
     "text": [
      "Баланс классов при Tenure = 4\n"
     ]
    },
    {
     "data": {
      "text/plain": [
       "0    0.79209\n",
       "1    0.20791\n",
       "Name: Exited, dtype: float64"
      ]
     },
     "metadata": {},
     "output_type": "display_data"
    },
    {
     "name": "stdout",
     "output_type": "stream",
     "text": [
      "Баланс классов при Tenure = 5\n"
     ]
    },
    {
     "data": {
      "text/plain": [
       "0    0.798274\n",
       "1    0.201726\n",
       "Name: Exited, dtype: float64"
      ]
     },
     "metadata": {},
     "output_type": "display_data"
    },
    {
     "name": "stdout",
     "output_type": "stream",
     "text": [
      "Баланс классов при Tenure = 6\n"
     ]
    },
    {
     "data": {
      "text/plain": [
       "0    0.799092\n",
       "1    0.200908\n",
       "Name: Exited, dtype: float64"
      ]
     },
     "metadata": {},
     "output_type": "display_data"
    },
    {
     "name": "stdout",
     "output_type": "stream",
     "text": [
      "Баланс классов при Tenure = 7\n"
     ]
    },
    {
     "data": {
      "text/plain": [
       "0    0.827027\n",
       "1    0.172973\n",
       "Name: Exited, dtype: float64"
      ]
     },
     "metadata": {},
     "output_type": "display_data"
    },
    {
     "name": "stdout",
     "output_type": "stream",
     "text": [
      "Баланс классов при Tenure = 8\n"
     ]
    },
    {
     "data": {
      "text/plain": [
       "0    0.813505\n",
       "1    0.186495\n",
       "Name: Exited, dtype: float64"
      ]
     },
     "metadata": {},
     "output_type": "display_data"
    },
    {
     "name": "stdout",
     "output_type": "stream",
     "text": [
      "Баланс классов при Tenure = 9\n"
     ]
    },
    {
     "data": {
      "text/plain": [
       "0    0.780045\n",
       "1    0.219955\n",
       "Name: Exited, dtype: float64"
      ]
     },
     "metadata": {},
     "output_type": "display_data"
    },
    {
     "name": "stdout",
     "output_type": "stream",
     "text": [
      "Баланс классов при Tenure = 10\n"
     ]
    },
    {
     "data": {
      "text/plain": [
       "0    0.793722\n",
       "1    0.206278\n",
       "Name: Exited, dtype: float64"
      ]
     },
     "metadata": {},
     "output_type": "display_data"
    }
   ],
   "source": [
    "for i in range(0,11):\n",
    "    print (f'Баланс классов при Tenure = {i}')\n",
    "    display(data[data['Tenure'] == i]['Exited'].value_counts(normalize=True))"
   ]
  },
  {
   "cell_type": "markdown",
   "metadata": {},
   "source": [
    "В целом заметно, что клиенты, у которых не было недвижимости, уходили немного чаще, а клиенты у которых ее было от 7 до 9 - реже. Значит, заполнение медианой может внести искажения в признаки и повредит качеству модели.\n",
    "\n",
    "Поэтому примем решение удалить строки с пропусками.\n",
    "\n",
    "(Изначально я пробовал заполнить медианой, но тогда точность лучшей модели получается 0.6 против 0.63, когда строки с пропусками удалены)."
   ]
  },
  {
   "cell_type": "code",
   "execution_count": 11,
   "metadata": {},
   "outputs": [
    {
     "name": "stdout",
     "output_type": "stream",
     "text": [
      "<class 'pandas.core.frame.DataFrame'>\n",
      "Int64Index: 9091 entries, 0 to 9998\n",
      "Data columns (total 14 columns):\n",
      "RowNumber          9091 non-null int64\n",
      "CustomerId         9091 non-null int64\n",
      "Surname            9091 non-null object\n",
      "CreditScore        9091 non-null int64\n",
      "Geography          9091 non-null object\n",
      "Gender             9091 non-null object\n",
      "Age                9091 non-null int64\n",
      "Tenure             9091 non-null float64\n",
      "Balance            9091 non-null float64\n",
      "NumOfProducts      9091 non-null int64\n",
      "HasCrCard          9091 non-null int64\n",
      "IsActiveMember     9091 non-null int64\n",
      "EstimatedSalary    9091 non-null float64\n",
      "Exited             9091 non-null int64\n",
      "dtypes: float64(3), int64(8), object(3)\n",
      "memory usage: 1.0+ MB\n"
     ]
    }
   ],
   "source": [
    "data = data.dropna(axis=0)\n",
    "data.info()"
   ]
  },
  {
   "cell_type": "markdown",
   "metadata": {},
   "source": [
    "### 1.2 Отбор признаков, кодирование и масштабирование"
   ]
  },
  {
   "cell_type": "markdown",
   "metadata": {},
   "source": [
    "Итак, начнем отбирать признаки для обучения. Во-первых, выделим целевой признак в переменную target."
   ]
  },
  {
   "cell_type": "code",
   "execution_count": 12,
   "metadata": {},
   "outputs": [],
   "source": [
    "target = data['Exited']"
   ]
  },
  {
   "cell_type": "markdown",
   "metadata": {},
   "source": [
    "Затем удалим признаки, которые нам не пригодятся - индекс строки, уникальный id, фамилия, а также целевой признак. Сделаем это для новой переменной features."
   ]
  },
  {
   "cell_type": "code",
   "execution_count": 13,
   "metadata": {},
   "outputs": [
    {
     "data": {
      "text/html": [
       "<div>\n",
       "<style scoped>\n",
       "    .dataframe tbody tr th:only-of-type {\n",
       "        vertical-align: middle;\n",
       "    }\n",
       "\n",
       "    .dataframe tbody tr th {\n",
       "        vertical-align: top;\n",
       "    }\n",
       "\n",
       "    .dataframe thead th {\n",
       "        text-align: right;\n",
       "    }\n",
       "</style>\n",
       "<table border=\"1\" class=\"dataframe\">\n",
       "  <thead>\n",
       "    <tr style=\"text-align: right;\">\n",
       "      <th></th>\n",
       "      <th>CreditScore</th>\n",
       "      <th>Geography</th>\n",
       "      <th>Gender</th>\n",
       "      <th>Age</th>\n",
       "      <th>Tenure</th>\n",
       "      <th>Balance</th>\n",
       "      <th>NumOfProducts</th>\n",
       "      <th>HasCrCard</th>\n",
       "      <th>IsActiveMember</th>\n",
       "      <th>EstimatedSalary</th>\n",
       "    </tr>\n",
       "  </thead>\n",
       "  <tbody>\n",
       "    <tr>\n",
       "      <td>0</td>\n",
       "      <td>619</td>\n",
       "      <td>France</td>\n",
       "      <td>Female</td>\n",
       "      <td>42</td>\n",
       "      <td>2.0</td>\n",
       "      <td>0.00</td>\n",
       "      <td>1</td>\n",
       "      <td>1</td>\n",
       "      <td>1</td>\n",
       "      <td>101348.88</td>\n",
       "    </tr>\n",
       "    <tr>\n",
       "      <td>1</td>\n",
       "      <td>608</td>\n",
       "      <td>Spain</td>\n",
       "      <td>Female</td>\n",
       "      <td>41</td>\n",
       "      <td>1.0</td>\n",
       "      <td>83807.86</td>\n",
       "      <td>1</td>\n",
       "      <td>0</td>\n",
       "      <td>1</td>\n",
       "      <td>112542.58</td>\n",
       "    </tr>\n",
       "    <tr>\n",
       "      <td>2</td>\n",
       "      <td>502</td>\n",
       "      <td>France</td>\n",
       "      <td>Female</td>\n",
       "      <td>42</td>\n",
       "      <td>8.0</td>\n",
       "      <td>159660.80</td>\n",
       "      <td>3</td>\n",
       "      <td>1</td>\n",
       "      <td>0</td>\n",
       "      <td>113931.57</td>\n",
       "    </tr>\n",
       "    <tr>\n",
       "      <td>3</td>\n",
       "      <td>699</td>\n",
       "      <td>France</td>\n",
       "      <td>Female</td>\n",
       "      <td>39</td>\n",
       "      <td>1.0</td>\n",
       "      <td>0.00</td>\n",
       "      <td>2</td>\n",
       "      <td>0</td>\n",
       "      <td>0</td>\n",
       "      <td>93826.63</td>\n",
       "    </tr>\n",
       "    <tr>\n",
       "      <td>4</td>\n",
       "      <td>850</td>\n",
       "      <td>Spain</td>\n",
       "      <td>Female</td>\n",
       "      <td>43</td>\n",
       "      <td>2.0</td>\n",
       "      <td>125510.82</td>\n",
       "      <td>1</td>\n",
       "      <td>1</td>\n",
       "      <td>1</td>\n",
       "      <td>79084.10</td>\n",
       "    </tr>\n",
       "  </tbody>\n",
       "</table>\n",
       "</div>"
      ],
      "text/plain": [
       "   CreditScore Geography  Gender  Age  Tenure    Balance  NumOfProducts  \\\n",
       "0          619    France  Female   42     2.0       0.00              1   \n",
       "1          608     Spain  Female   41     1.0   83807.86              1   \n",
       "2          502    France  Female   42     8.0  159660.80              3   \n",
       "3          699    France  Female   39     1.0       0.00              2   \n",
       "4          850     Spain  Female   43     2.0  125510.82              1   \n",
       "\n",
       "   HasCrCard  IsActiveMember  EstimatedSalary  \n",
       "0          1               1        101348.88  \n",
       "1          0               1        112542.58  \n",
       "2          1               0        113931.57  \n",
       "3          0               0         93826.63  \n",
       "4          1               1         79084.10  "
      ]
     },
     "execution_count": 13,
     "metadata": {},
     "output_type": "execute_result"
    }
   ],
   "source": [
    "features = data.drop(['RowNumber', 'CustomerId', 'Surname', 'Exited'], axis=1)\n",
    "features.head()"
   ]
  },
  {
   "cell_type": "markdown",
   "metadata": {},
   "source": [
    "Затем применим прямое кодирование для преобразования категориальных признаков в количественные для получившегося датасета."
   ]
  },
  {
   "cell_type": "code",
   "execution_count": 14,
   "metadata": {},
   "outputs": [
    {
     "data": {
      "text/html": [
       "<div>\n",
       "<style scoped>\n",
       "    .dataframe tbody tr th:only-of-type {\n",
       "        vertical-align: middle;\n",
       "    }\n",
       "\n",
       "    .dataframe tbody tr th {\n",
       "        vertical-align: top;\n",
       "    }\n",
       "\n",
       "    .dataframe thead th {\n",
       "        text-align: right;\n",
       "    }\n",
       "</style>\n",
       "<table border=\"1\" class=\"dataframe\">\n",
       "  <thead>\n",
       "    <tr style=\"text-align: right;\">\n",
       "      <th></th>\n",
       "      <th>CreditScore</th>\n",
       "      <th>Age</th>\n",
       "      <th>Tenure</th>\n",
       "      <th>Balance</th>\n",
       "      <th>NumOfProducts</th>\n",
       "      <th>HasCrCard</th>\n",
       "      <th>IsActiveMember</th>\n",
       "      <th>EstimatedSalary</th>\n",
       "      <th>Geography_Germany</th>\n",
       "      <th>Geography_Spain</th>\n",
       "      <th>Gender_Male</th>\n",
       "    </tr>\n",
       "  </thead>\n",
       "  <tbody>\n",
       "    <tr>\n",
       "      <td>0</td>\n",
       "      <td>619</td>\n",
       "      <td>42</td>\n",
       "      <td>2.0</td>\n",
       "      <td>0.00</td>\n",
       "      <td>1</td>\n",
       "      <td>1</td>\n",
       "      <td>1</td>\n",
       "      <td>101348.88</td>\n",
       "      <td>0</td>\n",
       "      <td>0</td>\n",
       "      <td>0</td>\n",
       "    </tr>\n",
       "    <tr>\n",
       "      <td>1</td>\n",
       "      <td>608</td>\n",
       "      <td>41</td>\n",
       "      <td>1.0</td>\n",
       "      <td>83807.86</td>\n",
       "      <td>1</td>\n",
       "      <td>0</td>\n",
       "      <td>1</td>\n",
       "      <td>112542.58</td>\n",
       "      <td>0</td>\n",
       "      <td>1</td>\n",
       "      <td>0</td>\n",
       "    </tr>\n",
       "    <tr>\n",
       "      <td>2</td>\n",
       "      <td>502</td>\n",
       "      <td>42</td>\n",
       "      <td>8.0</td>\n",
       "      <td>159660.80</td>\n",
       "      <td>3</td>\n",
       "      <td>1</td>\n",
       "      <td>0</td>\n",
       "      <td>113931.57</td>\n",
       "      <td>0</td>\n",
       "      <td>0</td>\n",
       "      <td>0</td>\n",
       "    </tr>\n",
       "    <tr>\n",
       "      <td>3</td>\n",
       "      <td>699</td>\n",
       "      <td>39</td>\n",
       "      <td>1.0</td>\n",
       "      <td>0.00</td>\n",
       "      <td>2</td>\n",
       "      <td>0</td>\n",
       "      <td>0</td>\n",
       "      <td>93826.63</td>\n",
       "      <td>0</td>\n",
       "      <td>0</td>\n",
       "      <td>0</td>\n",
       "    </tr>\n",
       "    <tr>\n",
       "      <td>4</td>\n",
       "      <td>850</td>\n",
       "      <td>43</td>\n",
       "      <td>2.0</td>\n",
       "      <td>125510.82</td>\n",
       "      <td>1</td>\n",
       "      <td>1</td>\n",
       "      <td>1</td>\n",
       "      <td>79084.10</td>\n",
       "      <td>0</td>\n",
       "      <td>1</td>\n",
       "      <td>0</td>\n",
       "    </tr>\n",
       "    <tr>\n",
       "      <td>...</td>\n",
       "      <td>...</td>\n",
       "      <td>...</td>\n",
       "      <td>...</td>\n",
       "      <td>...</td>\n",
       "      <td>...</td>\n",
       "      <td>...</td>\n",
       "      <td>...</td>\n",
       "      <td>...</td>\n",
       "      <td>...</td>\n",
       "      <td>...</td>\n",
       "      <td>...</td>\n",
       "    </tr>\n",
       "    <tr>\n",
       "      <td>9994</td>\n",
       "      <td>800</td>\n",
       "      <td>29</td>\n",
       "      <td>2.0</td>\n",
       "      <td>0.00</td>\n",
       "      <td>2</td>\n",
       "      <td>0</td>\n",
       "      <td>0</td>\n",
       "      <td>167773.55</td>\n",
       "      <td>0</td>\n",
       "      <td>0</td>\n",
       "      <td>0</td>\n",
       "    </tr>\n",
       "    <tr>\n",
       "      <td>9995</td>\n",
       "      <td>771</td>\n",
       "      <td>39</td>\n",
       "      <td>5.0</td>\n",
       "      <td>0.00</td>\n",
       "      <td>2</td>\n",
       "      <td>1</td>\n",
       "      <td>0</td>\n",
       "      <td>96270.64</td>\n",
       "      <td>0</td>\n",
       "      <td>0</td>\n",
       "      <td>1</td>\n",
       "    </tr>\n",
       "    <tr>\n",
       "      <td>9996</td>\n",
       "      <td>516</td>\n",
       "      <td>35</td>\n",
       "      <td>10.0</td>\n",
       "      <td>57369.61</td>\n",
       "      <td>1</td>\n",
       "      <td>1</td>\n",
       "      <td>1</td>\n",
       "      <td>101699.77</td>\n",
       "      <td>0</td>\n",
       "      <td>0</td>\n",
       "      <td>1</td>\n",
       "    </tr>\n",
       "    <tr>\n",
       "      <td>9997</td>\n",
       "      <td>709</td>\n",
       "      <td>36</td>\n",
       "      <td>7.0</td>\n",
       "      <td>0.00</td>\n",
       "      <td>1</td>\n",
       "      <td>0</td>\n",
       "      <td>1</td>\n",
       "      <td>42085.58</td>\n",
       "      <td>0</td>\n",
       "      <td>0</td>\n",
       "      <td>0</td>\n",
       "    </tr>\n",
       "    <tr>\n",
       "      <td>9998</td>\n",
       "      <td>772</td>\n",
       "      <td>42</td>\n",
       "      <td>3.0</td>\n",
       "      <td>75075.31</td>\n",
       "      <td>2</td>\n",
       "      <td>1</td>\n",
       "      <td>0</td>\n",
       "      <td>92888.52</td>\n",
       "      <td>1</td>\n",
       "      <td>0</td>\n",
       "      <td>1</td>\n",
       "    </tr>\n",
       "  </tbody>\n",
       "</table>\n",
       "<p>9091 rows × 11 columns</p>\n",
       "</div>"
      ],
      "text/plain": [
       "      CreditScore  Age  Tenure    Balance  NumOfProducts  HasCrCard  \\\n",
       "0             619   42     2.0       0.00              1          1   \n",
       "1             608   41     1.0   83807.86              1          0   \n",
       "2             502   42     8.0  159660.80              3          1   \n",
       "3             699   39     1.0       0.00              2          0   \n",
       "4             850   43     2.0  125510.82              1          1   \n",
       "...           ...  ...     ...        ...            ...        ...   \n",
       "9994          800   29     2.0       0.00              2          0   \n",
       "9995          771   39     5.0       0.00              2          1   \n",
       "9996          516   35    10.0   57369.61              1          1   \n",
       "9997          709   36     7.0       0.00              1          0   \n",
       "9998          772   42     3.0   75075.31              2          1   \n",
       "\n",
       "      IsActiveMember  EstimatedSalary  Geography_Germany  Geography_Spain  \\\n",
       "0                  1        101348.88                  0                0   \n",
       "1                  1        112542.58                  0                1   \n",
       "2                  0        113931.57                  0                0   \n",
       "3                  0         93826.63                  0                0   \n",
       "4                  1         79084.10                  0                1   \n",
       "...              ...              ...                ...              ...   \n",
       "9994               0        167773.55                  0                0   \n",
       "9995               0         96270.64                  0                0   \n",
       "9996               1        101699.77                  0                0   \n",
       "9997               1         42085.58                  0                0   \n",
       "9998               0         92888.52                  1                0   \n",
       "\n",
       "      Gender_Male  \n",
       "0               0  \n",
       "1               0  \n",
       "2               0  \n",
       "3               0  \n",
       "4               0  \n",
       "...           ...  \n",
       "9994            0  \n",
       "9995            1  \n",
       "9996            1  \n",
       "9997            0  \n",
       "9998            1  \n",
       "\n",
       "[9091 rows x 11 columns]"
      ]
     },
     "execution_count": 14,
     "metadata": {},
     "output_type": "execute_result"
    }
   ],
   "source": [
    "features = pd.get_dummies(features, drop_first=True)\n",
    "features"
   ]
  },
  {
   "cell_type": "markdown",
   "metadata": {},
   "source": [
    "Далее разделим датасет на три части - обучающую, валидационную и тестовую выборки в соотношении 3:1:1. Также сделаем стратификацию, чтобы значений целевого признака во всех выборках были равны.\n",
    "\n",
    "Воспользуемся функцией train_test_split 2 раза."
   ]
  },
  {
   "cell_type": "code",
   "execution_count": 15,
   "metadata": {},
   "outputs": [],
   "source": [
    "features_train, features_valid_test, target_train, target_valid_test = train_test_split(features, \n",
    "                                        target, test_size=0.4, random_state=1, stratify = target)\n",
    "\n",
    "features_valid, features_test, target_valid, target_test = train_test_split(features_valid_test, \n",
    "                        target_valid_test, test_size=0.5, random_state=1, stratify=target_valid_test)"
   ]
  },
  {
   "cell_type": "markdown",
   "metadata": {},
   "source": [
    "Проверим количество объектов и баланс данных в выборках."
   ]
  },
  {
   "cell_type": "code",
   "execution_count": 16,
   "metadata": {},
   "outputs": [
    {
     "data": {
      "text/plain": [
       "0    4342\n",
       "1    1112\n",
       "Name: Exited, dtype: int64"
      ]
     },
     "metadata": {},
     "output_type": "display_data"
    },
    {
     "data": {
      "text/plain": [
       "0    0.796113\n",
       "1    0.203887\n",
       "Name: Exited, dtype: float64"
      ]
     },
     "metadata": {},
     "output_type": "display_data"
    },
    {
     "data": {
      "text/plain": [
       "0    1447\n",
       "1     371\n",
       "Name: Exited, dtype: int64"
      ]
     },
     "metadata": {},
     "output_type": "display_data"
    },
    {
     "data": {
      "text/plain": [
       "0    0.79593\n",
       "1    0.20407\n",
       "Name: Exited, dtype: float64"
      ]
     },
     "metadata": {},
     "output_type": "display_data"
    },
    {
     "data": {
      "text/plain": [
       "0    1448\n",
       "1     371\n",
       "Name: Exited, dtype: int64"
      ]
     },
     "metadata": {},
     "output_type": "display_data"
    },
    {
     "data": {
      "text/plain": [
       "0    0.796042\n",
       "1    0.203958\n",
       "Name: Exited, dtype: float64"
      ]
     },
     "metadata": {},
     "output_type": "display_data"
    }
   ],
   "source": [
    "for i in [target_train, target_valid, target_test]:\n",
    "    display(i.value_counts(), i.value_counts(normalize=True))"
   ]
  },
  {
   "cell_type": "markdown",
   "metadata": {},
   "source": [
    "Во всех выборках баланс целевого класса на уровне 20.4%. Обучающая выборка содержит 6000 элементов, валидационная и тестовая - по 2000.\n",
    "\n",
    "Далее перейдем к масштабированию количественных признаков, сначала определим их список, в него войдут:\n",
    " - кредитный рейтинг;\n",
    " - возраст;\n",
    " - количество недвижимости;\n",
    " - баланс на счете;\n",
    " - количество продуктов;\n",
    " - предполагаемая зарплата."
   ]
  },
  {
   "cell_type": "code",
   "execution_count": 17,
   "metadata": {},
   "outputs": [],
   "source": [
    "numeric = ['CreditScore', 'Age', 'Tenure', 'Balance', 'NumOfProducts', 'EstimatedSalary']"
   ]
  },
  {
   "cell_type": "markdown",
   "metadata": {},
   "source": [
    "Далее приступим к масштабированию."
   ]
  },
  {
   "cell_type": "code",
   "execution_count": 18,
   "metadata": {},
   "outputs": [],
   "source": [
    "scaler = StandardScaler()"
   ]
  },
  {
   "cell_type": "code",
   "execution_count": 19,
   "metadata": {},
   "outputs": [
    {
     "data": {
      "text/html": [
       "<div>\n",
       "<style scoped>\n",
       "    .dataframe tbody tr th:only-of-type {\n",
       "        vertical-align: middle;\n",
       "    }\n",
       "\n",
       "    .dataframe tbody tr th {\n",
       "        vertical-align: top;\n",
       "    }\n",
       "\n",
       "    .dataframe thead th {\n",
       "        text-align: right;\n",
       "    }\n",
       "</style>\n",
       "<table border=\"1\" class=\"dataframe\">\n",
       "  <thead>\n",
       "    <tr style=\"text-align: right;\">\n",
       "      <th></th>\n",
       "      <th>CreditScore</th>\n",
       "      <th>Age</th>\n",
       "      <th>Tenure</th>\n",
       "      <th>Balance</th>\n",
       "      <th>NumOfProducts</th>\n",
       "      <th>HasCrCard</th>\n",
       "      <th>IsActiveMember</th>\n",
       "      <th>EstimatedSalary</th>\n",
       "      <th>Geography_Germany</th>\n",
       "      <th>Geography_Spain</th>\n",
       "      <th>Gender_Male</th>\n",
       "    </tr>\n",
       "  </thead>\n",
       "  <tbody>\n",
       "    <tr>\n",
       "      <td>6704</td>\n",
       "      <td>-2.233539</td>\n",
       "      <td>0.557747</td>\n",
       "      <td>-0.687192</td>\n",
       "      <td>0.436989</td>\n",
       "      <td>0.820626</td>\n",
       "      <td>1</td>\n",
       "      <td>1</td>\n",
       "      <td>1.456762</td>\n",
       "      <td>1</td>\n",
       "      <td>0</td>\n",
       "      <td>1</td>\n",
       "    </tr>\n",
       "    <tr>\n",
       "      <td>8296</td>\n",
       "      <td>0.442200</td>\n",
       "      <td>-0.479271</td>\n",
       "      <td>0.701836</td>\n",
       "      <td>-1.239915</td>\n",
       "      <td>0.820626</td>\n",
       "      <td>1</td>\n",
       "      <td>0</td>\n",
       "      <td>1.656348</td>\n",
       "      <td>0</td>\n",
       "      <td>0</td>\n",
       "      <td>0</td>\n",
       "    </tr>\n",
       "    <tr>\n",
       "      <td>4696</td>\n",
       "      <td>-0.195378</td>\n",
       "      <td>0.180649</td>\n",
       "      <td>-1.728963</td>\n",
       "      <td>-1.239915</td>\n",
       "      <td>-0.919535</td>\n",
       "      <td>0</td>\n",
       "      <td>0</td>\n",
       "      <td>-0.197118</td>\n",
       "      <td>0</td>\n",
       "      <td>1</td>\n",
       "      <td>0</td>\n",
       "    </tr>\n",
       "    <tr>\n",
       "      <td>174</td>\n",
       "      <td>-1.439179</td>\n",
       "      <td>0.086375</td>\n",
       "      <td>0.007322</td>\n",
       "      <td>-1.239915</td>\n",
       "      <td>0.820626</td>\n",
       "      <td>1</td>\n",
       "      <td>1</td>\n",
       "      <td>0.815105</td>\n",
       "      <td>0</td>\n",
       "      <td>0</td>\n",
       "      <td>1</td>\n",
       "    </tr>\n",
       "    <tr>\n",
       "      <td>8156</td>\n",
       "      <td>-2.254444</td>\n",
       "      <td>3.008879</td>\n",
       "      <td>1.396350</td>\n",
       "      <td>0.680600</td>\n",
       "      <td>-0.919535</td>\n",
       "      <td>1</td>\n",
       "      <td>0</td>\n",
       "      <td>0.458497</td>\n",
       "      <td>1</td>\n",
       "      <td>0</td>\n",
       "      <td>1</td>\n",
       "    </tr>\n",
       "  </tbody>\n",
       "</table>\n",
       "</div>"
      ],
      "text/plain": [
       "      CreditScore       Age    Tenure   Balance  NumOfProducts  HasCrCard  \\\n",
       "6704    -2.233539  0.557747 -0.687192  0.436989       0.820626          1   \n",
       "8296     0.442200 -0.479271  0.701836 -1.239915       0.820626          1   \n",
       "4696    -0.195378  0.180649 -1.728963 -1.239915      -0.919535          0   \n",
       "174     -1.439179  0.086375  0.007322 -1.239915       0.820626          1   \n",
       "8156    -2.254444  3.008879  1.396350  0.680600      -0.919535          1   \n",
       "\n",
       "      IsActiveMember  EstimatedSalary  Geography_Germany  Geography_Spain  \\\n",
       "6704               1         1.456762                  1                0   \n",
       "8296               0         1.656348                  0                0   \n",
       "4696               0        -0.197118                  0                1   \n",
       "174                1         0.815105                  0                0   \n",
       "8156               0         0.458497                  1                0   \n",
       "\n",
       "      Gender_Male  \n",
       "6704            1  \n",
       "8296            0  \n",
       "4696            0  \n",
       "174             1  \n",
       "8156            1  "
      ]
     },
     "execution_count": 19,
     "metadata": {},
     "output_type": "execute_result"
    }
   ],
   "source": [
    "scaler.fit(features_train[numeric])\n",
    "features_train[numeric] = scaler.transform(features_train[numeric])\n",
    "features_valid[numeric] = scaler.transform(features_valid[numeric])\n",
    "features_test[numeric] = scaler.transform(features_test[numeric])\n",
    "features_valid.head()"
   ]
  },
  {
   "cell_type": "markdown",
   "metadata": {},
   "source": [
    "Итак, мы избавились от пропусков в столбце \"Количество недвижимости\".\n",
    "\n",
    "Разбили данные три выборки, провели прямое кодирование и масштабировали признаки.\n",
    "\n",
    "На следующем этапе сделаем обучение модели без учета дисбаланса классов."
   ]
  },
  {
   "cell_type": "markdown",
   "metadata": {},
   "source": [
    "# 2. Исследование задачи"
   ]
  },
  {
   "cell_type": "markdown",
   "metadata": {},
   "source": [
    "Выше мы уже этого касались, но здесь скажем еще раз: в значениях целевого признака есть дисбаланс классов - около 20% приходится на положительные значения целевого класса."
   ]
  },
  {
   "cell_type": "markdown",
   "metadata": {},
   "source": [
    "Вначале определим функцию, которая будет проверять метрики классификации разными алгоритмами на настройках по умолчанию.\n",
    "Рассмотрим все метрики, которые нам известны."
   ]
  },
  {
   "cell_type": "code",
   "execution_count": 20,
   "metadata": {},
   "outputs": [],
   "source": [
    "def default_check(model_type, f_train, t_train, f_valid, t_valid):\n",
    "    model = model_type(random_state=1)\n",
    "    model.fit(f_train, t_train)\n",
    "    model_predictions = model.predict(f_valid)\n",
    "    probabilities_valid = model.predict_proba(f_valid)\n",
    "    probabilities_one_valid = probabilities_valid[:, 1]\n",
    "    print(f'Модель: {model_type}')\n",
    "    print(f'Accuracy :{accuracy_score(t_valid, model_predictions):.3f}')\n",
    "    print(f'Точность: {precision_score(t_valid, model_predictions):.3f}')\n",
    "    print(f'Полнота: {recall_score(t_valid, model_predictions):.3f}')\n",
    "    print(f'F1: {f1_score(t_valid, model_predictions):.3f}')\n",
    "    print(f'AUC-ROC: {roc_auc_score(t_valid, probabilities_one_valid):.3f}')\n",
    "    print('Матрица ошибок')\n",
    "    display(confusion_matrix(t_valid, model_predictions))\n",
    "    print('-'*30)"
   ]
  },
  {
   "cell_type": "markdown",
   "metadata": {},
   "source": [
    "Затем применим эту функцию для трех известных нам алгоритмов - дерева решений, случайного леса и логистической регрессии.\n",
    "\n",
    "Переберем значения в цикле."
   ]
  },
  {
   "cell_type": "code",
   "execution_count": 21,
   "metadata": {
    "scrolled": true
   },
   "outputs": [
    {
     "name": "stdout",
     "output_type": "stream",
     "text": [
      "Модель: <class 'sklearn.tree.tree.DecisionTreeClassifier'>\n",
      "Accuracy :0.792\n",
      "Точность: 0.489\n",
      "Полнота: 0.466\n",
      "F1: 0.477\n",
      "AUC-ROC: 0.671\n",
      "Матрица ошибок\n"
     ]
    },
    {
     "data": {
      "text/plain": [
       "array([[1266,  181],\n",
       "       [ 198,  173]])"
      ]
     },
     "metadata": {},
     "output_type": "display_data"
    },
    {
     "name": "stdout",
     "output_type": "stream",
     "text": [
      "------------------------------\n",
      "Модель: <class 'sklearn.ensemble.forest.RandomForestClassifier'>\n",
      "Accuracy :0.848\n",
      "Точность: 0.709\n",
      "Полнота: 0.434\n",
      "F1: 0.538\n",
      "AUC-ROC: 0.830\n",
      "Матрица ошибок\n"
     ]
    },
    {
     "data": {
      "text/plain": [
       "array([[1381,   66],\n",
       "       [ 210,  161]])"
      ]
     },
     "metadata": {},
     "output_type": "display_data"
    },
    {
     "name": "stdout",
     "output_type": "stream",
     "text": [
      "------------------------------\n",
      "Модель: <class 'sklearn.linear_model.logistic.LogisticRegression'>\n",
      "Accuracy :0.816\n",
      "Точность: 0.661\n",
      "Полнота: 0.205\n",
      "F1: 0.313\n",
      "AUC-ROC: 0.789\n",
      "Матрица ошибок\n"
     ]
    },
    {
     "data": {
      "text/plain": [
       "array([[1408,   39],\n",
       "       [ 295,   76]])"
      ]
     },
     "metadata": {},
     "output_type": "display_data"
    },
    {
     "name": "stdout",
     "output_type": "stream",
     "text": [
      "------------------------------\n"
     ]
    }
   ],
   "source": [
    "for i in [DecisionTreeClassifier, RandomForestClassifier, LogisticRegression]:\n",
    "    default_check(i, features_train, target_train, features_valid, target_valid)"
   ]
  },
  {
   "cell_type": "markdown",
   "metadata": {},
   "source": [
    "Получилось, что интересующая нас более всего F1-мера является наиболее высокой у случайного леса, составляя 0.54.\n",
    "\n",
    "При этом видно, что лес имеет меньшую величину TP-ответов (истинно-положительных) и большую величину FN-ответов, по сравнению с решающим деревом. Этим обусловлена более высокая полнота решающего дерева. \n",
    "\n",
    "Но у дерева очень много FP-ответов (ложноположительных), что приводит к его низкой точности. У леса наблюдается иная картина.\n",
    "\n",
    "Модель, обученная логистической регрессией очень часто выдает нули, что приводит к тому, что у нее самое большое количество TN-ответов, но также больше всех FN-ответов и меньше всех TP-ответов. Как следствие, полнота является худшей."
   ]
  },
  {
   "cell_type": "markdown",
   "metadata": {},
   "source": [
    "# 3. Борьба с дисбалансом"
   ]
  },
  {
   "cell_type": "markdown",
   "metadata": {},
   "source": [
    "### 3.1 Взвешивание классов"
   ]
  },
  {
   "cell_type": "markdown",
   "metadata": {},
   "source": [
    "Итак, нам известно, что в наших данных есть дисбаланс. Попробуем это учесть, сделав взвешивание классов - добавим параметр class_weight = 'balanced в настройки наших алгоритмов."
   ]
  },
  {
   "cell_type": "code",
   "execution_count": 22,
   "metadata": {},
   "outputs": [],
   "source": [
    "def default_check_balanced(model_type, f_train, t_train, f_valid, t_valid):\n",
    "    model = model_type(random_state=1, class_weight = 'balanced')\n",
    "    model.fit(f_train, t_train)\n",
    "    model_predictions = model.predict(f_valid)\n",
    "    probabilities_valid = model.predict_proba(f_valid)\n",
    "    probabilities_one_valid = probabilities_valid[:, 1]\n",
    "    print(f'Модель: {model_type}')\n",
    "    print(f'Accuracy :{accuracy_score(t_valid, model_predictions):.3f}')\n",
    "    print(f'Точность: {precision_score(t_valid, model_predictions):.3f}')\n",
    "    print(f'Полнота: {recall_score(t_valid, model_predictions):.3f}')\n",
    "    print(f'F1: {f1_score(t_valid, model_predictions):.3f}')\n",
    "    print(f'AUC-ROC: {roc_auc_score(t_valid, probabilities_one_valid):.3f}')\n",
    "    print('Матрица ошибок')\n",
    "    display(confusion_matrix(t_valid, model_predictions))\n",
    "    print('-'*30)"
   ]
  },
  {
   "cell_type": "code",
   "execution_count": 23,
   "metadata": {
    "scrolled": true
   },
   "outputs": [
    {
     "name": "stdout",
     "output_type": "stream",
     "text": [
      "Модель: <class 'sklearn.tree.tree.DecisionTreeClassifier'>\n",
      "Accuracy :0.805\n",
      "Точность: 0.524\n",
      "Полнота: 0.464\n",
      "F1: 0.492\n",
      "AUC-ROC: 0.678\n",
      "Матрица ошибок\n"
     ]
    },
    {
     "data": {
      "text/plain": [
       "array([[1291,  156],\n",
       "       [ 199,  172]])"
      ]
     },
     "metadata": {},
     "output_type": "display_data"
    },
    {
     "name": "stdout",
     "output_type": "stream",
     "text": [
      "------------------------------\n",
      "Модель: <class 'sklearn.ensemble.forest.RandomForestClassifier'>\n",
      "Accuracy :0.850\n",
      "Точность: 0.753\n",
      "Полнота: 0.394\n",
      "F1: 0.517\n",
      "AUC-ROC: 0.817\n",
      "Матрица ошибок\n"
     ]
    },
    {
     "data": {
      "text/plain": [
       "array([[1399,   48],\n",
       "       [ 225,  146]])"
      ]
     },
     "metadata": {},
     "output_type": "display_data"
    },
    {
     "name": "stdout",
     "output_type": "stream",
     "text": [
      "------------------------------\n",
      "Модель: <class 'sklearn.linear_model.logistic.LogisticRegression'>\n",
      "Accuracy :0.741\n",
      "Точность: 0.420\n",
      "Полнота: 0.706\n",
      "F1: 0.527\n",
      "AUC-ROC: 0.793\n",
      "Матрица ошибок\n"
     ]
    },
    {
     "data": {
      "text/plain": [
       "array([[1085,  362],\n",
       "       [ 109,  262]])"
      ]
     },
     "metadata": {},
     "output_type": "display_data"
    },
    {
     "name": "stdout",
     "output_type": "stream",
     "text": [
      "------------------------------\n"
     ]
    }
   ],
   "source": [
    "for i in [DecisionTreeClassifier, RandomForestClassifier, LogisticRegression]:\n",
    "    default_check_balanced(i, features_train, target_train, features_valid, target_valid)"
   ]
  },
  {
   "cell_type": "markdown",
   "metadata": {},
   "source": [
    "Мы увидели, что F1 дерева решений выросла, а случайного леса незначительно снизилась.\n",
    "\n",
    "И стремительно выросла F1-мера логистической регрессии, опередив метрику случайного леса. Логистическая регрессия стала более щедро предсказывать положительные значения целевого класса, что привело к увеличению полноты, но снижению точности.\n",
    "\n",
    "Однако метрика AUC-ROC все-таки выше у случайного леса."
   ]
  },
  {
   "cell_type": "markdown",
   "metadata": {},
   "source": [
    "### 3.2 Уменьшение выборки "
   ]
  },
  {
   "cell_type": "markdown",
   "metadata": {},
   "source": [
    "Поскольку мы не достигли целевого значения F1-меры в 0.59, продолжим бороться с дисбалансом и уменьшим выборку, отбросив часть отрицательных объектов.\n",
    "\n",
    "Для этого напишем функцию уменьшения выборки."
   ]
  },
  {
   "cell_type": "code",
   "execution_count": 24,
   "metadata": {},
   "outputs": [],
   "source": [
    "def downsample(features, target, fraction):\n",
    "    features_zeros = features[target == 0]\n",
    "    features_ones = features[target == 1]\n",
    "    target_zeros = target[target == 0]\n",
    "    target_ones = target[target == 1]\n",
    "\n",
    "    features_downsampled = pd.concat(\n",
    "        [features_zeros.sample(frac=fraction, random_state=1)] + [features_ones])\n",
    "    target_downsampled = pd.concat(\n",
    "        [target_zeros.sample(frac=fraction, random_state=1)] + [target_ones])\n",
    "    \n",
    "    features_downsampled, target_downsampled = shuffle(\n",
    "        features_downsampled, target_downsampled, random_state=1)\n",
    "    \n",
    "    return features_downsampled, target_downsampled"
   ]
  },
  {
   "cell_type": "markdown",
   "metadata": {},
   "source": [
    "Выполним уменьшение выборки и создадим нвоые переменные."
   ]
  },
  {
   "cell_type": "code",
   "execution_count": 25,
   "metadata": {},
   "outputs": [],
   "source": [
    "features_train_downsampled, target_train_downsampled = downsample(features_train, target_train, 0.25)"
   ]
  },
  {
   "cell_type": "code",
   "execution_count": 26,
   "metadata": {},
   "outputs": [
    {
     "data": {
      "text/plain": [
       "1    0.505914\n",
       "0    0.494086\n",
       "Name: Exited, dtype: float64"
      ]
     },
     "execution_count": 26,
     "metadata": {},
     "output_type": "execute_result"
    }
   ],
   "source": [
    "target_train_downsampled.value_counts(normalize=True)"
   ]
  },
  {
   "cell_type": "markdown",
   "metadata": {},
   "source": [
    "Как мы видим, теперь классы почти идеально сбалансированы.\n",
    "\n",
    "Проверим наши метрики на уменьшенной выборке. Мы не используем class_weight='balanced', поскольку классы сбалансированы."
   ]
  },
  {
   "cell_type": "code",
   "execution_count": 27,
   "metadata": {
    "scrolled": true
   },
   "outputs": [
    {
     "name": "stdout",
     "output_type": "stream",
     "text": [
      "Модель: <class 'sklearn.tree.tree.DecisionTreeClassifier'>\n",
      "Accuracy :0.707\n",
      "Точность: 0.384\n",
      "Полнота: 0.717\n",
      "F1: 0.500\n",
      "AUC-ROC: 0.711\n",
      "Матрица ошибок\n"
     ]
    },
    {
     "data": {
      "text/plain": [
       "array([[1020,  427],\n",
       "       [ 105,  266]])"
      ]
     },
     "metadata": {},
     "output_type": "display_data"
    },
    {
     "name": "stdout",
     "output_type": "stream",
     "text": [
      "------------------------------\n",
      "Модель: <class 'sklearn.ensemble.forest.RandomForestClassifier'>\n",
      "Accuracy :0.782\n",
      "Точность: 0.477\n",
      "Полнота: 0.701\n",
      "F1: 0.568\n",
      "AUC-ROC: 0.827\n",
      "Матрица ошибок\n"
     ]
    },
    {
     "data": {
      "text/plain": [
       "array([[1162,  285],\n",
       "       [ 111,  260]])"
      ]
     },
     "metadata": {},
     "output_type": "display_data"
    },
    {
     "name": "stdout",
     "output_type": "stream",
     "text": [
      "------------------------------\n",
      "Модель: <class 'sklearn.linear_model.logistic.LogisticRegression'>\n",
      "Accuracy :0.737\n",
      "Точность: 0.416\n",
      "Полнота: 0.717\n",
      "F1: 0.527\n",
      "AUC-ROC: 0.792\n",
      "Матрица ошибок\n"
     ]
    },
    {
     "data": {
      "text/plain": [
       "array([[1074,  373],\n",
       "       [ 105,  266]])"
      ]
     },
     "metadata": {},
     "output_type": "display_data"
    },
    {
     "name": "stdout",
     "output_type": "stream",
     "text": [
      "------------------------------\n"
     ]
    }
   ],
   "source": [
    "for i in [DecisionTreeClassifier, RandomForestClassifier, LogisticRegression]:\n",
    "    default_check(i, features_train_downsampled, target_train_downsampled, features_valid, target_valid)"
   ]
  },
  {
   "cell_type": "markdown",
   "metadata": {},
   "source": [
    "Здесь мы видим, что наибольшего улучшения удалось добиться случайному лесу, при этом у него существенно изменилась матрица ошибок.\n",
    "\n",
    "Лес пожертвовал отрицательными ответами в пользу положительных, что привело к снижению точности, но увеличению полноты. (Выросли TP и FP-ответы, а FN-снизились).\n",
    "\n",
    "Площадь под ROC-кривой у леса продолжила расти.\n",
    "\n",
    "Здесь мы добились прогресса, но все еще не достигли целевого значения F1-меры."
   ]
  },
  {
   "cell_type": "markdown",
   "metadata": {},
   "source": [
    "### 3.3 Увеличение выборки "
   ]
  },
  {
   "cell_type": "markdown",
   "metadata": {},
   "source": [
    "Попробуем увеличить выборку, скопировав положительные объекты целевого класса несколько раз. Напишем функцию."
   ]
  },
  {
   "cell_type": "code",
   "execution_count": 28,
   "metadata": {},
   "outputs": [],
   "source": [
    "def upsample(features, target, repeat):\n",
    "    features_zeros = features[target == 0]\n",
    "    features_ones = features[target == 1]\n",
    "    target_zeros = target[target == 0]\n",
    "    target_ones = target[target == 1]\n",
    "\n",
    "    features_upsampled = pd.concat([features_zeros] + [features_ones] * repeat)\n",
    "    target_upsampled = pd.concat([target_zeros] + [target_ones] * repeat)\n",
    "    \n",
    "    features_upsampled, target_upsampled = shuffle(\n",
    "        features_upsampled, target_upsampled, random_state=1)\n",
    "    \n",
    "    return features_upsampled, target_upsampled"
   ]
  },
  {
   "cell_type": "markdown",
   "metadata": {},
   "source": [
    "Сделаем увеличение выборки, создав новые переменные."
   ]
  },
  {
   "cell_type": "code",
   "execution_count": 29,
   "metadata": {},
   "outputs": [],
   "source": [
    "features_train_upsampled, target_train_upsampled = upsample(features_train, target_train, 4)"
   ]
  },
  {
   "cell_type": "code",
   "execution_count": 30,
   "metadata": {},
   "outputs": [
    {
     "data": {
      "text/plain": [
       "1    0.50603\n",
       "0    0.49397\n",
       "Name: Exited, dtype: float64"
      ]
     },
     "execution_count": 30,
     "metadata": {},
     "output_type": "execute_result"
    }
   ],
   "source": [
    "target_train_upsampled.value_counts(normalize=True)"
   ]
  },
  {
   "cell_type": "markdown",
   "metadata": {},
   "source": [
    "Видим, что классы также почти идеально сбалансированы.\n",
    "\n",
    "Проверим алгоритмы на увеличенной выборке."
   ]
  },
  {
   "cell_type": "code",
   "execution_count": 31,
   "metadata": {
    "scrolled": true
   },
   "outputs": [
    {
     "name": "stdout",
     "output_type": "stream",
     "text": [
      "Модель: <class 'sklearn.tree.tree.DecisionTreeClassifier'>\n",
      "Accuracy :0.799\n",
      "Точность: 0.508\n",
      "Полнота: 0.442\n",
      "F1: 0.473\n",
      "AUC-ROC: 0.666\n",
      "Матрица ошибок\n"
     ]
    },
    {
     "data": {
      "text/plain": [
       "array([[1288,  159],\n",
       "       [ 207,  164]])"
      ]
     },
     "metadata": {},
     "output_type": "display_data"
    },
    {
     "name": "stdout",
     "output_type": "stream",
     "text": [
      "------------------------------\n",
      "Модель: <class 'sklearn.ensemble.forest.RandomForestClassifier'>\n",
      "Accuracy :0.842\n",
      "Точность: 0.646\n",
      "Полнота: 0.496\n",
      "F1: 0.561\n",
      "AUC-ROC: 0.830\n",
      "Матрица ошибок\n"
     ]
    },
    {
     "data": {
      "text/plain": [
       "array([[1346,  101],\n",
       "       [ 187,  184]])"
      ]
     },
     "metadata": {},
     "output_type": "display_data"
    },
    {
     "name": "stdout",
     "output_type": "stream",
     "text": [
      "------------------------------\n",
      "Модель: <class 'sklearn.linear_model.logistic.LogisticRegression'>\n",
      "Accuracy :0.738\n",
      "Точность: 0.417\n",
      "Полнота: 0.714\n",
      "F1: 0.526\n",
      "AUC-ROC: 0.793\n",
      "Матрица ошибок\n"
     ]
    },
    {
     "data": {
      "text/plain": [
       "array([[1076,  371],\n",
       "       [ 106,  265]])"
      ]
     },
     "metadata": {},
     "output_type": "display_data"
    },
    {
     "name": "stdout",
     "output_type": "stream",
     "text": [
      "------------------------------\n"
     ]
    }
   ],
   "source": [
    "for i in [DecisionTreeClassifier, RandomForestClassifier, LogisticRegression]:\n",
    "    default_check(i, features_train_upsampled, target_train_upsampled, features_valid, target_valid)"
   ]
  },
  {
   "cell_type": "markdown",
   "metadata": {},
   "source": [
    "Здесь мы не видим существенной разницы в F1-мерах, по сравнению с уменьшенной выборкой, однако у случайного леса снова поменялась картина.\n",
    "\n",
    "В отличие от уменьшенной выборки, на увеличенных данных лес снова начал показывать высокую точность, пожертвовав полнотой. AUC-ROC незначительно увеличилась, целевую F1 по-прежнему не достигли.\n",
    "\n",
    "Поскольку F1 и AUC-ROC выше у случайного леса, продолжим дальше работать с ним, попробуем изменить гиперпараметры, чтобы повысить F1."
   ]
  },
  {
   "cell_type": "markdown",
   "metadata": {},
   "source": [
    "### 3.4 Подбор гиперпараметров для лучшей модели "
   ]
  },
  {
   "cell_type": "markdown",
   "metadata": {},
   "source": [
    "Итак, попробуем подобрать гиперпараметры для алгоритма случайного леса с целью максимизации F1 меры.\n",
    "\n",
    "Будем менять значения глубины дерева и количества деревьев.\n",
    "\n",
    "Модели будем обучать на увеличенной выборке, а проверять - на валидационной."
   ]
  },
  {
   "cell_type": "code",
   "execution_count": 32,
   "metadata": {},
   "outputs": [
    {
     "name": "stdout",
     "output_type": "stream",
     "text": [
      "CPU times: user 30.4 s, sys: 23.7 ms, total: 30.4 s\n",
      "Wall time: 30.7 s\n"
     ]
    }
   ],
   "source": [
    "%%time \n",
    "\n",
    "best_forest_model = None\n",
    "best_forest_result = 0\n",
    "best_depth_for_forest = 0\n",
    "best_estimators = 0\n",
    "\n",
    "for est in range(20,101,10):\n",
    "    for depth in range(3,10):\n",
    "        forest_model = RandomForestClassifier(random_state=1, max_depth=depth, \n",
    "                                n_estimators=est)\n",
    "            \n",
    "        forest_model.fit(features_train_upsampled, target_train_upsampled)\n",
    "        forest_predictions = forest_model.predict(features_valid)\n",
    "        result = f1_score(target_valid, forest_predictions)\n",
    "            \n",
    "        if result > best_forest_result:\n",
    "                \n",
    "            best_forest_model = forest_model\n",
    "            best_forest_result = result\n",
    "            best_depth_for_forest = depth\n",
    "            best_estimators = est"
   ]
  },
  {
   "cell_type": "code",
   "execution_count": 33,
   "metadata": {},
   "outputs": [
    {
     "data": {
      "text/plain": [
       "RandomForestClassifier(bootstrap=True, class_weight=None, criterion='gini',\n",
       "                       max_depth=7, max_features='auto', max_leaf_nodes=None,\n",
       "                       min_impurity_decrease=0.0, min_impurity_split=None,\n",
       "                       min_samples_leaf=1, min_samples_split=2,\n",
       "                       min_weight_fraction_leaf=0.0, n_estimators=100,\n",
       "                       n_jobs=None, oob_score=False, random_state=1, verbose=0,\n",
       "                       warm_start=False)"
      ]
     },
     "execution_count": 33,
     "metadata": {},
     "output_type": "execute_result"
    }
   ],
   "source": [
    "best_forest_model"
   ]
  },
  {
   "cell_type": "code",
   "execution_count": 34,
   "metadata": {},
   "outputs": [
    {
     "data": {
      "text/plain": [
       "0.6318234610917538"
      ]
     },
     "execution_count": 34,
     "metadata": {},
     "output_type": "execute_result"
    }
   ],
   "source": [
    "best_forest_result"
   ]
  },
  {
   "cell_type": "markdown",
   "metadata": {},
   "source": [
    "Получилось, что лучшая модель случайного леса обладает глубиной дерева равной семи, количеством деревьев равным 100.\n",
    "\n",
    "F1-мера такой модели приблизительно равна 0.63.\n",
    "\n",
    "Посмотрим на итоговые метрики лучшей модели случайного леса.\n",
    "\n",
    "Создадим функцию, которая будет принимать в качестве аргументов обученную модель, признаки и целевые признаки.\n",
    "\n",
    "Внутри нее будем рассчитывать интересующие нас метрики и построим график ROC-кривой."
   ]
  },
  {
   "cell_type": "code",
   "execution_count": 35,
   "metadata": {},
   "outputs": [],
   "source": [
    "def overall_metrics(model,f,t):\n",
    "\n",
    "    model_predictions = model.predict(f)\n",
    "    probabilities_valid = model.predict_proba(f)\n",
    "    probabilities_one_valid = probabilities_valid[:, 1]\n",
    "\n",
    "    print(f'Accuracy :{accuracy_score(t, model_predictions):.3f}')\n",
    "    print(f'Точность: {precision_score(t, model_predictions):.3f}')\n",
    "    print(f'Полнота: {recall_score(t, model_predictions):.3f}')\n",
    "    print(f'F1: {f1_score(t, model_predictions):.3f}')\n",
    "    print(f'AUC-ROC: {roc_auc_score(t, probabilities_one_valid):.3f}')\n",
    "    print('Матрица ошибок')\n",
    "    display(confusion_matrix(t, model_predictions))\n",
    "    print('-'*30)\n",
    "    \n",
    "    fpr, tpr, thresholds = roc_curve(t, probabilities_one_valid)\n",
    "    plt.figure()\n",
    "\n",
    "    plt.plot(fpr, tpr)\n",
    "\n",
    "    plt.plot([0, 1], [0, 1], linestyle='--')\n",
    "\n",
    "    plt.ylim([0.0, 1.0])\n",
    "    plt.xlim([0.0, 1.0])\n",
    "\n",
    "    plt.xlabel('False Positive Rate')\n",
    "    plt.ylabel('True Positive Rate')\n",
    "\n",
    "    plt.title('ROC-кривая')\n",
    "    plt.show()"
   ]
  },
  {
   "cell_type": "markdown",
   "metadata": {},
   "source": [
    "Вызовем ее для лучшей модели случайного леса и валидационной выборки."
   ]
  },
  {
   "cell_type": "code",
   "execution_count": 36,
   "metadata": {},
   "outputs": [
    {
     "name": "stdout",
     "output_type": "stream",
     "text": [
      "Accuracy :0.826\n",
      "Точность: 0.555\n",
      "Полнота: 0.733\n",
      "F1: 0.632\n",
      "AUC-ROC: 0.875\n",
      "Матрица ошибок\n"
     ]
    },
    {
     "data": {
      "text/plain": [
       "array([[1229,  218],\n",
       "       [  99,  272]])"
      ]
     },
     "metadata": {},
     "output_type": "display_data"
    },
    {
     "name": "stdout",
     "output_type": "stream",
     "text": [
      "------------------------------\n"
     ]
    },
    {
     "data": {
      "image/png": "[encoded data removed]",
      "text/plain": [
       "<Figure size 432x288 with 1 Axes>"
      ]
     },
     "metadata": {
      "needs_background": "light"
     },
     "output_type": "display_data"
    }
   ],
   "source": [
    "overall_metrics(best_forest_model, features_valid, target_valid)"
   ]
  },
  {
   "cell_type": "markdown",
   "metadata": {},
   "source": [
    "Также посмотрим, как распределились значения целевого класса в нашей модели и сделаем выводы."
   ]
  },
  {
   "cell_type": "code",
   "execution_count": 37,
   "metadata": {},
   "outputs": [
    {
     "data": {
      "text/plain": [
       "0    0.730473\n",
       "1    0.269527\n",
       "dtype: float64"
      ]
     },
     "execution_count": 37,
     "metadata": {},
     "output_type": "execute_result"
    }
   ],
   "source": [
    "predicted_valid = pd.Series(best_forest_model.predict(features_valid))\n",
    "class_frequency = predicted_valid.value_counts(normalize=True)\n",
    "class_frequency"
   ]
  },
  {
   "cell_type": "markdown",
   "metadata": {},
   "source": [
    "1. Мы видим, что accuracy модели 0.826. Мы помним, что доля значений отрицательного класса в валидационной выборке находится на уровне 79.5%, значит, по сравнению с константной моделью, accuracy нашей модели выше.\n",
    "\n",
    "\n",
    "2. Распределение предсказаний целевого класса показывает, что положительных объектов здесь больше, чем в валидационной выборке. Значит, у модели достаточно большое количество FP-ответов.\n",
    "\n",
    "\n",
    "3. Из-за большого количества FP-ответов точность не очень высокая (0.56), но FN-ответов довольно мало, в связи с чем у модели достаточно высокая полнота (0.73).\n",
    "\n",
    "\n",
    "4. Как следствие, F1 находится выше целевого уровня, составляя 0.63.\n",
    "\n",
    "\n",
    "5. ROC-кривая выглядит достаточно высокой, а площаь под ней составляет 0.875."
   ]
  },
  {
   "cell_type": "markdown",
   "metadata": {},
   "source": [
    "# 4. Тестирование модели"
   ]
  },
  {
   "cell_type": "markdown",
   "metadata": {},
   "source": [
    "Протестируем нашу модель на тестовой выборке."
   ]
  },
  {
   "cell_type": "code",
   "execution_count": 38,
   "metadata": {},
   "outputs": [
    {
     "name": "stdout",
     "output_type": "stream",
     "text": [
      "Accuracy :0.817\n",
      "Точность: 0.536\n",
      "Полнота: 0.768\n",
      "F1: 0.631\n",
      "AUC-ROC: 0.868\n",
      "Матрица ошибок\n"
     ]
    },
    {
     "data": {
      "text/plain": [
       "array([[1201,  247],\n",
       "       [  86,  285]])"
      ]
     },
     "metadata": {},
     "output_type": "display_data"
    },
    {
     "name": "stdout",
     "output_type": "stream",
     "text": [
      "------------------------------\n"
     ]
    },
    {
     "data": {
      "image/png": "[encoded data removed]",
      "text/plain": [
       "<Figure size 432x288 with 1 Axes>"
      ]
     },
     "metadata": {
      "needs_background": "light"
     },
     "output_type": "display_data"
    }
   ],
   "source": [
    "overall_metrics(best_forest_model, features_test, target_test)"
   ]
  },
  {
   "cell_type": "markdown",
   "metadata": {},
   "source": [
    "Здесь, как мы видим, основные метрики качества, кроме полноты, снизились, но это снижение нельзя назвать значительным.\n",
    "\n",
    "Наша модель превысила целевое значение F1-меры в 0.59."
   ]
  },
  {
   "cell_type": "markdown",
   "metadata": {},
   "source": [
    "# Вывод "
   ]
  },
  {
   "cell_type": "markdown",
   "metadata": {},
   "source": [
    "1. Мы подготовили данные к обучению - избавились от пропусков в столбце 'Количество недвижимости', удалив их (заполнение пропусков медианой приводило к меньшему значению меры F1).\n",
    "\n",
    "\n",
    "2. Мы выясниили, что имеем дело с дисбалансом классов - доля положительных объектов в целевом признаке около 20%.\n",
    "\n",
    "\n",
    "3. Мы разбили данные на три выборки, применив стратификацию. Соотношение выборок 3:1:1.\n",
    "\n",
    "\n",
    "4. Обучение моделей алгоритмами дерево решений, случайный лес и логистическая регрессия при дисбалансе классов не позволяли претендовать на достижение целевого значения меры F1 в 0.59\n",
    "\n",
    "\n",
    "5. Взвешивание классов также не решило проблему. Уменьшение выборки (отбрасыванием отрицательных значений целевого признака) и увеличение выборки (копированием положительных значений целевого признака) показало небольшой дальнейший прогресс в увеличении меры F1.\n",
    "\n",
    "\n",
    "6. Мы остановились на алгоритме случайный лес, так как модели, обученные им, имели более высокие значения F1 и AUC-ROC. Подобрали гиперпараметры и обучили лучшую модель при количестве дереьвев = 100, а максимальная глубина дерева = 7. Это позволило достичь значения F1 в 0.63 на валидационной и тестовой выборках.\n",
    "\n",
    "\n",
    "7. ROC - кривая расположена существенно выше случайной модели.\n",
    "\n",
    "\n",
    "8. Кроме этого, наша модель прошла проверку на адекватность - ее accuracy выше, чем у константной модели (0.817 против 0.796)"
   ]
  }
 ],
 "metadata": {
  "kernelspec": {
   "display_name": "Python 3",
   "language": "python",
   "name": "python3"
  },
  "language_info": {
   "codemirror_mode": {
    "name": "ipython",
    "version": 3
   },
   "file_extension": ".py",
   "mimetype": "text/x-python",
   "name": "python",
   "nbconvert_exporter": "python",
   "pygments_lexer": "ipython3",
   "version": "3.7.7"
  },
  "toc": {
   "base_numbering": 1,
   "nav_menu": {},
   "number_sections": true,
   "sideBar": true,
   "skip_h1_title": false,
   "title_cell": "Table of Contents",
   "title_sidebar": "Contents",
   "toc_cell": false,
   "toc_position": {},
   "toc_section_display": true,
   "toc_window_display": false
  }
 },
 "nbformat": 4,
 "nbformat_minor": 2
}
