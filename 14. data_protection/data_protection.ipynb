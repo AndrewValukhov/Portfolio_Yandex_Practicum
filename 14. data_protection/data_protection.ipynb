{
 "cells": [
  {
   "cell_type": "markdown",
   "metadata": {},
   "source": [
    "## Описание проекта\n",
    "\n",
    "Перед нами стоит задача защиты данных клиентов страховой компании \"Non-prudential plc\". Необходимо придумать такой метод преобразования данных, чтобы восстановление исходной информации по трансформированным данным было сложным. Необходимо обосновать корректность его работы.\n",
    "\n",
    "Защиту нужно провести так, чтобы при преобразовании качество моделей машинного обучения не ухудшилось."
   ]
  },
  {
   "cell_type": "markdown",
   "metadata": {},
   "source": [
    "**Содержание проекта**\n",
    "\n",
    "- [1. Загрузка данных](#1.-Загрузка-данных)\n",
    "- [2. Умножение матриц](#2.-Умножение-матриц)\n",
    "- [3. Алгоритм преобразования](#3.-Алгоритм-преобразования)\n",
    " - [3.1 Описание алгоритма](#3.1-Описание-алгоритма)\n",
    " - [3.2 Обоснование алгоритма](#3.2-Обоснование-алгоритма)\n",
    "- [4. Проверка алгоритма](#4.-Проверка-алгоритма)"
   ]
  },
  {
   "cell_type": "markdown",
   "metadata": {},
   "source": [
    "## 1. Загрузка данных"
   ]
  },
  {
   "cell_type": "code",
   "execution_count": 1,
   "metadata": {},
   "outputs": [],
   "source": [
    "import pandas as pd\n",
    "import numpy as np\n",
    "from sklearn.linear_model import LinearRegression\n",
    "from sklearn.model_selection import train_test_split\n",
    "from sklearn.metrics import r2_score, mean_squared_error"
   ]
  },
  {
   "cell_type": "markdown",
   "metadata": {},
   "source": [
    "Загрузим данные и посмотрим на первые строки."
   ]
  },
  {
   "cell_type": "code",
   "execution_count": 2,
   "metadata": {},
   "outputs": [
    {
     "data": {
      "text/html": [
       "<div>\n",
       "<style scoped>\n",
       "    .dataframe tbody tr th:only-of-type {\n",
       "        vertical-align: middle;\n",
       "    }\n",
       "\n",
       "    .dataframe tbody tr th {\n",
       "        vertical-align: top;\n",
       "    }\n",
       "\n",
       "    .dataframe thead th {\n",
       "        text-align: right;\n",
       "    }\n",
       "</style>\n",
       "<table border=\"1\" class=\"dataframe\">\n",
       "  <thead>\n",
       "    <tr style=\"text-align: right;\">\n",
       "      <th></th>\n",
       "      <th>Пол</th>\n",
       "      <th>Возраст</th>\n",
       "      <th>Зарплата</th>\n",
       "      <th>Члены семьи</th>\n",
       "      <th>Страховые выплаты</th>\n",
       "    </tr>\n",
       "  </thead>\n",
       "  <tbody>\n",
       "    <tr>\n",
       "      <td>0</td>\n",
       "      <td>1</td>\n",
       "      <td>41.0</td>\n",
       "      <td>49600.0</td>\n",
       "      <td>1</td>\n",
       "      <td>0</td>\n",
       "    </tr>\n",
       "    <tr>\n",
       "      <td>1</td>\n",
       "      <td>0</td>\n",
       "      <td>46.0</td>\n",
       "      <td>38000.0</td>\n",
       "      <td>1</td>\n",
       "      <td>1</td>\n",
       "    </tr>\n",
       "    <tr>\n",
       "      <td>2</td>\n",
       "      <td>0</td>\n",
       "      <td>29.0</td>\n",
       "      <td>21000.0</td>\n",
       "      <td>0</td>\n",
       "      <td>0</td>\n",
       "    </tr>\n",
       "    <tr>\n",
       "      <td>3</td>\n",
       "      <td>0</td>\n",
       "      <td>21.0</td>\n",
       "      <td>41700.0</td>\n",
       "      <td>2</td>\n",
       "      <td>0</td>\n",
       "    </tr>\n",
       "    <tr>\n",
       "      <td>4</td>\n",
       "      <td>1</td>\n",
       "      <td>28.0</td>\n",
       "      <td>26100.0</td>\n",
       "      <td>0</td>\n",
       "      <td>0</td>\n",
       "    </tr>\n",
       "  </tbody>\n",
       "</table>\n",
       "</div>"
      ],
      "text/plain": [
       "   Пол  Возраст  Зарплата  Члены семьи  Страховые выплаты\n",
       "0    1     41.0   49600.0            1                  0\n",
       "1    0     46.0   38000.0            1                  1\n",
       "2    0     29.0   21000.0            0                  0\n",
       "3    0     21.0   41700.0            2                  0\n",
       "4    1     28.0   26100.0            0                  0"
      ]
     },
     "execution_count": 2,
     "metadata": {},
     "output_type": "execute_result"
    }
   ],
   "source": [
    "data = pd.read_csv('/datasets/insurance.csv')\n",
    "data.head()"
   ]
  },
  {
   "cell_type": "code",
   "execution_count": 3,
   "metadata": {},
   "outputs": [
    {
     "name": "stdout",
     "output_type": "stream",
     "text": [
      "<class 'pandas.core.frame.DataFrame'>\n",
      "RangeIndex: 5000 entries, 0 to 4999\n",
      "Data columns (total 5 columns):\n",
      "Пол                  5000 non-null int64\n",
      "Возраст              5000 non-null float64\n",
      "Зарплата             5000 non-null float64\n",
      "Члены семьи          5000 non-null int64\n",
      "Страховые выплаты    5000 non-null int64\n",
      "dtypes: float64(2), int64(3)\n",
      "memory usage: 195.4 KB\n"
     ]
    }
   ],
   "source": [
    "data.info()"
   ]
  },
  {
   "cell_type": "markdown",
   "metadata": {},
   "source": [
    "Проверим данные на дубликаты."
   ]
  },
  {
   "cell_type": "code",
   "execution_count": 4,
   "metadata": {
    "scrolled": true
   },
   "outputs": [
    {
     "data": {
      "text/plain": [
       "153"
      ]
     },
     "execution_count": 4,
     "metadata": {},
     "output_type": "execute_result"
    }
   ],
   "source": [
    "len(data[data.duplicated()])"
   ]
  },
  {
   "cell_type": "markdown",
   "metadata": {},
   "source": [
    "Удалим их."
   ]
  },
  {
   "cell_type": "code",
   "execution_count": 5,
   "metadata": {},
   "outputs": [],
   "source": [
    "data = data.drop_duplicates().reset_index(drop=True)"
   ]
  },
  {
   "cell_type": "markdown",
   "metadata": {},
   "source": [
    "Приведем признаки 'Возраст', 'Зарплата' к целочисленному типу."
   ]
  },
  {
   "cell_type": "code",
   "execution_count": 6,
   "metadata": {},
   "outputs": [],
   "source": [
    "data[['Возраст','Зарплата']] = data[['Возраст','Зарплата']].astype(int)"
   ]
  },
  {
   "cell_type": "markdown",
   "metadata": {},
   "source": [
    "Поскольку в ближайшем будущем нам придется иметь дело с матрицами и обучением моделей, создадим новые переменные: X - матрица признаков, y - вектор целей."
   ]
  },
  {
   "cell_type": "code",
   "execution_count": 7,
   "metadata": {},
   "outputs": [],
   "source": [
    "features = data.drop('Страховые выплаты', axis = 1)\n",
    "target = data['Страховые выплаты']"
   ]
  },
  {
   "cell_type": "code",
   "execution_count": 8,
   "metadata": {},
   "outputs": [
    {
     "data": {
      "text/plain": [
       "(4847, 4)"
      ]
     },
     "execution_count": 8,
     "metadata": {},
     "output_type": "execute_result"
    }
   ],
   "source": [
    "X = features.values\n",
    "X.shape"
   ]
  },
  {
   "cell_type": "code",
   "execution_count": 9,
   "metadata": {},
   "outputs": [
    {
     "data": {
      "text/plain": [
       "(4847,)"
      ]
     },
     "execution_count": 9,
     "metadata": {},
     "output_type": "execute_result"
    }
   ],
   "source": [
    "y = target.values\n",
    "y.shape"
   ]
  },
  {
   "cell_type": "markdown",
   "metadata": {},
   "source": [
    "## 2. Умножение матриц"
   ]
  },
  {
   "cell_type": "markdown",
   "metadata": {},
   "source": [
    "В этом задании будем записывать формулы в *Jupyter Notebook.*\n",
    "\n",
    "Для примера мы записали формулы линейной регрессии."
   ]
  },
  {
   "cell_type": "markdown",
   "metadata": {},
   "source": [
    "Обозначения:\n",
    "\n",
    "- $X$ — матрица признаков (нулевой столбец состоит из единиц)\n",
    "\n",
    "- $y$ — вектор целевого признака\n",
    "\n",
    "- $P$ — матрица, на которую умножаются признаки\n",
    "\n",
    "- $w$ — вектор весов линейной регрессии (нулевой элемент равен сдвигу)"
   ]
  },
  {
   "cell_type": "markdown",
   "metadata": {},
   "source": [
    "Предсказания:\n",
    "\n",
    "$$\n",
    "a = Xw\n",
    "$$\n",
    "\n",
    "Задача обучения:\n",
    "\n",
    "$$\n",
    "w = \\arg\\min_w MSE(Xw, y)\n",
    "$$\n",
    "\n",
    "Формула обучения:\n",
    "\n",
    "$$\n",
    "w = (X^T X)^{-1} X^T y\n",
    "$$"
   ]
  },
  {
   "cell_type": "markdown",
   "metadata": {},
   "source": [
    "Здесь нам нужно ответить на вопрос о том, изменится ли качество линейной регрессии, если матрицу признаков умножить на обратимую матрицу.\n",
    "\n",
    "По логике, нам нужно, чтобы размер получившейся матрицы соответствовал размеру исходной матрицы признаков. Значит, обратимая матрица должна быть квадратная - в нашем случае иметь размер 4 * 4.\n",
    "\n",
    "Итак, попробуем на формулах посмотреть, что станет с качеством линейной регрессии."
   ]
  },
  {
   "cell_type": "markdown",
   "metadata": {},
   "source": [
    "$$\n",
    "X_1 = X * P\n",
    "$$"
   ]
  },
  {
   "cell_type": "markdown",
   "metadata": {},
   "source": [
    "Представим в формуле обучения $X_1$ в виде произведения $X*P$."
   ]
  },
  {
   "cell_type": "markdown",
   "metadata": {},
   "source": [
    "$$\n",
    "w_1 = (X^T_1X_1)^{-1} X^T_1 y = ((XP)^T XP)^{-1} (XP)^T y\n",
    "$$"
   ]
  },
  {
   "cell_type": "markdown",
   "metadata": {},
   "source": [
    "Используя свойства транспонированных матриц представим транспонированное произведение $(XP)^T$ как произведение транспонированных матриц, взятых в обратном порядке."
   ]
  },
  {
   "cell_type": "markdown",
   "metadata": {},
   "source": [
    "$$\n",
    "w_1 = (P^TX^TXP)^{-1} P^TX^T y\n",
    "$$"
   ]
  },
  {
   "cell_type": "markdown",
   "metadata": {},
   "source": [
    "В первых скобках у нас получилось произведение четырех матриц. Используя свойство ассоциативности, представим это произведение в виде двух множителей - первого и произведения второго, третьего и четвертого."
   ]
  },
  {
   "cell_type": "markdown",
   "metadata": {},
   "source": [
    "$$\n",
    "w_1 = ((P^T)(X^TXP))^{-1} P^TX^T y\n",
    "$$"
   ]
  },
  {
   "cell_type": "markdown",
   "metadata": {},
   "source": [
    "Далее мы видим, что получившиеся множители в больших скобках - это квадратные матрицы. \n",
    "\n",
    "$P^T$ - квадратная, так как мы определили это в начале, это вытекает из условия нашей задачи.\n",
    "\n",
    "$X^TXP$ - квадратная, так как произведение матрицы и транспонированной матрицы - квадратная матрица. Потом эта квадратная матрица умножается на квадратную матрицу $P$, в итоге получачется снова квадратная матрица.\n",
    "\n",
    "Значит, мы можем применить свойство обратных матриц $(AB)^{-1} = B^{-1}A^{-1}$ для квадратных обратимых матриц.\n",
    "\n",
    "Матрица $P$ - обратимая по условию, значит, мы делаем допущение, что матрица $X^TX$ - обратимая, но в каком-то частном случае она может оказаться необратимой.\n",
    "\n",
    "Применяем эти свойства и раскрываем скобки."
   ]
  },
  {
   "cell_type": "markdown",
   "metadata": {},
   "source": [
    "$$\n",
    "w_1 = (X^TXP)^{-1} (P^T)^{-1} P^T X^T y\n",
    "$$"
   ]
  },
  {
   "cell_type": "markdown",
   "metadata": {},
   "source": [
    "Представим произведение в первых скобках как произведение двух матриц по свойству ассоциативности."
   ]
  },
  {
   "cell_type": "markdown",
   "metadata": {},
   "source": [
    "$$\n",
    "w_1 = ((X^TX)P)^{-1} (P^T)^{-1} P^T X^T y\n",
    "$$"
   ]
  },
  {
   "cell_type": "markdown",
   "metadata": {},
   "source": [
    "Снова применяем свойства обратимых квадратных матриц для первых скобок."
   ]
  },
  {
   "cell_type": "markdown",
   "metadata": {},
   "source": [
    "$$\n",
    "w_1 = P^{-1} (X^TX)^{-1} (P^T)^{-1} P^T X^T y\n",
    "$$"
   ]
  },
  {
   "cell_type": "markdown",
   "metadata": {},
   "source": [
    "Поскольку $(P^T)^{-1} P^T = E$, а при умножении любой матрицы на единичную получится эта же матрица, отбросим эти множители."
   ]
  },
  {
   "cell_type": "markdown",
   "metadata": {},
   "source": [
    "$$\n",
    "w_1 = P^{-1} (X^TX)^{-1} X^T y\n",
    "$$"
   ]
  },
  {
   "cell_type": "markdown",
   "metadata": {},
   "source": [
    "После этих преобразований мы видим, что наше выражение содержит формулу обучения, значит:"
   ]
  },
  {
   "cell_type": "markdown",
   "metadata": {},
   "source": [
    "$$\n",
    "w_1 = P^{-1} w\n",
    "$$"
   ]
  },
  {
   "cell_type": "markdown",
   "metadata": {},
   "source": [
    "Проверим по формуле предсказаний $a = Xw$, что с ними произойдет."
   ]
  },
  {
   "cell_type": "markdown",
   "metadata": {},
   "source": [
    "$$\n",
    "a_1 = X_1 w_1 = X P P^{-1} w\n",
    "$$"
   ]
  },
  {
   "cell_type": "markdown",
   "metadata": {},
   "source": [
    "Поскольку произведение обратимых матриц равно единичной матрицу, снова отбрасываем $P P^{-1}$.\n",
    "\n",
    "Остается:"
   ]
  },
  {
   "cell_type": "markdown",
   "metadata": {},
   "source": [
    "$$\n",
    "a_1 = X w = a\n",
    "$$"
   ]
  },
  {
   "cell_type": "markdown",
   "metadata": {},
   "source": [
    "**Ответ:**\n",
    "\n",
    "Значит, предсказания $a_1$ для измененной матрицы признаков равны предсказаниям $a$ для исходной матрицы признаков.\n",
    "\n",
    "Качество линейной регрессии не изменится.\n",
    "\n",
    "Связь параметров в исходной задаче и преобразованной следующая:\n",
    "\n",
    "$$\n",
    "w_1 = P^{-1} w\n",
    "$$\n",
    "\n",
    "Важно еще раз подчеркнуть, что рассуждения справедливы в том случае, если матрица $(X^TX)$ - обратима."
   ]
  },
  {
   "cell_type": "markdown",
   "metadata": {},
   "source": [
    "## 3. Алгоритм преобразования"
   ]
  },
  {
   "cell_type": "markdown",
   "metadata": {},
   "source": [
    "### 3.1 Описание алгоритма"
   ]
  },
  {
   "cell_type": "markdown",
   "metadata": {},
   "source": [
    "1. Сначала проверим, выполняется ли справедливость наших рассуждений, то есть существует ли обратная матрица для $(X^TX)$. Также добавим столбец единиц в матрицу признаков."
   ]
  },
  {
   "cell_type": "code",
   "execution_count": 10,
   "metadata": {},
   "outputs": [],
   "source": [
    "X = np.concatenate((np.ones((X.shape[0], 1)), X), axis=1)"
   ]
  },
  {
   "cell_type": "code",
   "execution_count": 11,
   "metadata": {},
   "outputs": [
    {
     "data": {
      "text/plain": [
       "array([[ 6.87966861e-03, -3.86069397e-04, -9.08230481e-05,\n",
       "        -8.46490836e-08, -2.37726657e-04],\n",
       "       [-3.86069397e-04,  8.25500165e-04, -1.04916414e-07,\n",
       "        -6.32349445e-10,  2.55908411e-06],\n",
       "       [-9.08230481e-05, -1.04916414e-07,  2.86536437e-06,\n",
       "         4.32244219e-11,  2.12726300e-07],\n",
       "       [-8.46490836e-08, -6.32349445e-10,  4.32244219e-11,\n",
       "         2.07798513e-12,  5.98613139e-10],\n",
       "       [-2.37726657e-04,  2.55908411e-06,  2.12726300e-07,\n",
       "         5.98613139e-10,  1.71152624e-04]])"
      ]
     },
     "execution_count": 11,
     "metadata": {},
     "output_type": "execute_result"
    }
   ],
   "source": [
    "np.linalg.inv(X.T.dot(X))"
   ]
  },
  {
   "cell_type": "markdown",
   "metadata": {},
   "source": [
    "Она существует, значит, можно переходить к следующему шагу."
   ]
  },
  {
   "cell_type": "markdown",
   "metadata": {},
   "source": [
    "2. Создаем случайную квадратную матрицу в квадратной размерности количества признаков + 1. Проверяем ее на обратимость."
   ]
  },
  {
   "cell_type": "code",
   "execution_count": 12,
   "metadata": {},
   "outputs": [
    {
     "data": {
      "text/plain": [
       "array([[ 6, 26, 25, 12, 10],\n",
       "       [ 9, 27, 26, 26, 29],\n",
       "       [26, 29, 14,  7, 19],\n",
       "       [26, 19, 26,  8, 25],\n",
       "       [10, 14, 11, 12, 10]])"
      ]
     },
     "metadata": {},
     "output_type": "display_data"
    },
    {
     "data": {
      "text/plain": [
       "array([[-0.0205555 , -0.04702697, -0.00661787,  0.02356362,  0.11059862],\n",
       "       [ 0.0270545 ,  0.01150202,  0.05457962, -0.0437989 , -0.05461439],\n",
       "       [ 0.042366  , -0.02329515, -0.04867335,  0.04427438,  0.00698337],\n",
       "       [-0.02349893, -0.00891439, -0.03667645, -0.01554843,  0.15790699],\n",
       "       [-0.03572468,  0.06724608,  0.02775882,  0.00771114, -0.13130857]])"
      ]
     },
     "metadata": {},
     "output_type": "display_data"
    }
   ],
   "source": [
    "P = np.random.randint(30, size = (5, 5))\n",
    "display(P)\n",
    "display(np.linalg.inv(P))"
   ]
  },
  {
   "cell_type": "markdown",
   "metadata": {},
   "source": [
    "3. На этом этапе исходная матрица признаков умножается на обратимую матрицу P: $X_p = XP$ и вычисляются веса и предсказания для новой матрицы."
   ]
  },
  {
   "cell_type": "markdown",
   "metadata": {},
   "source": [
    "### 3.2 Обоснование алгоритма"
   ]
  },
  {
   "cell_type": "markdown",
   "metadata": {},
   "source": [
    "Ниже попробуем обосновать, почему качество модели не должно пострадать."
   ]
  },
  {
   "cell_type": "markdown",
   "metadata": {},
   "source": [
    "Сначала рассчитаем вектор весов для исходной матрицы по формуле $w = (X^T X)^{-1} X^T y$."
   ]
  },
  {
   "cell_type": "code",
   "execution_count": 13,
   "metadata": {},
   "outputs": [],
   "source": [
    "w = np.linalg.inv(X.T.dot(X)).dot(X.T).dot(y)"
   ]
  },
  {
   "cell_type": "markdown",
   "metadata": {},
   "source": [
    "Затем получим вектор предсказаний по формуле $a = Xw$."
   ]
  },
  {
   "cell_type": "code",
   "execution_count": 14,
   "metadata": {},
   "outputs": [],
   "source": [
    "a = X.dot(w)"
   ]
  },
  {
   "cell_type": "markdown",
   "metadata": {},
   "source": [
    "Затем умножим исходную матрицу на обратимую и получим вектор весов $w_1$ и вектор предсказаний $a_1$."
   ]
  },
  {
   "cell_type": "code",
   "execution_count": 15,
   "metadata": {},
   "outputs": [],
   "source": [
    "X_P = X.dot(P)\n",
    "w1 = np.linalg.inv(X_P.T.dot(X_P)).dot(X_P.T).dot(y)\n",
    "a1 = X_P.dot(w1)"
   ]
  },
  {
   "cell_type": "markdown",
   "metadata": {},
   "source": [
    "Следствием сохранения качества модели может служить отсутсвие различий между векторами предсказания $a$ и $a_1$.\n",
    "\n",
    "Проверим"
   ]
  },
  {
   "cell_type": "code",
   "execution_count": 16,
   "metadata": {},
   "outputs": [
    {
     "data": {
      "text/plain": [
       "1.6515890346336048e-06"
      ]
     },
     "execution_count": 16,
     "metadata": {},
     "output_type": "execute_result"
    }
   ],
   "source": [
    "differences = a1 - a\n",
    "differences.mean()"
   ]
  },
  {
   "cell_type": "markdown",
   "metadata": {},
   "source": [
    "Среднее отклонение в векторах предсказаний получилось малым или, возможно, вообще возникло из-за округлений."
   ]
  },
  {
   "cell_type": "markdown",
   "metadata": {},
   "source": [
    "Следовательно, мы вправе рассчитывать, что качество моделей линейной регрессии не пострадает после операции защиты данных."
   ]
  },
  {
   "cell_type": "markdown",
   "metadata": {},
   "source": [
    "## 4. Проверка алгоритма"
   ]
  },
  {
   "cell_type": "markdown",
   "metadata": {},
   "source": [
    "Итак, от нас требуется запрограммировать алгоритм преобразования данных. \n",
    "\n",
    "Задача поставлена так, что качество модели мы должны проверять на линейной регрессии из sklearn, поэтому не будем создавать собственную модель регрессии, а в алгоритме запрограммируем только проверку обратимости матриц и умножение матрицы признаков на случайную матрицу для защиты."
   ]
  },
  {
   "cell_type": "code",
   "execution_count": 17,
   "metadata": {},
   "outputs": [],
   "source": [
    "class DataProtection:\n",
    "    # Здесь инициализируем матрицу признаков и случайную матрицу, проверим, имеют ли они обратные\n",
    "    def check(self, features):\n",
    "        \n",
    "        self.X_matrix = np.concatenate((np.ones((features.shape[0], 1)), features.values), axis=1)\n",
    "        self.P_matrix = np.random.randint(100,size = (self.X_matrix.shape[1], self.X_matrix.shape[1]))\n",
    "        \n",
    "        if np.linalg.inv(self.X_matrix.T.dot(self.X_matrix)) is not None \\\n",
    "        and np.linalg.inv(self.P_matrix) is not None:\n",
    "            return 'Матрица признаков и случайная матрица созданы, и имеют обратные матрицы'\n",
    "        \n",
    "     # Здесь произведем умножение матрицы признаков на случайную матрицу  \n",
    "    def transform(self):\n",
    "        \n",
    "        X_P_matrix = self.X_matrix.dot(self.P_matrix)\n",
    "        return X_P_matrix\n"
   ]
  },
  {
   "cell_type": "markdown",
   "metadata": {},
   "source": [
    "Начнем проверять алгоритм. Сначала обучим модель на исходных данных."
   ]
  },
  {
   "cell_type": "markdown",
   "metadata": {},
   "source": [
    "Разделим данные на обучающую и тестовую выборку."
   ]
  },
  {
   "cell_type": "code",
   "execution_count": 18,
   "metadata": {},
   "outputs": [],
   "source": [
    "X_train, X_test, y_train, y_test = train_test_split(features, target, test_size = 0.2, random_state=2)"
   ]
  },
  {
   "cell_type": "markdown",
   "metadata": {},
   "source": [
    "Создадим модель линейной регрессии для исходных признаков и проверим ее качество."
   ]
  },
  {
   "cell_type": "code",
   "execution_count": 19,
   "metadata": {},
   "outputs": [
    {
     "name": "stdout",
     "output_type": "stream",
     "text": [
      "R_2 = 0.423\n"
     ]
    }
   ],
   "source": [
    "model = LinearRegression()\n",
    "model.fit(X_train, y_train)\n",
    "predictions = model.predict(X_test)\n",
    "print(f'R_2 = {r2_score(y_test, predictions):.3f}')"
   ]
  },
  {
   "cell_type": "markdown",
   "metadata": {},
   "source": [
    "Итак, коэффициент детерминации на исходных данных - 0.423."
   ]
  },
  {
   "cell_type": "markdown",
   "metadata": {},
   "source": [
    "Далее приступим к проверке. Инициализируем класс DataProtection в переменной protect и проверим, нет ли ошибок в обратных матрицах."
   ]
  },
  {
   "cell_type": "code",
   "execution_count": 20,
   "metadata": {},
   "outputs": [
    {
     "data": {
      "text/plain": [
       "'Матрица признаков и случайная матрица созданы, и имеют обратные матрицы'"
      ]
     },
     "execution_count": 20,
     "metadata": {},
     "output_type": "execute_result"
    }
   ],
   "source": [
    "protect = DataProtection()\n",
    "protect.check(features)"
   ]
  },
  {
   "cell_type": "markdown",
   "metadata": {},
   "source": [
    "Далее непосредственно осуществим защиту данных, умножив матрицу признаков на случайную обратимую матрицу."
   ]
  },
  {
   "cell_type": "code",
   "execution_count": 21,
   "metadata": {},
   "outputs": [],
   "source": [
    "X_P_matrix = protect.transform()"
   ]
  },
  {
   "cell_type": "markdown",
   "metadata": {},
   "source": [
    "Затем еще раз обучим модель линейной регрессии, но уже на защищенных данных."
   ]
  },
  {
   "cell_type": "markdown",
   "metadata": {},
   "source": [
    "Новые данные разобьем на выборки, зафиксировав одинаковый random_state."
   ]
  },
  {
   "cell_type": "code",
   "execution_count": 22,
   "metadata": {},
   "outputs": [],
   "source": [
    "X_P_train, X_P_test, y_P_train, y_P_test = train_test_split(X_P_matrix, y, test_size = 0.2, \n",
    "                                                            random_state=2 )"
   ]
  },
  {
   "cell_type": "markdown",
   "metadata": {},
   "source": [
    "Векторы целей для обучающих выборок совпадают:"
   ]
  },
  {
   "cell_type": "code",
   "execution_count": 23,
   "metadata": {},
   "outputs": [
    {
     "data": {
      "text/plain": [
       "(3877,)"
      ]
     },
     "metadata": {},
     "output_type": "display_data"
    },
    {
     "data": {
      "text/plain": [
       "3877"
      ]
     },
     "execution_count": 23,
     "metadata": {},
     "output_type": "execute_result"
    }
   ],
   "source": [
    "display(y_train.shape)\n",
    "sum(y_P_train == y_train)"
   ]
  },
  {
   "cell_type": "markdown",
   "metadata": {},
   "source": [
    "Создадим модель линейной регрессии для защищенных признаков и проверим качество."
   ]
  },
  {
   "cell_type": "code",
   "execution_count": 24,
   "metadata": {},
   "outputs": [
    {
     "name": "stdout",
     "output_type": "stream",
     "text": [
      "R_2 на защищенных данных = 0.423\n"
     ]
    }
   ],
   "source": [
    "model_P = LinearRegression()\n",
    "model_P.fit(X_P_train, y_P_train)\n",
    "predictions_P = model_P.predict(X_P_test)\n",
    "print(f'R_2 на защищенных данных = {r2_score(y_P_test, predictions_P):.3f}')"
   ]
  },
  {
   "cell_type": "markdown",
   "metadata": {},
   "source": [
    "Коэффициент детерминации для модели линейной регрессии, обученной на защищенных данных, равен тем же 0.423.\n",
    "\n",
    "Соответственно, защита данных произошла, качество модели не пострадало."
   ]
  }
 ],
 "metadata": {
  "kernelspec": {
   "display_name": "Python 3",
   "language": "python",
   "name": "python3"
  },
  "language_info": {
   "codemirror_mode": {
    "name": "ipython",
    "version": 3
   },
   "file_extension": ".py",
   "mimetype": "text/x-python",
   "name": "python",
   "nbconvert_exporter": "python",
   "pygments_lexer": "ipython3",
   "version": "3.7.7"
  },
  "toc": {
   "base_numbering": 1,
   "nav_menu": {},
   "number_sections": true,
   "sideBar": true,
   "skip_h1_title": true,
   "title_cell": "Table of Contents",
   "title_sidebar": "Contents",
   "toc_cell": false,
   "toc_position": {},
   "toc_section_display": true,
   "toc_window_display": false
  }
 },
 "nbformat": 4,
 "nbformat_minor": 2
}
