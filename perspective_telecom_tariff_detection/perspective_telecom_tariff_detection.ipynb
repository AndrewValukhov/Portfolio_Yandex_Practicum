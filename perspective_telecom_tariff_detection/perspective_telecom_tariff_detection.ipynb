{
 "cells": [
  {
   "cell_type": "markdown",
   "metadata": {},
   "source": [
    "# Определение перспективного тарифа для мобильного оператора\n",
    "\n",
    "Мы трудимся в отделе аналитики мобильного операотра «Y-mobile». Клиентам собираются предложить два тарифных плана: «Смарт» и «Ультра». Коммерческий департамент хочет понять, какой тариф прибыльнее, чтобы скорректировать рекламный бюджет.\n",
    "\n",
    "Нам нужно сделать предварительный анализ тарифов на небольшой выборке. Мы располагаем данными 500 пользователей. Необходимо проанализировать данные клиентов и понять, какой тариф может принести больше выручки.\n",
    "\n",
    "**Описание тарифов**\n",
    "\n",
    "**Тариф «Смарт»**\n",
    "\n",
    " - Ежемесячная плата: 550 рублей\n",
    " - Включено 500 минут разговора, 50 сообщений и 15 Гб интернет-трафика\n",
    " \n",
    "Стоимость услуг сверх тарифного пакета:\n",
    " - минута разговора: 3 рубля\n",
    " - сообщение: 3 рубля\n",
    " - 1 Гб интернет-трафика: 200 рублей\n",
    "\n",
    "**Тариф «Ультра»**\n",
    "\n",
    " - Ежемесячная плата: 1950 рублей\n",
    " - Включено 3000 минут разговора, 1000 сообщений и 30 Гб интернет-трафика\n",
    " \n",
    "Стоимость услуг сверх тарифного пакета:\n",
    " - минута разговора: 1 рубль\n",
    " - сообщение: 1 рубль\n",
    " - 1 Гб интернет-трафика: 150 рублей\n",
    "\n",
    "Обратим внимание: оператор всегда округляет вверх значения минут и мегабайтов. Если пользователь проговорил всего 1 секунду, в тарифе засчитывается целая минута."
   ]
  },
  {
   "cell_type": "markdown",
   "metadata": {},
   "source": [
    "**Содержание проекта**\n",
    "- [Шаг 1. Общая информация о данных](#Шаг-1.-Общая-информация-о-данных)\n",
    "- [Шаг 2. Подготовка данных](#Шаг-2.-Подготовка-данных)\n",
    " - [2.1 Приведение данных к нужным типам и исправление ошибок](#2.1-Приведение-данных-к-нужным-типам-и-исправление-ошибок)\n",
    " - [2.2 Расчет показателей для каждого пользователя](#2.2-Расчет-показателей-для-каждого-пользователя)\n",
    " - [2.3 Расчет выручки по абоненту за месяц](#2.3-Расчет-выручки-по-абоненту-за-месяц)\n",
    "- [Шаг 3. Анализ данных](#Шаг-3.-Анализ-данных)\n",
    " - [3.1 Анализ абонентов тарифа smart](#3.1-Анализ-абонентов-тарифа-smart)\n",
    " - [3.2 Анализ абонентов тарифа ultra](#3.2-Анализ-абонентов-тарифа-ultra)\n",
    "- [Шаг 4. Проверка гипотез](#Шаг-4.-Проверка-гипотез)\n",
    " - [4.1 Сравнение средней выручки пользователей тарифов smart и ultra](#4.1-Сравнение-средней-выручки-пользователей-тарифов-smart-и-ultra)\n",
    " - [4.2 Сравнение средней выручки пользователей из Москвы и других регионов](#4.2-Сравнение-средней-выручки-пользователей-из-Москвы-и-других-регионов)\n",
    "- [Шаг 5. Общий вывод](#Шаг-5.-Общий-вывод)"
   ]
  },
  {
   "cell_type": "markdown",
   "metadata": {},
   "source": [
    "**Описание данных**\n",
    "\n",
    "Таблица users (информация о пользователях):\n",
    "\n",
    " - user_id — уникальный идентификатор пользователя\n",
    " - first_name — имя пользователя\n",
    " - last_name — фамилия пользователя\n",
    " - age — возраст пользователя (годы)\n",
    " - reg_date — дата подключения тарифа (день, месяц, год)\n",
    " - churn_date — дата прекращения пользования тарифом (если значение пропущено, то тариф ещё действовал на момент выгрузки данных)\n",
    " - city — город проживания пользователя\n",
    " - tariff — название тарифного плана\n",
    " \n",
    "Таблица calls (информация о звонках):\n",
    "\n",
    " - id — уникальный номер звонка\n",
    " - call_date — дата звонка\n",
    " - duration — длительность звонка в минутах\n",
    " - user_id — идентификатор пользователя, сделавшего звонок\n",
    " \n",
    "Таблица messages (информация о сообщениях):\n",
    "\n",
    " - id — уникальный номер сообщения\n",
    " - message_date — дата сообщения\n",
    " - user_id — идентификатор пользователя, отправившего сообщение\n",
    " \n",
    "Таблица internet (информация об интернет-сессиях):\n",
    "\n",
    " - id — уникальный номер сессии\n",
    " - mb_used — объём потраченного за сессию интернет-трафика (в мегабайтах)\n",
    " - session_date — дата интернет-сессии\n",
    " - user_id — идентификатор пользователя\n",
    " \n",
    "Таблица tariffs (информация о тарифах):\n",
    "\n",
    " - tariff_name — название тарифа\n",
    " - rub_monthly_fee — ежемесячная абонентская плата в рублях\n",
    " - minutes_included — количество минут разговора в месяц, включённых в абонентскую плату\n",
    " - messages_included — количество сообщений в месяц, включённых в абонентскую плату\n",
    " - mb_per_month_included — объём интернет-трафика, включённого в абонентскую плату (в мегабайтах)\n",
    " - rub_per_minute — стоимость минуты разговора сверх тарифного пакета (например, если в тарифе 100 минут разговора в месяц, то со 101 минуты будет взиматься плата)\n",
    " - rub_per_message — стоимость отправки сообщения сверх тарифного пакета\n",
    " - rub_per_gb — стоимость дополнительного гигабайта интернет-трафика сверх тарифного пакета (1 гигабайт = 1024 мегабайта)"
   ]
  },
  {
   "cell_type": "markdown",
   "metadata": {},
   "source": [
    "## Шаг 1. Общая информация о данных"
   ]
  },
  {
   "cell_type": "markdown",
   "metadata": {},
   "source": [
    "Итак, приступим к изучению данных. Начнем по очереди загружать датасеты и применять к ним методы info() и describe()."
   ]
  },
  {
   "cell_type": "code",
   "execution_count": 1,
   "metadata": {},
   "outputs": [],
   "source": [
    "import pandas as pd\n",
    "import math as mt\n",
    "import matplotlib.pyplot as plt\n",
    "import numpy as np\n",
    "from scipy import stats as st\n"
   ]
  },
  {
   "cell_type": "markdown",
   "metadata": {},
   "source": [
    "Начнем с информации о пользователях, датасет users."
   ]
  },
  {
   "cell_type": "code",
   "execution_count": 2,
   "metadata": {},
   "outputs": [],
   "source": [
    "users = pd.read_csv('/datasets/users.csv')"
   ]
  },
  {
   "cell_type": "code",
   "execution_count": 3,
   "metadata": {},
   "outputs": [
    {
     "data": {
      "text/html": [
       "<div>\n",
       "<style scoped>\n",
       "    .dataframe tbody tr th:only-of-type {\n",
       "        vertical-align: middle;\n",
       "    }\n",
       "\n",
       "    .dataframe tbody tr th {\n",
       "        vertical-align: top;\n",
       "    }\n",
       "\n",
       "    .dataframe thead th {\n",
       "        text-align: right;\n",
       "    }\n",
       "</style>\n",
       "<table border=\"1\" class=\"dataframe\">\n",
       "  <thead>\n",
       "    <tr style=\"text-align: right;\">\n",
       "      <th></th>\n",
       "      <th>user_id</th>\n",
       "      <th>age</th>\n",
       "      <th>churn_date</th>\n",
       "      <th>city</th>\n",
       "      <th>first_name</th>\n",
       "      <th>last_name</th>\n",
       "      <th>reg_date</th>\n",
       "      <th>tariff</th>\n",
       "    </tr>\n",
       "  </thead>\n",
       "  <tbody>\n",
       "    <tr>\n",
       "      <th>0</th>\n",
       "      <td>1000</td>\n",
       "      <td>52</td>\n",
       "      <td>NaN</td>\n",
       "      <td>Краснодар</td>\n",
       "      <td>Рафаил</td>\n",
       "      <td>Верещагин</td>\n",
       "      <td>2018-05-25</td>\n",
       "      <td>ultra</td>\n",
       "    </tr>\n",
       "    <tr>\n",
       "      <th>1</th>\n",
       "      <td>1001</td>\n",
       "      <td>41</td>\n",
       "      <td>NaN</td>\n",
       "      <td>Москва</td>\n",
       "      <td>Иван</td>\n",
       "      <td>Ежов</td>\n",
       "      <td>2018-11-01</td>\n",
       "      <td>smart</td>\n",
       "    </tr>\n",
       "    <tr>\n",
       "      <th>2</th>\n",
       "      <td>1002</td>\n",
       "      <td>59</td>\n",
       "      <td>NaN</td>\n",
       "      <td>Стерлитамак</td>\n",
       "      <td>Евгений</td>\n",
       "      <td>Абрамович</td>\n",
       "      <td>2018-06-17</td>\n",
       "      <td>smart</td>\n",
       "    </tr>\n",
       "    <tr>\n",
       "      <th>3</th>\n",
       "      <td>1003</td>\n",
       "      <td>23</td>\n",
       "      <td>NaN</td>\n",
       "      <td>Москва</td>\n",
       "      <td>Белла</td>\n",
       "      <td>Белякова</td>\n",
       "      <td>2018-08-17</td>\n",
       "      <td>ultra</td>\n",
       "    </tr>\n",
       "    <tr>\n",
       "      <th>4</th>\n",
       "      <td>1004</td>\n",
       "      <td>68</td>\n",
       "      <td>NaN</td>\n",
       "      <td>Новокузнецк</td>\n",
       "      <td>Татьяна</td>\n",
       "      <td>Авдеенко</td>\n",
       "      <td>2018-05-14</td>\n",
       "      <td>ultra</td>\n",
       "    </tr>\n",
       "  </tbody>\n",
       "</table>\n",
       "</div>"
      ],
      "text/plain": [
       "   user_id  age churn_date         city first_name  last_name    reg_date  \\\n",
       "0     1000   52        NaN    Краснодар     Рафаил  Верещагин  2018-05-25   \n",
       "1     1001   41        NaN       Москва       Иван       Ежов  2018-11-01   \n",
       "2     1002   59        NaN  Стерлитамак    Евгений  Абрамович  2018-06-17   \n",
       "3     1003   23        NaN       Москва      Белла   Белякова  2018-08-17   \n",
       "4     1004   68        NaN  Новокузнецк    Татьяна   Авдеенко  2018-05-14   \n",
       "\n",
       "  tariff  \n",
       "0  ultra  \n",
       "1  smart  \n",
       "2  smart  \n",
       "3  ultra  \n",
       "4  ultra  "
      ]
     },
     "execution_count": 3,
     "metadata": {},
     "output_type": "execute_result"
    }
   ],
   "source": [
    "users.head(5)"
   ]
  },
  {
   "cell_type": "markdown",
   "metadata": {},
   "source": [
    "Поскольку столбец с индексом и user_id несут в себе уникальную характеристику, то можно индексом этой таблицы установить user_id."
   ]
  },
  {
   "cell_type": "code",
   "execution_count": 4,
   "metadata": {},
   "outputs": [
    {
     "data": {
      "text/html": [
       "<div>\n",
       "<style scoped>\n",
       "    .dataframe tbody tr th:only-of-type {\n",
       "        vertical-align: middle;\n",
       "    }\n",
       "\n",
       "    .dataframe tbody tr th {\n",
       "        vertical-align: top;\n",
       "    }\n",
       "\n",
       "    .dataframe thead th {\n",
       "        text-align: right;\n",
       "    }\n",
       "</style>\n",
       "<table border=\"1\" class=\"dataframe\">\n",
       "  <thead>\n",
       "    <tr style=\"text-align: right;\">\n",
       "      <th></th>\n",
       "      <th>age</th>\n",
       "      <th>churn_date</th>\n",
       "      <th>city</th>\n",
       "      <th>first_name</th>\n",
       "      <th>last_name</th>\n",
       "      <th>reg_date</th>\n",
       "      <th>tariff</th>\n",
       "    </tr>\n",
       "    <tr>\n",
       "      <th>user_id</th>\n",
       "      <th></th>\n",
       "      <th></th>\n",
       "      <th></th>\n",
       "      <th></th>\n",
       "      <th></th>\n",
       "      <th></th>\n",
       "      <th></th>\n",
       "    </tr>\n",
       "  </thead>\n",
       "  <tbody>\n",
       "    <tr>\n",
       "      <th>1000</th>\n",
       "      <td>52</td>\n",
       "      <td>NaN</td>\n",
       "      <td>Краснодар</td>\n",
       "      <td>Рафаил</td>\n",
       "      <td>Верещагин</td>\n",
       "      <td>2018-05-25</td>\n",
       "      <td>ultra</td>\n",
       "    </tr>\n",
       "    <tr>\n",
       "      <th>1001</th>\n",
       "      <td>41</td>\n",
       "      <td>NaN</td>\n",
       "      <td>Москва</td>\n",
       "      <td>Иван</td>\n",
       "      <td>Ежов</td>\n",
       "      <td>2018-11-01</td>\n",
       "      <td>smart</td>\n",
       "    </tr>\n",
       "    <tr>\n",
       "      <th>1002</th>\n",
       "      <td>59</td>\n",
       "      <td>NaN</td>\n",
       "      <td>Стерлитамак</td>\n",
       "      <td>Евгений</td>\n",
       "      <td>Абрамович</td>\n",
       "      <td>2018-06-17</td>\n",
       "      <td>smart</td>\n",
       "    </tr>\n",
       "    <tr>\n",
       "      <th>1003</th>\n",
       "      <td>23</td>\n",
       "      <td>NaN</td>\n",
       "      <td>Москва</td>\n",
       "      <td>Белла</td>\n",
       "      <td>Белякова</td>\n",
       "      <td>2018-08-17</td>\n",
       "      <td>ultra</td>\n",
       "    </tr>\n",
       "    <tr>\n",
       "      <th>1004</th>\n",
       "      <td>68</td>\n",
       "      <td>NaN</td>\n",
       "      <td>Новокузнецк</td>\n",
       "      <td>Татьяна</td>\n",
       "      <td>Авдеенко</td>\n",
       "      <td>2018-05-14</td>\n",
       "      <td>ultra</td>\n",
       "    </tr>\n",
       "  </tbody>\n",
       "</table>\n",
       "</div>"
      ],
      "text/plain": [
       "         age churn_date         city first_name  last_name    reg_date tariff\n",
       "user_id                                                                      \n",
       "1000      52        NaN    Краснодар     Рафаил  Верещагин  2018-05-25  ultra\n",
       "1001      41        NaN       Москва       Иван       Ежов  2018-11-01  smart\n",
       "1002      59        NaN  Стерлитамак    Евгений  Абрамович  2018-06-17  smart\n",
       "1003      23        NaN       Москва      Белла   Белякова  2018-08-17  ultra\n",
       "1004      68        NaN  Новокузнецк    Татьяна   Авдеенко  2018-05-14  ultra"
      ]
     },
     "execution_count": 4,
     "metadata": {},
     "output_type": "execute_result"
    }
   ],
   "source": [
    "users = users.set_index('user_id')\n",
    "users.head()"
   ]
  },
  {
   "cell_type": "code",
   "execution_count": 5,
   "metadata": {},
   "outputs": [
    {
     "name": "stdout",
     "output_type": "stream",
     "text": [
      "<class 'pandas.core.frame.DataFrame'>\n",
      "Int64Index: 500 entries, 1000 to 1499\n",
      "Data columns (total 7 columns):\n",
      " #   Column      Non-Null Count  Dtype \n",
      "---  ------      --------------  ----- \n",
      " 0   age         500 non-null    int64 \n",
      " 1   churn_date  38 non-null     object\n",
      " 2   city        500 non-null    object\n",
      " 3   first_name  500 non-null    object\n",
      " 4   last_name   500 non-null    object\n",
      " 5   reg_date    500 non-null    object\n",
      " 6   tariff      500 non-null    object\n",
      "dtypes: int64(1), object(6)\n",
      "memory usage: 31.2+ KB\n"
     ]
    }
   ],
   "source": [
    "users.info()"
   ]
  },
  {
   "cell_type": "code",
   "execution_count": 6,
   "metadata": {
    "scrolled": true
   },
   "outputs": [
    {
     "data": {
      "text/html": [
       "<div>\n",
       "<style scoped>\n",
       "    .dataframe tbody tr th:only-of-type {\n",
       "        vertical-align: middle;\n",
       "    }\n",
       "\n",
       "    .dataframe tbody tr th {\n",
       "        vertical-align: top;\n",
       "    }\n",
       "\n",
       "    .dataframe thead th {\n",
       "        text-align: right;\n",
       "    }\n",
       "</style>\n",
       "<table border=\"1\" class=\"dataframe\">\n",
       "  <thead>\n",
       "    <tr style=\"text-align: right;\">\n",
       "      <th></th>\n",
       "      <th>age</th>\n",
       "    </tr>\n",
       "  </thead>\n",
       "  <tbody>\n",
       "    <tr>\n",
       "      <th>count</th>\n",
       "      <td>500.00000</td>\n",
       "    </tr>\n",
       "    <tr>\n",
       "      <th>mean</th>\n",
       "      <td>46.58800</td>\n",
       "    </tr>\n",
       "    <tr>\n",
       "      <th>std</th>\n",
       "      <td>16.66763</td>\n",
       "    </tr>\n",
       "    <tr>\n",
       "      <th>min</th>\n",
       "      <td>18.00000</td>\n",
       "    </tr>\n",
       "    <tr>\n",
       "      <th>25%</th>\n",
       "      <td>32.00000</td>\n",
       "    </tr>\n",
       "    <tr>\n",
       "      <th>50%</th>\n",
       "      <td>46.00000</td>\n",
       "    </tr>\n",
       "    <tr>\n",
       "      <th>75%</th>\n",
       "      <td>62.00000</td>\n",
       "    </tr>\n",
       "    <tr>\n",
       "      <th>max</th>\n",
       "      <td>75.00000</td>\n",
       "    </tr>\n",
       "  </tbody>\n",
       "</table>\n",
       "</div>"
      ],
      "text/plain": [
       "             age\n",
       "count  500.00000\n",
       "mean    46.58800\n",
       "std     16.66763\n",
       "min     18.00000\n",
       "25%     32.00000\n",
       "50%     46.00000\n",
       "75%     62.00000\n",
       "max     75.00000"
      ]
     },
     "execution_count": 6,
     "metadata": {},
     "output_type": "execute_result"
    }
   ],
   "source": [
    "users.describe()"
   ]
  },
  {
   "cell_type": "markdown",
   "metadata": {},
   "source": [
    "В столбце churn_date (дата прекращения пользования тарифом) есть пропуски. В дальнейшем, возможно стоит от них избавиться."
   ]
  },
  {
   "cell_type": "markdown",
   "metadata": {},
   "source": [
    "Далее изучим информацию о звонках, датасет calls."
   ]
  },
  {
   "cell_type": "code",
   "execution_count": 7,
   "metadata": {},
   "outputs": [],
   "source": [
    "calls = pd.read_csv('/datasets/calls.csv')"
   ]
  },
  {
   "cell_type": "code",
   "execution_count": 8,
   "metadata": {},
   "outputs": [
    {
     "data": {
      "text/html": [
       "<div>\n",
       "<style scoped>\n",
       "    .dataframe tbody tr th:only-of-type {\n",
       "        vertical-align: middle;\n",
       "    }\n",
       "\n",
       "    .dataframe tbody tr th {\n",
       "        vertical-align: top;\n",
       "    }\n",
       "\n",
       "    .dataframe thead th {\n",
       "        text-align: right;\n",
       "    }\n",
       "</style>\n",
       "<table border=\"1\" class=\"dataframe\">\n",
       "  <thead>\n",
       "    <tr style=\"text-align: right;\">\n",
       "      <th></th>\n",
       "      <th>id</th>\n",
       "      <th>call_date</th>\n",
       "      <th>duration</th>\n",
       "      <th>user_id</th>\n",
       "    </tr>\n",
       "  </thead>\n",
       "  <tbody>\n",
       "    <tr>\n",
       "      <th>0</th>\n",
       "      <td>1000_0</td>\n",
       "      <td>2018-07-25</td>\n",
       "      <td>0.00</td>\n",
       "      <td>1000</td>\n",
       "    </tr>\n",
       "    <tr>\n",
       "      <th>1</th>\n",
       "      <td>1000_1</td>\n",
       "      <td>2018-08-17</td>\n",
       "      <td>0.00</td>\n",
       "      <td>1000</td>\n",
       "    </tr>\n",
       "    <tr>\n",
       "      <th>2</th>\n",
       "      <td>1000_2</td>\n",
       "      <td>2018-06-11</td>\n",
       "      <td>2.85</td>\n",
       "      <td>1000</td>\n",
       "    </tr>\n",
       "    <tr>\n",
       "      <th>3</th>\n",
       "      <td>1000_3</td>\n",
       "      <td>2018-09-21</td>\n",
       "      <td>13.80</td>\n",
       "      <td>1000</td>\n",
       "    </tr>\n",
       "    <tr>\n",
       "      <th>4</th>\n",
       "      <td>1000_4</td>\n",
       "      <td>2018-12-15</td>\n",
       "      <td>5.18</td>\n",
       "      <td>1000</td>\n",
       "    </tr>\n",
       "  </tbody>\n",
       "</table>\n",
       "</div>"
      ],
      "text/plain": [
       "       id   call_date  duration  user_id\n",
       "0  1000_0  2018-07-25      0.00     1000\n",
       "1  1000_1  2018-08-17      0.00     1000\n",
       "2  1000_2  2018-06-11      2.85     1000\n",
       "3  1000_3  2018-09-21     13.80     1000\n",
       "4  1000_4  2018-12-15      5.18     1000"
      ]
     },
     "execution_count": 8,
     "metadata": {},
     "output_type": "execute_result"
    }
   ],
   "source": [
    "calls.head(5)"
   ]
  },
  {
   "cell_type": "code",
   "execution_count": 9,
   "metadata": {},
   "outputs": [
    {
     "name": "stdout",
     "output_type": "stream",
     "text": [
      "<class 'pandas.core.frame.DataFrame'>\n",
      "RangeIndex: 202607 entries, 0 to 202606\n",
      "Data columns (total 4 columns):\n",
      " #   Column     Non-Null Count   Dtype  \n",
      "---  ------     --------------   -----  \n",
      " 0   id         202607 non-null  object \n",
      " 1   call_date  202607 non-null  object \n",
      " 2   duration   202607 non-null  float64\n",
      " 3   user_id    202607 non-null  int64  \n",
      "dtypes: float64(1), int64(1), object(2)\n",
      "memory usage: 6.2+ MB\n"
     ]
    }
   ],
   "source": [
    "calls.info()"
   ]
  },
  {
   "cell_type": "code",
   "execution_count": 10,
   "metadata": {},
   "outputs": [
    {
     "data": {
      "text/html": [
       "<div>\n",
       "<style scoped>\n",
       "    .dataframe tbody tr th:only-of-type {\n",
       "        vertical-align: middle;\n",
       "    }\n",
       "\n",
       "    .dataframe tbody tr th {\n",
       "        vertical-align: top;\n",
       "    }\n",
       "\n",
       "    .dataframe thead th {\n",
       "        text-align: right;\n",
       "    }\n",
       "</style>\n",
       "<table border=\"1\" class=\"dataframe\">\n",
       "  <thead>\n",
       "    <tr style=\"text-align: right;\">\n",
       "      <th></th>\n",
       "      <th>duration</th>\n",
       "      <th>user_id</th>\n",
       "    </tr>\n",
       "  </thead>\n",
       "  <tbody>\n",
       "    <tr>\n",
       "      <th>count</th>\n",
       "      <td>202607.000000</td>\n",
       "      <td>202607.000000</td>\n",
       "    </tr>\n",
       "    <tr>\n",
       "      <th>mean</th>\n",
       "      <td>6.755887</td>\n",
       "      <td>1253.940619</td>\n",
       "    </tr>\n",
       "    <tr>\n",
       "      <th>std</th>\n",
       "      <td>5.843365</td>\n",
       "      <td>144.722751</td>\n",
       "    </tr>\n",
       "    <tr>\n",
       "      <th>min</th>\n",
       "      <td>0.000000</td>\n",
       "      <td>1000.000000</td>\n",
       "    </tr>\n",
       "    <tr>\n",
       "      <th>25%</th>\n",
       "      <td>1.300000</td>\n",
       "      <td>1126.000000</td>\n",
       "    </tr>\n",
       "    <tr>\n",
       "      <th>50%</th>\n",
       "      <td>6.000000</td>\n",
       "      <td>1260.000000</td>\n",
       "    </tr>\n",
       "    <tr>\n",
       "      <th>75%</th>\n",
       "      <td>10.700000</td>\n",
       "      <td>1379.000000</td>\n",
       "    </tr>\n",
       "    <tr>\n",
       "      <th>max</th>\n",
       "      <td>38.000000</td>\n",
       "      <td>1499.000000</td>\n",
       "    </tr>\n",
       "  </tbody>\n",
       "</table>\n",
       "</div>"
      ],
      "text/plain": [
       "            duration        user_id\n",
       "count  202607.000000  202607.000000\n",
       "mean        6.755887    1253.940619\n",
       "std         5.843365     144.722751\n",
       "min         0.000000    1000.000000\n",
       "25%         1.300000    1126.000000\n",
       "50%         6.000000    1260.000000\n",
       "75%        10.700000    1379.000000\n",
       "max        38.000000    1499.000000"
      ]
     },
     "execution_count": 10,
     "metadata": {},
     "output_type": "execute_result"
    }
   ],
   "source": [
    "calls.describe()"
   ]
  },
  {
   "cell_type": "markdown",
   "metadata": {},
   "source": [
    "Пропусков нет."
   ]
  },
  {
   "cell_type": "markdown",
   "metadata": {},
   "source": [
    "Далее изучим информацию о сообщениях, датасет messages."
   ]
  },
  {
   "cell_type": "code",
   "execution_count": 11,
   "metadata": {},
   "outputs": [],
   "source": [
    "messages = pd.read_csv('/datasets/messages.csv')"
   ]
  },
  {
   "cell_type": "code",
   "execution_count": 12,
   "metadata": {},
   "outputs": [
    {
     "data": {
      "text/html": [
       "<div>\n",
       "<style scoped>\n",
       "    .dataframe tbody tr th:only-of-type {\n",
       "        vertical-align: middle;\n",
       "    }\n",
       "\n",
       "    .dataframe tbody tr th {\n",
       "        vertical-align: top;\n",
       "    }\n",
       "\n",
       "    .dataframe thead th {\n",
       "        text-align: right;\n",
       "    }\n",
       "</style>\n",
       "<table border=\"1\" class=\"dataframe\">\n",
       "  <thead>\n",
       "    <tr style=\"text-align: right;\">\n",
       "      <th></th>\n",
       "      <th>id</th>\n",
       "      <th>message_date</th>\n",
       "      <th>user_id</th>\n",
       "    </tr>\n",
       "  </thead>\n",
       "  <tbody>\n",
       "    <tr>\n",
       "      <th>0</th>\n",
       "      <td>1000_0</td>\n",
       "      <td>2018-06-27</td>\n",
       "      <td>1000</td>\n",
       "    </tr>\n",
       "    <tr>\n",
       "      <th>1</th>\n",
       "      <td>1000_1</td>\n",
       "      <td>2018-10-08</td>\n",
       "      <td>1000</td>\n",
       "    </tr>\n",
       "    <tr>\n",
       "      <th>2</th>\n",
       "      <td>1000_2</td>\n",
       "      <td>2018-08-04</td>\n",
       "      <td>1000</td>\n",
       "    </tr>\n",
       "    <tr>\n",
       "      <th>3</th>\n",
       "      <td>1000_3</td>\n",
       "      <td>2018-06-16</td>\n",
       "      <td>1000</td>\n",
       "    </tr>\n",
       "    <tr>\n",
       "      <th>4</th>\n",
       "      <td>1000_4</td>\n",
       "      <td>2018-12-05</td>\n",
       "      <td>1000</td>\n",
       "    </tr>\n",
       "  </tbody>\n",
       "</table>\n",
       "</div>"
      ],
      "text/plain": [
       "       id message_date  user_id\n",
       "0  1000_0   2018-06-27     1000\n",
       "1  1000_1   2018-10-08     1000\n",
       "2  1000_2   2018-08-04     1000\n",
       "3  1000_3   2018-06-16     1000\n",
       "4  1000_4   2018-12-05     1000"
      ]
     },
     "execution_count": 12,
     "metadata": {},
     "output_type": "execute_result"
    }
   ],
   "source": [
    "messages.head(5)"
   ]
  },
  {
   "cell_type": "code",
   "execution_count": 13,
   "metadata": {},
   "outputs": [
    {
     "name": "stdout",
     "output_type": "stream",
     "text": [
      "<class 'pandas.core.frame.DataFrame'>\n",
      "RangeIndex: 123036 entries, 0 to 123035\n",
      "Data columns (total 3 columns):\n",
      " #   Column        Non-Null Count   Dtype \n",
      "---  ------        --------------   ----- \n",
      " 0   id            123036 non-null  object\n",
      " 1   message_date  123036 non-null  object\n",
      " 2   user_id       123036 non-null  int64 \n",
      "dtypes: int64(1), object(2)\n",
      "memory usage: 2.8+ MB\n"
     ]
    }
   ],
   "source": [
    "messages.info()"
   ]
  },
  {
   "cell_type": "code",
   "execution_count": 14,
   "metadata": {
    "scrolled": false
   },
   "outputs": [
    {
     "data": {
      "text/html": [
       "<div>\n",
       "<style scoped>\n",
       "    .dataframe tbody tr th:only-of-type {\n",
       "        vertical-align: middle;\n",
       "    }\n",
       "\n",
       "    .dataframe tbody tr th {\n",
       "        vertical-align: top;\n",
       "    }\n",
       "\n",
       "    .dataframe thead th {\n",
       "        text-align: right;\n",
       "    }\n",
       "</style>\n",
       "<table border=\"1\" class=\"dataframe\">\n",
       "  <thead>\n",
       "    <tr style=\"text-align: right;\">\n",
       "      <th></th>\n",
       "      <th>user_id</th>\n",
       "    </tr>\n",
       "  </thead>\n",
       "  <tbody>\n",
       "    <tr>\n",
       "      <th>count</th>\n",
       "      <td>123036.000000</td>\n",
       "    </tr>\n",
       "    <tr>\n",
       "      <th>mean</th>\n",
       "      <td>1256.989410</td>\n",
       "    </tr>\n",
       "    <tr>\n",
       "      <th>std</th>\n",
       "      <td>143.523967</td>\n",
       "    </tr>\n",
       "    <tr>\n",
       "      <th>min</th>\n",
       "      <td>1000.000000</td>\n",
       "    </tr>\n",
       "    <tr>\n",
       "      <th>25%</th>\n",
       "      <td>1134.000000</td>\n",
       "    </tr>\n",
       "    <tr>\n",
       "      <th>50%</th>\n",
       "      <td>1271.000000</td>\n",
       "    </tr>\n",
       "    <tr>\n",
       "      <th>75%</th>\n",
       "      <td>1381.000000</td>\n",
       "    </tr>\n",
       "    <tr>\n",
       "      <th>max</th>\n",
       "      <td>1499.000000</td>\n",
       "    </tr>\n",
       "  </tbody>\n",
       "</table>\n",
       "</div>"
      ],
      "text/plain": [
       "             user_id\n",
       "count  123036.000000\n",
       "mean     1256.989410\n",
       "std       143.523967\n",
       "min      1000.000000\n",
       "25%      1134.000000\n",
       "50%      1271.000000\n",
       "75%      1381.000000\n",
       "max      1499.000000"
      ]
     },
     "execution_count": 14,
     "metadata": {},
     "output_type": "execute_result"
    }
   ],
   "source": [
    "messages.describe()"
   ]
  },
  {
   "cell_type": "markdown",
   "metadata": {},
   "source": [
    "В данных о сообщениях также пропусков нет."
   ]
  },
  {
   "cell_type": "markdown",
   "metadata": {},
   "source": [
    "Проанализируем данные об интернет-сессиях. Датасет internet."
   ]
  },
  {
   "cell_type": "code",
   "execution_count": 15,
   "metadata": {},
   "outputs": [],
   "source": [
    "internet = pd.read_csv('/datasets/internet.csv')"
   ]
  },
  {
   "cell_type": "code",
   "execution_count": 16,
   "metadata": {},
   "outputs": [
    {
     "data": {
      "text/html": [
       "<div>\n",
       "<style scoped>\n",
       "    .dataframe tbody tr th:only-of-type {\n",
       "        vertical-align: middle;\n",
       "    }\n",
       "\n",
       "    .dataframe tbody tr th {\n",
       "        vertical-align: top;\n",
       "    }\n",
       "\n",
       "    .dataframe thead th {\n",
       "        text-align: right;\n",
       "    }\n",
       "</style>\n",
       "<table border=\"1\" class=\"dataframe\">\n",
       "  <thead>\n",
       "    <tr style=\"text-align: right;\">\n",
       "      <th></th>\n",
       "      <th>Unnamed: 0</th>\n",
       "      <th>id</th>\n",
       "      <th>mb_used</th>\n",
       "      <th>session_date</th>\n",
       "      <th>user_id</th>\n",
       "    </tr>\n",
       "  </thead>\n",
       "  <tbody>\n",
       "    <tr>\n",
       "      <th>0</th>\n",
       "      <td>0</td>\n",
       "      <td>1000_0</td>\n",
       "      <td>112.95</td>\n",
       "      <td>2018-11-25</td>\n",
       "      <td>1000</td>\n",
       "    </tr>\n",
       "    <tr>\n",
       "      <th>1</th>\n",
       "      <td>1</td>\n",
       "      <td>1000_1</td>\n",
       "      <td>1052.81</td>\n",
       "      <td>2018-09-07</td>\n",
       "      <td>1000</td>\n",
       "    </tr>\n",
       "    <tr>\n",
       "      <th>2</th>\n",
       "      <td>2</td>\n",
       "      <td>1000_2</td>\n",
       "      <td>1197.26</td>\n",
       "      <td>2018-06-25</td>\n",
       "      <td>1000</td>\n",
       "    </tr>\n",
       "    <tr>\n",
       "      <th>3</th>\n",
       "      <td>3</td>\n",
       "      <td>1000_3</td>\n",
       "      <td>550.27</td>\n",
       "      <td>2018-08-22</td>\n",
       "      <td>1000</td>\n",
       "    </tr>\n",
       "    <tr>\n",
       "      <th>4</th>\n",
       "      <td>4</td>\n",
       "      <td>1000_4</td>\n",
       "      <td>302.56</td>\n",
       "      <td>2018-09-24</td>\n",
       "      <td>1000</td>\n",
       "    </tr>\n",
       "  </tbody>\n",
       "</table>\n",
       "</div>"
      ],
      "text/plain": [
       "   Unnamed: 0      id  mb_used session_date  user_id\n",
       "0           0  1000_0   112.95   2018-11-25     1000\n",
       "1           1  1000_1  1052.81   2018-09-07     1000\n",
       "2           2  1000_2  1197.26   2018-06-25     1000\n",
       "3           3  1000_3   550.27   2018-08-22     1000\n",
       "4           4  1000_4   302.56   2018-09-24     1000"
      ]
     },
     "execution_count": 16,
     "metadata": {},
     "output_type": "execute_result"
    }
   ],
   "source": [
    "internet.head(5)"
   ]
  },
  {
   "cell_type": "code",
   "execution_count": 17,
   "metadata": {},
   "outputs": [
    {
     "name": "stdout",
     "output_type": "stream",
     "text": [
      "<class 'pandas.core.frame.DataFrame'>\n",
      "RangeIndex: 149396 entries, 0 to 149395\n",
      "Data columns (total 5 columns):\n",
      " #   Column        Non-Null Count   Dtype  \n",
      "---  ------        --------------   -----  \n",
      " 0   Unnamed: 0    149396 non-null  int64  \n",
      " 1   id            149396 non-null  object \n",
      " 2   mb_used       149396 non-null  float64\n",
      " 3   session_date  149396 non-null  object \n",
      " 4   user_id       149396 non-null  int64  \n",
      "dtypes: float64(1), int64(2), object(2)\n",
      "memory usage: 5.7+ MB\n"
     ]
    }
   ],
   "source": [
    "internet.info()"
   ]
  },
  {
   "cell_type": "code",
   "execution_count": 18,
   "metadata": {},
   "outputs": [
    {
     "data": {
      "text/html": [
       "<div>\n",
       "<style scoped>\n",
       "    .dataframe tbody tr th:only-of-type {\n",
       "        vertical-align: middle;\n",
       "    }\n",
       "\n",
       "    .dataframe tbody tr th {\n",
       "        vertical-align: top;\n",
       "    }\n",
       "\n",
       "    .dataframe thead th {\n",
       "        text-align: right;\n",
       "    }\n",
       "</style>\n",
       "<table border=\"1\" class=\"dataframe\">\n",
       "  <thead>\n",
       "    <tr style=\"text-align: right;\">\n",
       "      <th></th>\n",
       "      <th>Unnamed: 0</th>\n",
       "      <th>mb_used</th>\n",
       "      <th>user_id</th>\n",
       "    </tr>\n",
       "  </thead>\n",
       "  <tbody>\n",
       "    <tr>\n",
       "      <th>count</th>\n",
       "      <td>149396.000000</td>\n",
       "      <td>149396.000000</td>\n",
       "      <td>149396.000000</td>\n",
       "    </tr>\n",
       "    <tr>\n",
       "      <th>mean</th>\n",
       "      <td>74697.500000</td>\n",
       "      <td>370.192426</td>\n",
       "      <td>1252.099842</td>\n",
       "    </tr>\n",
       "    <tr>\n",
       "      <th>std</th>\n",
       "      <td>43127.054745</td>\n",
       "      <td>278.300951</td>\n",
       "      <td>144.050823</td>\n",
       "    </tr>\n",
       "    <tr>\n",
       "      <th>min</th>\n",
       "      <td>0.000000</td>\n",
       "      <td>0.000000</td>\n",
       "      <td>1000.000000</td>\n",
       "    </tr>\n",
       "    <tr>\n",
       "      <th>25%</th>\n",
       "      <td>37348.750000</td>\n",
       "      <td>138.187500</td>\n",
       "      <td>1130.000000</td>\n",
       "    </tr>\n",
       "    <tr>\n",
       "      <th>50%</th>\n",
       "      <td>74697.500000</td>\n",
       "      <td>348.015000</td>\n",
       "      <td>1251.000000</td>\n",
       "    </tr>\n",
       "    <tr>\n",
       "      <th>75%</th>\n",
       "      <td>112046.250000</td>\n",
       "      <td>559.552500</td>\n",
       "      <td>1380.000000</td>\n",
       "    </tr>\n",
       "    <tr>\n",
       "      <th>max</th>\n",
       "      <td>149395.000000</td>\n",
       "      <td>1724.830000</td>\n",
       "      <td>1499.000000</td>\n",
       "    </tr>\n",
       "  </tbody>\n",
       "</table>\n",
       "</div>"
      ],
      "text/plain": [
       "          Unnamed: 0        mb_used        user_id\n",
       "count  149396.000000  149396.000000  149396.000000\n",
       "mean    74697.500000     370.192426    1252.099842\n",
       "std     43127.054745     278.300951     144.050823\n",
       "min         0.000000       0.000000    1000.000000\n",
       "25%     37348.750000     138.187500    1130.000000\n",
       "50%     74697.500000     348.015000    1251.000000\n",
       "75%    112046.250000     559.552500    1380.000000\n",
       "max    149395.000000    1724.830000    1499.000000"
      ]
     },
     "execution_count": 18,
     "metadata": {},
     "output_type": "execute_result"
    }
   ],
   "source": [
    "internet.describe()"
   ]
  },
  {
   "cell_type": "markdown",
   "metadata": {},
   "source": [
    "В данном датасете мы видим возможное дублирование столбца индекса в столбце Unnamed: 0.\n",
    "\n",
    "Вернемся к этому на следующем шаге."
   ]
  },
  {
   "cell_type": "markdown",
   "metadata": {},
   "source": [
    "Далее изучим информацию о тарифах, датасет tariffs."
   ]
  },
  {
   "cell_type": "code",
   "execution_count": 19,
   "metadata": {},
   "outputs": [],
   "source": [
    "tariffs = pd.read_csv('/datasets/tariffs.csv')"
   ]
  },
  {
   "cell_type": "code",
   "execution_count": 20,
   "metadata": {},
   "outputs": [
    {
     "data": {
      "text/html": [
       "<div>\n",
       "<style scoped>\n",
       "    .dataframe tbody tr th:only-of-type {\n",
       "        vertical-align: middle;\n",
       "    }\n",
       "\n",
       "    .dataframe tbody tr th {\n",
       "        vertical-align: top;\n",
       "    }\n",
       "\n",
       "    .dataframe thead th {\n",
       "        text-align: right;\n",
       "    }\n",
       "</style>\n",
       "<table border=\"1\" class=\"dataframe\">\n",
       "  <thead>\n",
       "    <tr style=\"text-align: right;\">\n",
       "      <th></th>\n",
       "      <th>messages_included</th>\n",
       "      <th>mb_per_month_included</th>\n",
       "      <th>minutes_included</th>\n",
       "      <th>rub_monthly_fee</th>\n",
       "      <th>rub_per_gb</th>\n",
       "      <th>rub_per_message</th>\n",
       "      <th>rub_per_minute</th>\n",
       "      <th>tariff_name</th>\n",
       "    </tr>\n",
       "  </thead>\n",
       "  <tbody>\n",
       "    <tr>\n",
       "      <th>0</th>\n",
       "      <td>50</td>\n",
       "      <td>15360</td>\n",
       "      <td>500</td>\n",
       "      <td>550</td>\n",
       "      <td>200</td>\n",
       "      <td>3</td>\n",
       "      <td>3</td>\n",
       "      <td>smart</td>\n",
       "    </tr>\n",
       "    <tr>\n",
       "      <th>1</th>\n",
       "      <td>1000</td>\n",
       "      <td>30720</td>\n",
       "      <td>3000</td>\n",
       "      <td>1950</td>\n",
       "      <td>150</td>\n",
       "      <td>1</td>\n",
       "      <td>1</td>\n",
       "      <td>ultra</td>\n",
       "    </tr>\n",
       "  </tbody>\n",
       "</table>\n",
       "</div>"
      ],
      "text/plain": [
       "   messages_included  mb_per_month_included  minutes_included  \\\n",
       "0                 50                  15360               500   \n",
       "1               1000                  30720              3000   \n",
       "\n",
       "   rub_monthly_fee  rub_per_gb  rub_per_message  rub_per_minute tariff_name  \n",
       "0              550         200                3               3       smart  \n",
       "1             1950         150                1               1       ultra  "
      ]
     },
     "execution_count": 20,
     "metadata": {},
     "output_type": "execute_result"
    }
   ],
   "source": [
    "tariffs"
   ]
  },
  {
   "cell_type": "code",
   "execution_count": 21,
   "metadata": {},
   "outputs": [
    {
     "name": "stdout",
     "output_type": "stream",
     "text": [
      "<class 'pandas.core.frame.DataFrame'>\n",
      "RangeIndex: 2 entries, 0 to 1\n",
      "Data columns (total 8 columns):\n",
      " #   Column                 Non-Null Count  Dtype \n",
      "---  ------                 --------------  ----- \n",
      " 0   messages_included      2 non-null      int64 \n",
      " 1   mb_per_month_included  2 non-null      int64 \n",
      " 2   minutes_included       2 non-null      int64 \n",
      " 3   rub_monthly_fee        2 non-null      int64 \n",
      " 4   rub_per_gb             2 non-null      int64 \n",
      " 5   rub_per_message        2 non-null      int64 \n",
      " 6   rub_per_minute         2 non-null      int64 \n",
      " 7   tariff_name            2 non-null      object\n",
      "dtypes: int64(7), object(1)\n",
      "memory usage: 256.0+ bytes\n"
     ]
    }
   ],
   "source": [
    "tariffs.info()"
   ]
  },
  {
   "cell_type": "markdown",
   "metadata": {},
   "source": [
    "## Шаг 2. Подготовка данных"
   ]
  },
  {
   "cell_type": "markdown",
   "metadata": {},
   "source": [
    "### 2.1 Приведение данных к нужным типам и исправление ошибок"
   ]
  },
  {
   "cell_type": "markdown",
   "metadata": {},
   "source": [
    "Прежде чем изменить типы данных, проверим таблицы на наличие дубликатов, для этого напишем цикл."
   ]
  },
  {
   "cell_type": "code",
   "execution_count": 22,
   "metadata": {},
   "outputs": [
    {
     "name": "stdout",
     "output_type": "stream",
     "text": [
      "Empty DataFrame\n",
      "Columns: [age, churn_date, city, first_name, last_name, reg_date, tariff]\n",
      "Index: []\n",
      "Empty DataFrame\n",
      "Columns: [id, message_date, user_id]\n",
      "Index: []\n",
      "Empty DataFrame\n",
      "Columns: [Unnamed: 0, id, mb_used, session_date, user_id]\n",
      "Index: []\n",
      "Empty DataFrame\n",
      "Columns: [id, call_date, duration, user_id]\n",
      "Index: []\n"
     ]
    }
   ],
   "source": [
    "dfs = [users, messages, internet, calls]\n",
    "\n",
    "for df in dfs:\n",
    "    dups = df[df.duplicated()]\n",
    "    print(dups)"
   ]
  },
  {
   "cell_type": "markdown",
   "metadata": {},
   "source": [
    "Результатом цикла стало 4 пустых датафрейма, значит, дубликатов нет."
   ]
  },
  {
   "cell_type": "markdown",
   "metadata": {},
   "source": [
    "При изучении данных было змечено, что даты в формате 'object', значит, их нужно привести к формату datetime"
   ]
  },
  {
   "cell_type": "code",
   "execution_count": 23,
   "metadata": {},
   "outputs": [],
   "source": [
    "users['reg_date'] = pd.to_datetime(users['reg_date'], format='%Y-%m-%d')\n",
    "calls['call_date'] = pd.to_datetime(calls['call_date'], format='%Y-%m-%d')\n",
    "messages['message_date'] = pd.to_datetime(messages['message_date'], format='%Y-%m-%d')\n",
    "internet['session_date'] = pd.to_datetime(internet['session_date'], format='%Y-%m-%d')"
   ]
  },
  {
   "cell_type": "markdown",
   "metadata": {},
   "source": [
    "Вернемся к таблице internet на предмет дубликата столбца"
   ]
  },
  {
   "cell_type": "code",
   "execution_count": 24,
   "metadata": {},
   "outputs": [
    {
     "data": {
      "text/html": [
       "<div>\n",
       "<style scoped>\n",
       "    .dataframe tbody tr th:only-of-type {\n",
       "        vertical-align: middle;\n",
       "    }\n",
       "\n",
       "    .dataframe tbody tr th {\n",
       "        vertical-align: top;\n",
       "    }\n",
       "\n",
       "    .dataframe thead th {\n",
       "        text-align: right;\n",
       "    }\n",
       "</style>\n",
       "<table border=\"1\" class=\"dataframe\">\n",
       "  <thead>\n",
       "    <tr style=\"text-align: right;\">\n",
       "      <th></th>\n",
       "      <th>Unnamed: 0</th>\n",
       "      <th>id</th>\n",
       "      <th>mb_used</th>\n",
       "      <th>session_date</th>\n",
       "      <th>user_id</th>\n",
       "    </tr>\n",
       "  </thead>\n",
       "  <tbody>\n",
       "    <tr>\n",
       "      <th>0</th>\n",
       "      <td>0</td>\n",
       "      <td>1000_0</td>\n",
       "      <td>112.95</td>\n",
       "      <td>2018-11-25</td>\n",
       "      <td>1000</td>\n",
       "    </tr>\n",
       "    <tr>\n",
       "      <th>1</th>\n",
       "      <td>1</td>\n",
       "      <td>1000_1</td>\n",
       "      <td>1052.81</td>\n",
       "      <td>2018-09-07</td>\n",
       "      <td>1000</td>\n",
       "    </tr>\n",
       "    <tr>\n",
       "      <th>2</th>\n",
       "      <td>2</td>\n",
       "      <td>1000_2</td>\n",
       "      <td>1197.26</td>\n",
       "      <td>2018-06-25</td>\n",
       "      <td>1000</td>\n",
       "    </tr>\n",
       "    <tr>\n",
       "      <th>3</th>\n",
       "      <td>3</td>\n",
       "      <td>1000_3</td>\n",
       "      <td>550.27</td>\n",
       "      <td>2018-08-22</td>\n",
       "      <td>1000</td>\n",
       "    </tr>\n",
       "    <tr>\n",
       "      <th>4</th>\n",
       "      <td>4</td>\n",
       "      <td>1000_4</td>\n",
       "      <td>302.56</td>\n",
       "      <td>2018-09-24</td>\n",
       "      <td>1000</td>\n",
       "    </tr>\n",
       "  </tbody>\n",
       "</table>\n",
       "</div>"
      ],
      "text/plain": [
       "   Unnamed: 0      id  mb_used session_date  user_id\n",
       "0           0  1000_0   112.95   2018-11-25     1000\n",
       "1           1  1000_1  1052.81   2018-09-07     1000\n",
       "2           2  1000_2  1197.26   2018-06-25     1000\n",
       "3           3  1000_3   550.27   2018-08-22     1000\n",
       "4           4  1000_4   302.56   2018-09-24     1000"
      ]
     },
     "execution_count": 24,
     "metadata": {},
     "output_type": "execute_result"
    }
   ],
   "source": [
    "internet.head()"
   ]
  },
  {
   "cell_type": "markdown",
   "metadata": {},
   "source": [
    "Проверим так ли этом перезагрузкой столбца с индексами и сравнением со столбцом 'Unnamed:0'"
   ]
  },
  {
   "cell_type": "code",
   "execution_count": 25,
   "metadata": {},
   "outputs": [],
   "source": [
    "internet = internet.reset_index()"
   ]
  },
  {
   "cell_type": "code",
   "execution_count": 26,
   "metadata": {},
   "outputs": [
    {
     "data": {
      "text/plain": [
       "149396"
      ]
     },
     "execution_count": 26,
     "metadata": {},
     "output_type": "execute_result"
    }
   ],
   "source": [
    "len (internet['index'] == internet['Unnamed: 0'])"
   ]
  },
  {
   "cell_type": "markdown",
   "metadata": {},
   "source": [
    "Получилось, что в столбце сравнения 14936 значений True, значит, эти столбцы идентичны и их можно удалить."
   ]
  },
  {
   "cell_type": "code",
   "execution_count": 27,
   "metadata": {},
   "outputs": [],
   "source": [
    "internet = internet.drop(columns=['index', 'Unnamed: 0'])"
   ]
  },
  {
   "cell_type": "markdown",
   "metadata": {},
   "source": [
    "Таблица выглядит корректно."
   ]
  },
  {
   "cell_type": "code",
   "execution_count": 28,
   "metadata": {
    "scrolled": true
   },
   "outputs": [
    {
     "data": {
      "text/html": [
       "<div>\n",
       "<style scoped>\n",
       "    .dataframe tbody tr th:only-of-type {\n",
       "        vertical-align: middle;\n",
       "    }\n",
       "\n",
       "    .dataframe tbody tr th {\n",
       "        vertical-align: top;\n",
       "    }\n",
       "\n",
       "    .dataframe thead th {\n",
       "        text-align: right;\n",
       "    }\n",
       "</style>\n",
       "<table border=\"1\" class=\"dataframe\">\n",
       "  <thead>\n",
       "    <tr style=\"text-align: right;\">\n",
       "      <th></th>\n",
       "      <th>id</th>\n",
       "      <th>mb_used</th>\n",
       "      <th>session_date</th>\n",
       "      <th>user_id</th>\n",
       "    </tr>\n",
       "  </thead>\n",
       "  <tbody>\n",
       "    <tr>\n",
       "      <th>0</th>\n",
       "      <td>1000_0</td>\n",
       "      <td>112.95</td>\n",
       "      <td>2018-11-25</td>\n",
       "      <td>1000</td>\n",
       "    </tr>\n",
       "    <tr>\n",
       "      <th>1</th>\n",
       "      <td>1000_1</td>\n",
       "      <td>1052.81</td>\n",
       "      <td>2018-09-07</td>\n",
       "      <td>1000</td>\n",
       "    </tr>\n",
       "    <tr>\n",
       "      <th>2</th>\n",
       "      <td>1000_2</td>\n",
       "      <td>1197.26</td>\n",
       "      <td>2018-06-25</td>\n",
       "      <td>1000</td>\n",
       "    </tr>\n",
       "    <tr>\n",
       "      <th>3</th>\n",
       "      <td>1000_3</td>\n",
       "      <td>550.27</td>\n",
       "      <td>2018-08-22</td>\n",
       "      <td>1000</td>\n",
       "    </tr>\n",
       "    <tr>\n",
       "      <th>4</th>\n",
       "      <td>1000_4</td>\n",
       "      <td>302.56</td>\n",
       "      <td>2018-09-24</td>\n",
       "      <td>1000</td>\n",
       "    </tr>\n",
       "    <tr>\n",
       "      <th>5</th>\n",
       "      <td>1000_5</td>\n",
       "      <td>399.97</td>\n",
       "      <td>2018-10-02</td>\n",
       "      <td>1000</td>\n",
       "    </tr>\n",
       "    <tr>\n",
       "      <th>6</th>\n",
       "      <td>1000_6</td>\n",
       "      <td>540.08</td>\n",
       "      <td>2018-09-07</td>\n",
       "      <td>1000</td>\n",
       "    </tr>\n",
       "    <tr>\n",
       "      <th>7</th>\n",
       "      <td>1000_7</td>\n",
       "      <td>415.70</td>\n",
       "      <td>2018-07-11</td>\n",
       "      <td>1000</td>\n",
       "    </tr>\n",
       "    <tr>\n",
       "      <th>8</th>\n",
       "      <td>1000_8</td>\n",
       "      <td>505.40</td>\n",
       "      <td>2018-10-08</td>\n",
       "      <td>1000</td>\n",
       "    </tr>\n",
       "    <tr>\n",
       "      <th>9</th>\n",
       "      <td>1000_9</td>\n",
       "      <td>345.54</td>\n",
       "      <td>2018-09-03</td>\n",
       "      <td>1000</td>\n",
       "    </tr>\n",
       "  </tbody>\n",
       "</table>\n",
       "</div>"
      ],
      "text/plain": [
       "       id  mb_used session_date  user_id\n",
       "0  1000_0   112.95   2018-11-25     1000\n",
       "1  1000_1  1052.81   2018-09-07     1000\n",
       "2  1000_2  1197.26   2018-06-25     1000\n",
       "3  1000_3   550.27   2018-08-22     1000\n",
       "4  1000_4   302.56   2018-09-24     1000\n",
       "5  1000_5   399.97   2018-10-02     1000\n",
       "6  1000_6   540.08   2018-09-07     1000\n",
       "7  1000_7   415.70   2018-07-11     1000\n",
       "8  1000_8   505.40   2018-10-08     1000\n",
       "9  1000_9   345.54   2018-09-03     1000"
      ]
     },
     "execution_count": 28,
     "metadata": {},
     "output_type": "execute_result"
    }
   ],
   "source": [
    "internet.head(10)"
   ]
  },
  {
   "cell_type": "code",
   "execution_count": 29,
   "metadata": {},
   "outputs": [
    {
     "data": {
      "text/html": [
       "<div>\n",
       "<style scoped>\n",
       "    .dataframe tbody tr th:only-of-type {\n",
       "        vertical-align: middle;\n",
       "    }\n",
       "\n",
       "    .dataframe tbody tr th {\n",
       "        vertical-align: top;\n",
       "    }\n",
       "\n",
       "    .dataframe thead th {\n",
       "        text-align: right;\n",
       "    }\n",
       "</style>\n",
       "<table border=\"1\" class=\"dataframe\">\n",
       "  <thead>\n",
       "    <tr style=\"text-align: right;\">\n",
       "      <th></th>\n",
       "      <th>id</th>\n",
       "      <th>mb_used</th>\n",
       "      <th>session_date</th>\n",
       "      <th>user_id</th>\n",
       "    </tr>\n",
       "  </thead>\n",
       "  <tbody>\n",
       "    <tr>\n",
       "      <th>149386</th>\n",
       "      <td>1499_147</td>\n",
       "      <td>0.00</td>\n",
       "      <td>2018-10-21</td>\n",
       "      <td>1499</td>\n",
       "    </tr>\n",
       "    <tr>\n",
       "      <th>149387</th>\n",
       "      <td>1499_148</td>\n",
       "      <td>268.19</td>\n",
       "      <td>2018-11-13</td>\n",
       "      <td>1499</td>\n",
       "    </tr>\n",
       "    <tr>\n",
       "      <th>149388</th>\n",
       "      <td>1499_149</td>\n",
       "      <td>778.68</td>\n",
       "      <td>2018-11-24</td>\n",
       "      <td>1499</td>\n",
       "    </tr>\n",
       "    <tr>\n",
       "      <th>149389</th>\n",
       "      <td>1499_150</td>\n",
       "      <td>273.98</td>\n",
       "      <td>2018-11-20</td>\n",
       "      <td>1499</td>\n",
       "    </tr>\n",
       "    <tr>\n",
       "      <th>149390</th>\n",
       "      <td>1499_151</td>\n",
       "      <td>752.72</td>\n",
       "      <td>2018-10-11</td>\n",
       "      <td>1499</td>\n",
       "    </tr>\n",
       "    <tr>\n",
       "      <th>149391</th>\n",
       "      <td>1499_152</td>\n",
       "      <td>318.90</td>\n",
       "      <td>2018-10-03</td>\n",
       "      <td>1499</td>\n",
       "    </tr>\n",
       "    <tr>\n",
       "      <th>149392</th>\n",
       "      <td>1499_153</td>\n",
       "      <td>490.13</td>\n",
       "      <td>2018-12-14</td>\n",
       "      <td>1499</td>\n",
       "    </tr>\n",
       "    <tr>\n",
       "      <th>149393</th>\n",
       "      <td>1499_154</td>\n",
       "      <td>0.00</td>\n",
       "      <td>2018-10-27</td>\n",
       "      <td>1499</td>\n",
       "    </tr>\n",
       "    <tr>\n",
       "      <th>149394</th>\n",
       "      <td>1499_155</td>\n",
       "      <td>1246.32</td>\n",
       "      <td>2018-11-26</td>\n",
       "      <td>1499</td>\n",
       "    </tr>\n",
       "    <tr>\n",
       "      <th>149395</th>\n",
       "      <td>1499_156</td>\n",
       "      <td>544.37</td>\n",
       "      <td>2018-10-26</td>\n",
       "      <td>1499</td>\n",
       "    </tr>\n",
       "  </tbody>\n",
       "</table>\n",
       "</div>"
      ],
      "text/plain": [
       "              id  mb_used session_date  user_id\n",
       "149386  1499_147     0.00   2018-10-21     1499\n",
       "149387  1499_148   268.19   2018-11-13     1499\n",
       "149388  1499_149   778.68   2018-11-24     1499\n",
       "149389  1499_150   273.98   2018-11-20     1499\n",
       "149390  1499_151   752.72   2018-10-11     1499\n",
       "149391  1499_152   318.90   2018-10-03     1499\n",
       "149392  1499_153   490.13   2018-12-14     1499\n",
       "149393  1499_154     0.00   2018-10-27     1499\n",
       "149394  1499_155  1246.32   2018-11-26     1499\n",
       "149395  1499_156   544.37   2018-10-26     1499"
      ]
     },
     "execution_count": 29,
     "metadata": {},
     "output_type": "execute_result"
    }
   ],
   "source": [
    "internet.tail(10)"
   ]
  },
  {
   "cell_type": "markdown",
   "metadata": {},
   "source": [
    "Далее нужно определиться, как поступить со звонками, длительность которых составляет 0 минут 0 секунд.\n",
    "\n",
    "Узнаем, сколько их."
   ]
  },
  {
   "cell_type": "code",
   "execution_count": 30,
   "metadata": {},
   "outputs": [
    {
     "data": {
      "text/plain": [
       "0.00     39613\n",
       "4.49       142\n",
       "5.50       142\n",
       "6.15       141\n",
       "6.38       141\n",
       "         ...  \n",
       "27.02        1\n",
       "26.19        1\n",
       "25.34        1\n",
       "27.13        1\n",
       "24.28        1\n",
       "Name: duration, Length: 2871, dtype: int64"
      ]
     },
     "execution_count": 30,
     "metadata": {},
     "output_type": "execute_result"
    }
   ],
   "source": [
    "calls['duration'].value_counts()"
   ]
  },
  {
   "cell_type": "markdown",
   "metadata": {},
   "source": [
    "Получается, что около 40000 имели длительность 0. Это примерно около 20% всех звонков. Если предположить, что это были исходящие пропущенные звонки, то доля около 20% интуитивно кажется нормальной. То есть, грубо, на каждый пятый звонок абонента не отвечают.\n",
    "\n",
    "Пока примем для себя, что это пропущенные звонки и удалять их не будем."
   ]
  },
  {
   "cell_type": "markdown",
   "metadata": {},
   "source": [
    "### 2.2 Расчет показателей для каждого пользователя"
   ]
  },
  {
   "cell_type": "markdown",
   "metadata": {},
   "source": [
    "Итак, тарификация в тарифах идет по минутам и мегабайтам. При этом оператор всегда округляет такие значения вверх до целого.\n",
    "\n",
    "Значит, нам необходимо избавиться от десятичных знаков в столбцах 'использованные мегабайты' таблицы internet и  'длительность звонков' таблицы calls.\n",
    "\n",
    "Приводить к целым значениям и избавляться от дробной части будем методом  .ceil библиотеки math."
   ]
  },
  {
   "cell_type": "code",
   "execution_count": 31,
   "metadata": {},
   "outputs": [],
   "source": [
    "internet['mb_used'] = internet['mb_used'].apply(mt.ceil)\n",
    "calls['duration'] = calls['duration'].apply(mt.ceil)"
   ]
  },
  {
   "cell_type": "code",
   "execution_count": 32,
   "metadata": {},
   "outputs": [
    {
     "name": "stdout",
     "output_type": "stream",
     "text": [
      "<class 'pandas.core.frame.DataFrame'>\n",
      "RangeIndex: 149396 entries, 0 to 149395\n",
      "Data columns (total 4 columns):\n",
      " #   Column        Non-Null Count   Dtype         \n",
      "---  ------        --------------   -----         \n",
      " 0   id            149396 non-null  object        \n",
      " 1   mb_used       149396 non-null  int64         \n",
      " 2   session_date  149396 non-null  datetime64[ns]\n",
      " 3   user_id       149396 non-null  int64         \n",
      "dtypes: datetime64[ns](1), int64(2), object(1)\n",
      "memory usage: 4.6+ MB\n"
     ]
    }
   ],
   "source": [
    "internet.info()"
   ]
  },
  {
   "cell_type": "markdown",
   "metadata": {},
   "source": [
    "Как видим, тип данных изменился на целочисленный."
   ]
  },
  {
   "cell_type": "markdown",
   "metadata": {},
   "source": [
    "Нам нужны данные по месяцам, поэтому добавим столбец 'month' во все интересующие нас таблицы: calls, internet, messages."
   ]
  },
  {
   "cell_type": "code",
   "execution_count": 33,
   "metadata": {},
   "outputs": [],
   "source": [
    "calls['month'] = calls['call_date'].dt.month\n",
    "internet['month'] = internet['session_date'].dt.month\n",
    "messages['month'] = messages['message_date'].dt.month"
   ]
  },
  {
   "cell_type": "markdown",
   "metadata": {},
   "source": [
    "Проверим на примере calls."
   ]
  },
  {
   "cell_type": "code",
   "execution_count": 34,
   "metadata": {},
   "outputs": [
    {
     "data": {
      "text/html": [
       "<div>\n",
       "<style scoped>\n",
       "    .dataframe tbody tr th:only-of-type {\n",
       "        vertical-align: middle;\n",
       "    }\n",
       "\n",
       "    .dataframe tbody tr th {\n",
       "        vertical-align: top;\n",
       "    }\n",
       "\n",
       "    .dataframe thead th {\n",
       "        text-align: right;\n",
       "    }\n",
       "</style>\n",
       "<table border=\"1\" class=\"dataframe\">\n",
       "  <thead>\n",
       "    <tr style=\"text-align: right;\">\n",
       "      <th></th>\n",
       "      <th>id</th>\n",
       "      <th>call_date</th>\n",
       "      <th>duration</th>\n",
       "      <th>user_id</th>\n",
       "      <th>month</th>\n",
       "    </tr>\n",
       "  </thead>\n",
       "  <tbody>\n",
       "    <tr>\n",
       "      <th>0</th>\n",
       "      <td>1000_0</td>\n",
       "      <td>2018-07-25</td>\n",
       "      <td>0</td>\n",
       "      <td>1000</td>\n",
       "      <td>7</td>\n",
       "    </tr>\n",
       "    <tr>\n",
       "      <th>1</th>\n",
       "      <td>1000_1</td>\n",
       "      <td>2018-08-17</td>\n",
       "      <td>0</td>\n",
       "      <td>1000</td>\n",
       "      <td>8</td>\n",
       "    </tr>\n",
       "    <tr>\n",
       "      <th>2</th>\n",
       "      <td>1000_2</td>\n",
       "      <td>2018-06-11</td>\n",
       "      <td>3</td>\n",
       "      <td>1000</td>\n",
       "      <td>6</td>\n",
       "    </tr>\n",
       "    <tr>\n",
       "      <th>3</th>\n",
       "      <td>1000_3</td>\n",
       "      <td>2018-09-21</td>\n",
       "      <td>14</td>\n",
       "      <td>1000</td>\n",
       "      <td>9</td>\n",
       "    </tr>\n",
       "    <tr>\n",
       "      <th>4</th>\n",
       "      <td>1000_4</td>\n",
       "      <td>2018-12-15</td>\n",
       "      <td>6</td>\n",
       "      <td>1000</td>\n",
       "      <td>12</td>\n",
       "    </tr>\n",
       "  </tbody>\n",
       "</table>\n",
       "</div>"
      ],
      "text/plain": [
       "       id  call_date  duration  user_id  month\n",
       "0  1000_0 2018-07-25         0     1000      7\n",
       "1  1000_1 2018-08-17         0     1000      8\n",
       "2  1000_2 2018-06-11         3     1000      6\n",
       "3  1000_3 2018-09-21        14     1000      9\n",
       "4  1000_4 2018-12-15         6     1000     12"
      ]
     },
     "execution_count": 34,
     "metadata": {},
     "output_type": "execute_result"
    }
   ],
   "source": [
    "calls.head()"
   ]
  },
  {
   "cell_type": "markdown",
   "metadata": {},
   "source": [
    "Столбец добавился корректно."
   ]
  },
  {
   "cell_type": "markdown",
   "metadata": {},
   "source": [
    "Теперь создадим сводную таблицу, в которой сгруппируем данные по id пользователя и месяцу, чтобы узнать количество звонков в месяц и суммарную продолжительность звонков в месяц."
   ]
  },
  {
   "cell_type": "code",
   "execution_count": 35,
   "metadata": {},
   "outputs": [
    {
     "data": {
      "text/html": [
       "<div>\n",
       "<style scoped>\n",
       "    .dataframe tbody tr th:only-of-type {\n",
       "        vertical-align: middle;\n",
       "    }\n",
       "\n",
       "    .dataframe tbody tr th {\n",
       "        vertical-align: top;\n",
       "    }\n",
       "\n",
       "    .dataframe thead tr th {\n",
       "        text-align: left;\n",
       "    }\n",
       "\n",
       "    .dataframe thead tr:last-of-type th {\n",
       "        text-align: right;\n",
       "    }\n",
       "</style>\n",
       "<table border=\"1\" class=\"dataframe\">\n",
       "  <thead>\n",
       "    <tr>\n",
       "      <th></th>\n",
       "      <th></th>\n",
       "      <th>count</th>\n",
       "      <th>sum</th>\n",
       "    </tr>\n",
       "    <tr>\n",
       "      <th></th>\n",
       "      <th></th>\n",
       "      <th>duration</th>\n",
       "      <th>duration</th>\n",
       "    </tr>\n",
       "    <tr>\n",
       "      <th>user_id</th>\n",
       "      <th>month</th>\n",
       "      <th></th>\n",
       "      <th></th>\n",
       "    </tr>\n",
       "  </thead>\n",
       "  <tbody>\n",
       "    <tr>\n",
       "      <th rowspan=\"8\" valign=\"top\">1000</th>\n",
       "      <th>5</th>\n",
       "      <td>22</td>\n",
       "      <td>159</td>\n",
       "    </tr>\n",
       "    <tr>\n",
       "      <th>6</th>\n",
       "      <td>43</td>\n",
       "      <td>172</td>\n",
       "    </tr>\n",
       "    <tr>\n",
       "      <th>7</th>\n",
       "      <td>47</td>\n",
       "      <td>340</td>\n",
       "    </tr>\n",
       "    <tr>\n",
       "      <th>8</th>\n",
       "      <td>52</td>\n",
       "      <td>408</td>\n",
       "    </tr>\n",
       "    <tr>\n",
       "      <th>9</th>\n",
       "      <td>58</td>\n",
       "      <td>466</td>\n",
       "    </tr>\n",
       "    <tr>\n",
       "      <th>10</th>\n",
       "      <td>57</td>\n",
       "      <td>350</td>\n",
       "    </tr>\n",
       "    <tr>\n",
       "      <th>11</th>\n",
       "      <td>43</td>\n",
       "      <td>338</td>\n",
       "    </tr>\n",
       "    <tr>\n",
       "      <th>12</th>\n",
       "      <td>46</td>\n",
       "      <td>333</td>\n",
       "    </tr>\n",
       "    <tr>\n",
       "      <th rowspan=\"2\" valign=\"top\">1001</th>\n",
       "      <th>11</th>\n",
       "      <td>59</td>\n",
       "      <td>430</td>\n",
       "    </tr>\n",
       "    <tr>\n",
       "      <th>12</th>\n",
       "      <td>63</td>\n",
       "      <td>414</td>\n",
       "    </tr>\n",
       "  </tbody>\n",
       "</table>\n",
       "</div>"
      ],
      "text/plain": [
       "                 count      sum\n",
       "              duration duration\n",
       "user_id month                  \n",
       "1000    5           22      159\n",
       "        6           43      172\n",
       "        7           47      340\n",
       "        8           52      408\n",
       "        9           58      466\n",
       "        10          57      350\n",
       "        11          43      338\n",
       "        12          46      333\n",
       "1001    11          59      430\n",
       "        12          63      414"
      ]
     },
     "execution_count": 35,
     "metadata": {},
     "output_type": "execute_result"
    }
   ],
   "source": [
    "calls_by_month = calls.pivot_table(index=('user_id', 'month'), values = 'duration', aggfunc = ['count', 'sum'])\n",
    "calls_by_month.head(10)"
   ]
  },
  {
   "cell_type": "markdown",
   "metadata": {},
   "source": [
    "Переименуем столбцы"
   ]
  },
  {
   "cell_type": "code",
   "execution_count": 36,
   "metadata": {},
   "outputs": [
    {
     "data": {
      "text/html": [
       "<div>\n",
       "<style scoped>\n",
       "    .dataframe tbody tr th:only-of-type {\n",
       "        vertical-align: middle;\n",
       "    }\n",
       "\n",
       "    .dataframe tbody tr th {\n",
       "        vertical-align: top;\n",
       "    }\n",
       "\n",
       "    .dataframe thead th {\n",
       "        text-align: right;\n",
       "    }\n",
       "</style>\n",
       "<table border=\"1\" class=\"dataframe\">\n",
       "  <thead>\n",
       "    <tr style=\"text-align: right;\">\n",
       "      <th></th>\n",
       "      <th></th>\n",
       "      <th>calls_month_count</th>\n",
       "      <th>calls_month_duration</th>\n",
       "    </tr>\n",
       "    <tr>\n",
       "      <th>user_id</th>\n",
       "      <th>month</th>\n",
       "      <th></th>\n",
       "      <th></th>\n",
       "    </tr>\n",
       "  </thead>\n",
       "  <tbody>\n",
       "    <tr>\n",
       "      <th rowspan=\"8\" valign=\"top\">1000</th>\n",
       "      <th>5</th>\n",
       "      <td>22</td>\n",
       "      <td>159</td>\n",
       "    </tr>\n",
       "    <tr>\n",
       "      <th>6</th>\n",
       "      <td>43</td>\n",
       "      <td>172</td>\n",
       "    </tr>\n",
       "    <tr>\n",
       "      <th>7</th>\n",
       "      <td>47</td>\n",
       "      <td>340</td>\n",
       "    </tr>\n",
       "    <tr>\n",
       "      <th>8</th>\n",
       "      <td>52</td>\n",
       "      <td>408</td>\n",
       "    </tr>\n",
       "    <tr>\n",
       "      <th>9</th>\n",
       "      <td>58</td>\n",
       "      <td>466</td>\n",
       "    </tr>\n",
       "    <tr>\n",
       "      <th>10</th>\n",
       "      <td>57</td>\n",
       "      <td>350</td>\n",
       "    </tr>\n",
       "    <tr>\n",
       "      <th>11</th>\n",
       "      <td>43</td>\n",
       "      <td>338</td>\n",
       "    </tr>\n",
       "    <tr>\n",
       "      <th>12</th>\n",
       "      <td>46</td>\n",
       "      <td>333</td>\n",
       "    </tr>\n",
       "    <tr>\n",
       "      <th rowspan=\"2\" valign=\"top\">1001</th>\n",
       "      <th>11</th>\n",
       "      <td>59</td>\n",
       "      <td>430</td>\n",
       "    </tr>\n",
       "    <tr>\n",
       "      <th>12</th>\n",
       "      <td>63</td>\n",
       "      <td>414</td>\n",
       "    </tr>\n",
       "  </tbody>\n",
       "</table>\n",
       "</div>"
      ],
      "text/plain": [
       "               calls_month_count  calls_month_duration\n",
       "user_id month                                         \n",
       "1000    5                     22                   159\n",
       "        6                     43                   172\n",
       "        7                     47                   340\n",
       "        8                     52                   408\n",
       "        9                     58                   466\n",
       "        10                    57                   350\n",
       "        11                    43                   338\n",
       "        12                    46                   333\n",
       "1001    11                    59                   430\n",
       "        12                    63                   414"
      ]
     },
     "execution_count": 36,
     "metadata": {},
     "output_type": "execute_result"
    }
   ],
   "source": [
    "calls_by_month.columns = ['calls_month_count', 'calls_month_duration']\n",
    "calls_by_month.head(10)"
   ]
  },
  {
   "cell_type": "markdown",
   "metadata": {},
   "source": [
    "Далее создадим сводную таблицу для подсчета отправленных сообщений по месяцам."
   ]
  },
  {
   "cell_type": "code",
   "execution_count": 37,
   "metadata": {},
   "outputs": [
    {
     "data": {
      "text/html": [
       "<div>\n",
       "<style scoped>\n",
       "    .dataframe tbody tr th:only-of-type {\n",
       "        vertical-align: middle;\n",
       "    }\n",
       "\n",
       "    .dataframe tbody tr th {\n",
       "        vertical-align: top;\n",
       "    }\n",
       "\n",
       "    .dataframe thead th {\n",
       "        text-align: right;\n",
       "    }\n",
       "</style>\n",
       "<table border=\"1\" class=\"dataframe\">\n",
       "  <thead>\n",
       "    <tr style=\"text-align: right;\">\n",
       "      <th></th>\n",
       "      <th></th>\n",
       "      <th>id</th>\n",
       "    </tr>\n",
       "    <tr>\n",
       "      <th>user_id</th>\n",
       "      <th>month</th>\n",
       "      <th></th>\n",
       "    </tr>\n",
       "  </thead>\n",
       "  <tbody>\n",
       "    <tr>\n",
       "      <th rowspan=\"8\" valign=\"top\">1000</th>\n",
       "      <th>5</th>\n",
       "      <td>22</td>\n",
       "    </tr>\n",
       "    <tr>\n",
       "      <th>6</th>\n",
       "      <td>60</td>\n",
       "    </tr>\n",
       "    <tr>\n",
       "      <th>7</th>\n",
       "      <td>75</td>\n",
       "    </tr>\n",
       "    <tr>\n",
       "      <th>8</th>\n",
       "      <td>81</td>\n",
       "    </tr>\n",
       "    <tr>\n",
       "      <th>9</th>\n",
       "      <td>57</td>\n",
       "    </tr>\n",
       "    <tr>\n",
       "      <th>10</th>\n",
       "      <td>73</td>\n",
       "    </tr>\n",
       "    <tr>\n",
       "      <th>11</th>\n",
       "      <td>58</td>\n",
       "    </tr>\n",
       "    <tr>\n",
       "      <th>12</th>\n",
       "      <td>70</td>\n",
       "    </tr>\n",
       "    <tr>\n",
       "      <th rowspan=\"2\" valign=\"top\">1002</th>\n",
       "      <th>6</th>\n",
       "      <td>4</td>\n",
       "    </tr>\n",
       "    <tr>\n",
       "      <th>7</th>\n",
       "      <td>11</td>\n",
       "    </tr>\n",
       "  </tbody>\n",
       "</table>\n",
       "</div>"
      ],
      "text/plain": [
       "               id\n",
       "user_id month    \n",
       "1000    5      22\n",
       "        6      60\n",
       "        7      75\n",
       "        8      81\n",
       "        9      57\n",
       "        10     73\n",
       "        11     58\n",
       "        12     70\n",
       "1002    6       4\n",
       "        7      11"
      ]
     },
     "execution_count": 37,
     "metadata": {},
     "output_type": "execute_result"
    }
   ],
   "source": [
    "messages_by_month = messages.pivot_table(index=('user_id', 'month'), values = 'id', aggfunc = 'count')\n",
    "messages_by_month.head(10)"
   ]
  },
  {
   "cell_type": "markdown",
   "metadata": {},
   "source": [
    "Переименуем столбец."
   ]
  },
  {
   "cell_type": "code",
   "execution_count": 38,
   "metadata": {},
   "outputs": [
    {
     "data": {
      "text/html": [
       "<div>\n",
       "<style scoped>\n",
       "    .dataframe tbody tr th:only-of-type {\n",
       "        vertical-align: middle;\n",
       "    }\n",
       "\n",
       "    .dataframe tbody tr th {\n",
       "        vertical-align: top;\n",
       "    }\n",
       "\n",
       "    .dataframe thead th {\n",
       "        text-align: right;\n",
       "    }\n",
       "</style>\n",
       "<table border=\"1\" class=\"dataframe\">\n",
       "  <thead>\n",
       "    <tr style=\"text-align: right;\">\n",
       "      <th></th>\n",
       "      <th></th>\n",
       "      <th>messages_month_count</th>\n",
       "    </tr>\n",
       "    <tr>\n",
       "      <th>user_id</th>\n",
       "      <th>month</th>\n",
       "      <th></th>\n",
       "    </tr>\n",
       "  </thead>\n",
       "  <tbody>\n",
       "    <tr>\n",
       "      <th rowspan=\"8\" valign=\"top\">1000</th>\n",
       "      <th>5</th>\n",
       "      <td>22</td>\n",
       "    </tr>\n",
       "    <tr>\n",
       "      <th>6</th>\n",
       "      <td>60</td>\n",
       "    </tr>\n",
       "    <tr>\n",
       "      <th>7</th>\n",
       "      <td>75</td>\n",
       "    </tr>\n",
       "    <tr>\n",
       "      <th>8</th>\n",
       "      <td>81</td>\n",
       "    </tr>\n",
       "    <tr>\n",
       "      <th>9</th>\n",
       "      <td>57</td>\n",
       "    </tr>\n",
       "    <tr>\n",
       "      <th>10</th>\n",
       "      <td>73</td>\n",
       "    </tr>\n",
       "    <tr>\n",
       "      <th>11</th>\n",
       "      <td>58</td>\n",
       "    </tr>\n",
       "    <tr>\n",
       "      <th>12</th>\n",
       "      <td>70</td>\n",
       "    </tr>\n",
       "    <tr>\n",
       "      <th rowspan=\"2\" valign=\"top\">1002</th>\n",
       "      <th>6</th>\n",
       "      <td>4</td>\n",
       "    </tr>\n",
       "    <tr>\n",
       "      <th>7</th>\n",
       "      <td>11</td>\n",
       "    </tr>\n",
       "  </tbody>\n",
       "</table>\n",
       "</div>"
      ],
      "text/plain": [
       "               messages_month_count\n",
       "user_id month                      \n",
       "1000    5                        22\n",
       "        6                        60\n",
       "        7                        75\n",
       "        8                        81\n",
       "        9                        57\n",
       "        10                       73\n",
       "        11                       58\n",
       "        12                       70\n",
       "1002    6                         4\n",
       "        7                        11"
      ]
     },
     "execution_count": 38,
     "metadata": {},
     "output_type": "execute_result"
    }
   ],
   "source": [
    "messages_by_month.columns = ['messages_month_count']\n",
    "messages_by_month.head(10)"
   ]
  },
  {
   "cell_type": "markdown",
   "metadata": {},
   "source": [
    "Далее создадим сводную таблицу для расчета использованию интернет-трафика каждым пользователем по месяцам."
   ]
  },
  {
   "cell_type": "code",
   "execution_count": 39,
   "metadata": {},
   "outputs": [
    {
     "data": {
      "text/html": [
       "<div>\n",
       "<style scoped>\n",
       "    .dataframe tbody tr th:only-of-type {\n",
       "        vertical-align: middle;\n",
       "    }\n",
       "\n",
       "    .dataframe tbody tr th {\n",
       "        vertical-align: top;\n",
       "    }\n",
       "\n",
       "    .dataframe thead tr th {\n",
       "        text-align: left;\n",
       "    }\n",
       "\n",
       "    .dataframe thead tr:last-of-type th {\n",
       "        text-align: right;\n",
       "    }\n",
       "</style>\n",
       "<table border=\"1\" class=\"dataframe\">\n",
       "  <thead>\n",
       "    <tr>\n",
       "      <th></th>\n",
       "      <th></th>\n",
       "      <th>sum</th>\n",
       "    </tr>\n",
       "    <tr>\n",
       "      <th></th>\n",
       "      <th></th>\n",
       "      <th>mb_used</th>\n",
       "    </tr>\n",
       "    <tr>\n",
       "      <th>user_id</th>\n",
       "      <th>month</th>\n",
       "      <th></th>\n",
       "    </tr>\n",
       "  </thead>\n",
       "  <tbody>\n",
       "    <tr>\n",
       "      <th rowspan=\"8\" valign=\"top\">1000</th>\n",
       "      <th>5</th>\n",
       "      <td>2256</td>\n",
       "    </tr>\n",
       "    <tr>\n",
       "      <th>6</th>\n",
       "      <td>23257</td>\n",
       "    </tr>\n",
       "    <tr>\n",
       "      <th>7</th>\n",
       "      <td>14016</td>\n",
       "    </tr>\n",
       "    <tr>\n",
       "      <th>8</th>\n",
       "      <td>14070</td>\n",
       "    </tr>\n",
       "    <tr>\n",
       "      <th>9</th>\n",
       "      <td>14581</td>\n",
       "    </tr>\n",
       "    <tr>\n",
       "      <th>10</th>\n",
       "      <td>14717</td>\n",
       "    </tr>\n",
       "    <tr>\n",
       "      <th>11</th>\n",
       "      <td>14768</td>\n",
       "    </tr>\n",
       "    <tr>\n",
       "      <th>12</th>\n",
       "      <td>9827</td>\n",
       "    </tr>\n",
       "    <tr>\n",
       "      <th rowspan=\"2\" valign=\"top\">1001</th>\n",
       "      <th>11</th>\n",
       "      <td>18452</td>\n",
       "    </tr>\n",
       "    <tr>\n",
       "      <th>12</th>\n",
       "      <td>14053</td>\n",
       "    </tr>\n",
       "  </tbody>\n",
       "</table>\n",
       "</div>"
      ],
      "text/plain": [
       "                  sum\n",
       "              mb_used\n",
       "user_id month        \n",
       "1000    5        2256\n",
       "        6       23257\n",
       "        7       14016\n",
       "        8       14070\n",
       "        9       14581\n",
       "        10      14717\n",
       "        11      14768\n",
       "        12       9827\n",
       "1001    11      18452\n",
       "        12      14053"
      ]
     },
     "execution_count": 39,
     "metadata": {},
     "output_type": "execute_result"
    }
   ],
   "source": [
    "internet_by_month = internet.pivot_table(index=('user_id', 'month'), values = 'mb_used', aggfunc = ['sum'])\n",
    "internet_by_month.head(10)"
   ]
  },
  {
   "cell_type": "markdown",
   "metadata": {},
   "source": [
    "Переименуем столбец"
   ]
  },
  {
   "cell_type": "code",
   "execution_count": 40,
   "metadata": {},
   "outputs": [
    {
     "data": {
      "text/html": [
       "<div>\n",
       "<style scoped>\n",
       "    .dataframe tbody tr th:only-of-type {\n",
       "        vertical-align: middle;\n",
       "    }\n",
       "\n",
       "    .dataframe tbody tr th {\n",
       "        vertical-align: top;\n",
       "    }\n",
       "\n",
       "    .dataframe thead th {\n",
       "        text-align: right;\n",
       "    }\n",
       "</style>\n",
       "<table border=\"1\" class=\"dataframe\">\n",
       "  <thead>\n",
       "    <tr style=\"text-align: right;\">\n",
       "      <th></th>\n",
       "      <th></th>\n",
       "      <th>internet_monthly_usage</th>\n",
       "    </tr>\n",
       "    <tr>\n",
       "      <th>user_id</th>\n",
       "      <th>month</th>\n",
       "      <th></th>\n",
       "    </tr>\n",
       "  </thead>\n",
       "  <tbody>\n",
       "    <tr>\n",
       "      <th rowspan=\"8\" valign=\"top\">1000</th>\n",
       "      <th>5</th>\n",
       "      <td>2256</td>\n",
       "    </tr>\n",
       "    <tr>\n",
       "      <th>6</th>\n",
       "      <td>23257</td>\n",
       "    </tr>\n",
       "    <tr>\n",
       "      <th>7</th>\n",
       "      <td>14016</td>\n",
       "    </tr>\n",
       "    <tr>\n",
       "      <th>8</th>\n",
       "      <td>14070</td>\n",
       "    </tr>\n",
       "    <tr>\n",
       "      <th>9</th>\n",
       "      <td>14581</td>\n",
       "    </tr>\n",
       "    <tr>\n",
       "      <th>10</th>\n",
       "      <td>14717</td>\n",
       "    </tr>\n",
       "    <tr>\n",
       "      <th>11</th>\n",
       "      <td>14768</td>\n",
       "    </tr>\n",
       "    <tr>\n",
       "      <th>12</th>\n",
       "      <td>9827</td>\n",
       "    </tr>\n",
       "    <tr>\n",
       "      <th rowspan=\"2\" valign=\"top\">1001</th>\n",
       "      <th>11</th>\n",
       "      <td>18452</td>\n",
       "    </tr>\n",
       "    <tr>\n",
       "      <th>12</th>\n",
       "      <td>14053</td>\n",
       "    </tr>\n",
       "  </tbody>\n",
       "</table>\n",
       "</div>"
      ],
      "text/plain": [
       "               internet_monthly_usage\n",
       "user_id month                        \n",
       "1000    5                        2256\n",
       "        6                       23257\n",
       "        7                       14016\n",
       "        8                       14070\n",
       "        9                       14581\n",
       "        10                      14717\n",
       "        11                      14768\n",
       "        12                       9827\n",
       "1001    11                      18452\n",
       "        12                      14053"
      ]
     },
     "execution_count": 40,
     "metadata": {},
     "output_type": "execute_result"
    }
   ],
   "source": [
    "internet_by_month.columns = ['internet_monthly_usage']\n",
    "internet_by_month.head(10)"
   ]
  },
  {
   "cell_type": "markdown",
   "metadata": {},
   "source": [
    "Далее объединим все месячные данные в одну таблицу.\n",
    "\n",
    "Применим метод join."
   ]
  },
  {
   "cell_type": "code",
   "execution_count": 41,
   "metadata": {},
   "outputs": [
    {
     "data": {
      "text/html": [
       "<div>\n",
       "<style scoped>\n",
       "    .dataframe tbody tr th:only-of-type {\n",
       "        vertical-align: middle;\n",
       "    }\n",
       "\n",
       "    .dataframe tbody tr th {\n",
       "        vertical-align: top;\n",
       "    }\n",
       "\n",
       "    .dataframe thead th {\n",
       "        text-align: right;\n",
       "    }\n",
       "</style>\n",
       "<table border=\"1\" class=\"dataframe\">\n",
       "  <thead>\n",
       "    <tr style=\"text-align: right;\">\n",
       "      <th></th>\n",
       "      <th></th>\n",
       "      <th>calls_month_count</th>\n",
       "      <th>calls_month_duration</th>\n",
       "      <th>messages_month_count</th>\n",
       "      <th>internet_monthly_usage</th>\n",
       "    </tr>\n",
       "    <tr>\n",
       "      <th>user_id</th>\n",
       "      <th>month</th>\n",
       "      <th></th>\n",
       "      <th></th>\n",
       "      <th></th>\n",
       "      <th></th>\n",
       "    </tr>\n",
       "  </thead>\n",
       "  <tbody>\n",
       "    <tr>\n",
       "      <th rowspan=\"8\" valign=\"top\">1000</th>\n",
       "      <th>5</th>\n",
       "      <td>22.0</td>\n",
       "      <td>159.0</td>\n",
       "      <td>22.0</td>\n",
       "      <td>2256.0</td>\n",
       "    </tr>\n",
       "    <tr>\n",
       "      <th>6</th>\n",
       "      <td>43.0</td>\n",
       "      <td>172.0</td>\n",
       "      <td>60.0</td>\n",
       "      <td>23257.0</td>\n",
       "    </tr>\n",
       "    <tr>\n",
       "      <th>7</th>\n",
       "      <td>47.0</td>\n",
       "      <td>340.0</td>\n",
       "      <td>75.0</td>\n",
       "      <td>14016.0</td>\n",
       "    </tr>\n",
       "    <tr>\n",
       "      <th>8</th>\n",
       "      <td>52.0</td>\n",
       "      <td>408.0</td>\n",
       "      <td>81.0</td>\n",
       "      <td>14070.0</td>\n",
       "    </tr>\n",
       "    <tr>\n",
       "      <th>9</th>\n",
       "      <td>58.0</td>\n",
       "      <td>466.0</td>\n",
       "      <td>57.0</td>\n",
       "      <td>14581.0</td>\n",
       "    </tr>\n",
       "    <tr>\n",
       "      <th>10</th>\n",
       "      <td>57.0</td>\n",
       "      <td>350.0</td>\n",
       "      <td>73.0</td>\n",
       "      <td>14717.0</td>\n",
       "    </tr>\n",
       "    <tr>\n",
       "      <th>11</th>\n",
       "      <td>43.0</td>\n",
       "      <td>338.0</td>\n",
       "      <td>58.0</td>\n",
       "      <td>14768.0</td>\n",
       "    </tr>\n",
       "    <tr>\n",
       "      <th>12</th>\n",
       "      <td>46.0</td>\n",
       "      <td>333.0</td>\n",
       "      <td>70.0</td>\n",
       "      <td>9827.0</td>\n",
       "    </tr>\n",
       "    <tr>\n",
       "      <th rowspan=\"2\" valign=\"top\">1001</th>\n",
       "      <th>11</th>\n",
       "      <td>59.0</td>\n",
       "      <td>430.0</td>\n",
       "      <td>NaN</td>\n",
       "      <td>18452.0</td>\n",
       "    </tr>\n",
       "    <tr>\n",
       "      <th>12</th>\n",
       "      <td>63.0</td>\n",
       "      <td>414.0</td>\n",
       "      <td>NaN</td>\n",
       "      <td>14053.0</td>\n",
       "    </tr>\n",
       "    <tr>\n",
       "      <th rowspan=\"5\" valign=\"top\">1002</th>\n",
       "      <th>6</th>\n",
       "      <td>15.0</td>\n",
       "      <td>117.0</td>\n",
       "      <td>4.0</td>\n",
       "      <td>10871.0</td>\n",
       "    </tr>\n",
       "    <tr>\n",
       "      <th>7</th>\n",
       "      <td>26.0</td>\n",
       "      <td>214.0</td>\n",
       "      <td>11.0</td>\n",
       "      <td>17601.0</td>\n",
       "    </tr>\n",
       "    <tr>\n",
       "      <th>8</th>\n",
       "      <td>42.0</td>\n",
       "      <td>289.0</td>\n",
       "      <td>13.0</td>\n",
       "      <td>20347.0</td>\n",
       "    </tr>\n",
       "    <tr>\n",
       "      <th>9</th>\n",
       "      <td>36.0</td>\n",
       "      <td>206.0</td>\n",
       "      <td>4.0</td>\n",
       "      <td>16712.0</td>\n",
       "    </tr>\n",
       "    <tr>\n",
       "      <th>10</th>\n",
       "      <td>33.0</td>\n",
       "      <td>212.0</td>\n",
       "      <td>10.0</td>\n",
       "      <td>13905.0</td>\n",
       "    </tr>\n",
       "  </tbody>\n",
       "</table>\n",
       "</div>"
      ],
      "text/plain": [
       "               calls_month_count  calls_month_duration  messages_month_count  \\\n",
       "user_id month                                                                  \n",
       "1000    5                   22.0                 159.0                  22.0   \n",
       "        6                   43.0                 172.0                  60.0   \n",
       "        7                   47.0                 340.0                  75.0   \n",
       "        8                   52.0                 408.0                  81.0   \n",
       "        9                   58.0                 466.0                  57.0   \n",
       "        10                  57.0                 350.0                  73.0   \n",
       "        11                  43.0                 338.0                  58.0   \n",
       "        12                  46.0                 333.0                  70.0   \n",
       "1001    11                  59.0                 430.0                   NaN   \n",
       "        12                  63.0                 414.0                   NaN   \n",
       "1002    6                   15.0                 117.0                   4.0   \n",
       "        7                   26.0                 214.0                  11.0   \n",
       "        8                   42.0                 289.0                  13.0   \n",
       "        9                   36.0                 206.0                   4.0   \n",
       "        10                  33.0                 212.0                  10.0   \n",
       "\n",
       "               internet_monthly_usage  \n",
       "user_id month                          \n",
       "1000    5                      2256.0  \n",
       "        6                     23257.0  \n",
       "        7                     14016.0  \n",
       "        8                     14070.0  \n",
       "        9                     14581.0  \n",
       "        10                    14717.0  \n",
       "        11                    14768.0  \n",
       "        12                     9827.0  \n",
       "1001    11                    18452.0  \n",
       "        12                    14053.0  \n",
       "1002    6                     10871.0  \n",
       "        7                     17601.0  \n",
       "        8                     20347.0  \n",
       "        9                     16712.0  \n",
       "        10                    13905.0  "
      ]
     },
     "execution_count": 41,
     "metadata": {},
     "output_type": "execute_result"
    }
   ],
   "source": [
    "monthly_data = calls_by_month.join([messages_by_month, internet_by_month])\n",
    "monthly_data.head(15)"
   ]
  },
  {
   "cell_type": "markdown",
   "metadata": {},
   "source": [
    "Добавим информацию о тарифах и городе по каждому пользователю. Применим также метод join."
   ]
  },
  {
   "cell_type": "code",
   "execution_count": 42,
   "metadata": {},
   "outputs": [],
   "source": [
    "monthly_data = monthly_data.join(users[['tariff', 'city']])"
   ]
  },
  {
   "cell_type": "code",
   "execution_count": 43,
   "metadata": {},
   "outputs": [
    {
     "data": {
      "text/html": [
       "<div>\n",
       "<style scoped>\n",
       "    .dataframe tbody tr th:only-of-type {\n",
       "        vertical-align: middle;\n",
       "    }\n",
       "\n",
       "    .dataframe tbody tr th {\n",
       "        vertical-align: top;\n",
       "    }\n",
       "\n",
       "    .dataframe thead th {\n",
       "        text-align: right;\n",
       "    }\n",
       "</style>\n",
       "<table border=\"1\" class=\"dataframe\">\n",
       "  <thead>\n",
       "    <tr style=\"text-align: right;\">\n",
       "      <th></th>\n",
       "      <th></th>\n",
       "      <th>calls_month_count</th>\n",
       "      <th>calls_month_duration</th>\n",
       "      <th>messages_month_count</th>\n",
       "      <th>internet_monthly_usage</th>\n",
       "      <th>tariff</th>\n",
       "      <th>city</th>\n",
       "    </tr>\n",
       "    <tr>\n",
       "      <th>user_id</th>\n",
       "      <th>month</th>\n",
       "      <th></th>\n",
       "      <th></th>\n",
       "      <th></th>\n",
       "      <th></th>\n",
       "      <th></th>\n",
       "      <th></th>\n",
       "    </tr>\n",
       "  </thead>\n",
       "  <tbody>\n",
       "    <tr>\n",
       "      <th rowspan=\"8\" valign=\"top\">1000</th>\n",
       "      <th>5</th>\n",
       "      <td>22.0</td>\n",
       "      <td>159.0</td>\n",
       "      <td>22.0</td>\n",
       "      <td>2256.0</td>\n",
       "      <td>ultra</td>\n",
       "      <td>Краснодар</td>\n",
       "    </tr>\n",
       "    <tr>\n",
       "      <th>6</th>\n",
       "      <td>43.0</td>\n",
       "      <td>172.0</td>\n",
       "      <td>60.0</td>\n",
       "      <td>23257.0</td>\n",
       "      <td>ultra</td>\n",
       "      <td>Краснодар</td>\n",
       "    </tr>\n",
       "    <tr>\n",
       "      <th>7</th>\n",
       "      <td>47.0</td>\n",
       "      <td>340.0</td>\n",
       "      <td>75.0</td>\n",
       "      <td>14016.0</td>\n",
       "      <td>ultra</td>\n",
       "      <td>Краснодар</td>\n",
       "    </tr>\n",
       "    <tr>\n",
       "      <th>8</th>\n",
       "      <td>52.0</td>\n",
       "      <td>408.0</td>\n",
       "      <td>81.0</td>\n",
       "      <td>14070.0</td>\n",
       "      <td>ultra</td>\n",
       "      <td>Краснодар</td>\n",
       "    </tr>\n",
       "    <tr>\n",
       "      <th>9</th>\n",
       "      <td>58.0</td>\n",
       "      <td>466.0</td>\n",
       "      <td>57.0</td>\n",
       "      <td>14581.0</td>\n",
       "      <td>ultra</td>\n",
       "      <td>Краснодар</td>\n",
       "    </tr>\n",
       "    <tr>\n",
       "      <th>10</th>\n",
       "      <td>57.0</td>\n",
       "      <td>350.0</td>\n",
       "      <td>73.0</td>\n",
       "      <td>14717.0</td>\n",
       "      <td>ultra</td>\n",
       "      <td>Краснодар</td>\n",
       "    </tr>\n",
       "    <tr>\n",
       "      <th>11</th>\n",
       "      <td>43.0</td>\n",
       "      <td>338.0</td>\n",
       "      <td>58.0</td>\n",
       "      <td>14768.0</td>\n",
       "      <td>ultra</td>\n",
       "      <td>Краснодар</td>\n",
       "    </tr>\n",
       "    <tr>\n",
       "      <th>12</th>\n",
       "      <td>46.0</td>\n",
       "      <td>333.0</td>\n",
       "      <td>70.0</td>\n",
       "      <td>9827.0</td>\n",
       "      <td>ultra</td>\n",
       "      <td>Краснодар</td>\n",
       "    </tr>\n",
       "    <tr>\n",
       "      <th rowspan=\"2\" valign=\"top\">1001</th>\n",
       "      <th>11</th>\n",
       "      <td>59.0</td>\n",
       "      <td>430.0</td>\n",
       "      <td>NaN</td>\n",
       "      <td>18452.0</td>\n",
       "      <td>smart</td>\n",
       "      <td>Москва</td>\n",
       "    </tr>\n",
       "    <tr>\n",
       "      <th>12</th>\n",
       "      <td>63.0</td>\n",
       "      <td>414.0</td>\n",
       "      <td>NaN</td>\n",
       "      <td>14053.0</td>\n",
       "      <td>smart</td>\n",
       "      <td>Москва</td>\n",
       "    </tr>\n",
       "    <tr>\n",
       "      <th rowspan=\"5\" valign=\"top\">1002</th>\n",
       "      <th>6</th>\n",
       "      <td>15.0</td>\n",
       "      <td>117.0</td>\n",
       "      <td>4.0</td>\n",
       "      <td>10871.0</td>\n",
       "      <td>smart</td>\n",
       "      <td>Стерлитамак</td>\n",
       "    </tr>\n",
       "    <tr>\n",
       "      <th>7</th>\n",
       "      <td>26.0</td>\n",
       "      <td>214.0</td>\n",
       "      <td>11.0</td>\n",
       "      <td>17601.0</td>\n",
       "      <td>smart</td>\n",
       "      <td>Стерлитамак</td>\n",
       "    </tr>\n",
       "    <tr>\n",
       "      <th>8</th>\n",
       "      <td>42.0</td>\n",
       "      <td>289.0</td>\n",
       "      <td>13.0</td>\n",
       "      <td>20347.0</td>\n",
       "      <td>smart</td>\n",
       "      <td>Стерлитамак</td>\n",
       "    </tr>\n",
       "    <tr>\n",
       "      <th>9</th>\n",
       "      <td>36.0</td>\n",
       "      <td>206.0</td>\n",
       "      <td>4.0</td>\n",
       "      <td>16712.0</td>\n",
       "      <td>smart</td>\n",
       "      <td>Стерлитамак</td>\n",
       "    </tr>\n",
       "    <tr>\n",
       "      <th>10</th>\n",
       "      <td>33.0</td>\n",
       "      <td>212.0</td>\n",
       "      <td>10.0</td>\n",
       "      <td>13905.0</td>\n",
       "      <td>smart</td>\n",
       "      <td>Стерлитамак</td>\n",
       "    </tr>\n",
       "  </tbody>\n",
       "</table>\n",
       "</div>"
      ],
      "text/plain": [
       "               calls_month_count  calls_month_duration  messages_month_count  \\\n",
       "user_id month                                                                  \n",
       "1000    5                   22.0                 159.0                  22.0   \n",
       "        6                   43.0                 172.0                  60.0   \n",
       "        7                   47.0                 340.0                  75.0   \n",
       "        8                   52.0                 408.0                  81.0   \n",
       "        9                   58.0                 466.0                  57.0   \n",
       "        10                  57.0                 350.0                  73.0   \n",
       "        11                  43.0                 338.0                  58.0   \n",
       "        12                  46.0                 333.0                  70.0   \n",
       "1001    11                  59.0                 430.0                   NaN   \n",
       "        12                  63.0                 414.0                   NaN   \n",
       "1002    6                   15.0                 117.0                   4.0   \n",
       "        7                   26.0                 214.0                  11.0   \n",
       "        8                   42.0                 289.0                  13.0   \n",
       "        9                   36.0                 206.0                   4.0   \n",
       "        10                  33.0                 212.0                  10.0   \n",
       "\n",
       "               internet_monthly_usage tariff         city  \n",
       "user_id month                                              \n",
       "1000    5                      2256.0  ultra    Краснодар  \n",
       "        6                     23257.0  ultra    Краснодар  \n",
       "        7                     14016.0  ultra    Краснодар  \n",
       "        8                     14070.0  ultra    Краснодар  \n",
       "        9                     14581.0  ultra    Краснодар  \n",
       "        10                    14717.0  ultra    Краснодар  \n",
       "        11                    14768.0  ultra    Краснодар  \n",
       "        12                     9827.0  ultra    Краснодар  \n",
       "1001    11                    18452.0  smart       Москва  \n",
       "        12                    14053.0  smart       Москва  \n",
       "1002    6                     10871.0  smart  Стерлитамак  \n",
       "        7                     17601.0  smart  Стерлитамак  \n",
       "        8                     20347.0  smart  Стерлитамак  \n",
       "        9                     16712.0  smart  Стерлитамак  \n",
       "        10                    13905.0  smart  Стерлитамак  "
      ]
     },
     "execution_count": 43,
     "metadata": {},
     "output_type": "execute_result"
    }
   ],
   "source": [
    "monthly_data.head(15)"
   ]
  },
  {
   "cell_type": "code",
   "execution_count": 44,
   "metadata": {},
   "outputs": [
    {
     "name": "stdout",
     "output_type": "stream",
     "text": [
      "<class 'pandas.core.frame.DataFrame'>\n",
      "MultiIndex: 3174 entries, (1000, 5) to (1499, 12)\n",
      "Data columns (total 6 columns):\n",
      " #   Column                  Non-Null Count  Dtype  \n",
      "---  ------                  --------------  -----  \n",
      " 0   calls_month_count       3174 non-null   float64\n",
      " 1   calls_month_duration    3174 non-null   float64\n",
      " 2   messages_month_count    2678 non-null   float64\n",
      " 3   internet_monthly_usage  3163 non-null   float64\n",
      " 4   tariff                  3174 non-null   object \n",
      " 5   city                    3174 non-null   object \n",
      "dtypes: float64(4), object(2)\n",
      "memory usage: 342.4+ KB\n"
     ]
    }
   ],
   "source": [
    "monthly_data.info()"
   ]
  },
  {
   "cell_type": "markdown",
   "metadata": {},
   "source": [
    "Из информации выше, мы видим, что в таблице есть пропуски - абоненты, которые не отправляли сообщения и не пользовались интернетом. В таком случае заменим пропуски нулями."
   ]
  },
  {
   "cell_type": "code",
   "execution_count": 81,
   "metadata": {},
   "outputs": [
    {
     "data": {
      "text/plain": [
       "'Количество пользователей: 492'"
      ]
     },
     "execution_count": 81,
     "metadata": {},
     "output_type": "execute_result"
    }
   ],
   "source": [
    "f'Количество пользователей: {monthly_data.reset_index().user_id.nunique()}'"
   ]
  },
  {
   "cell_type": "code",
   "execution_count": 45,
   "metadata": {},
   "outputs": [],
   "source": [
    "monthly_data['messages_month_count'] = monthly_data['messages_month_count'].fillna(0)\n",
    "monthly_data['internet_monthly_usage'] = monthly_data['internet_monthly_usage'].fillna(0)"
   ]
  },
  {
   "cell_type": "code",
   "execution_count": 46,
   "metadata": {},
   "outputs": [
    {
     "name": "stdout",
     "output_type": "stream",
     "text": [
      "<class 'pandas.core.frame.DataFrame'>\n",
      "MultiIndex: 3174 entries, (1000, 5) to (1499, 12)\n",
      "Data columns (total 6 columns):\n",
      " #   Column                  Non-Null Count  Dtype  \n",
      "---  ------                  --------------  -----  \n",
      " 0   calls_month_count       3174 non-null   float64\n",
      " 1   calls_month_duration    3174 non-null   float64\n",
      " 2   messages_month_count    3174 non-null   float64\n",
      " 3   internet_monthly_usage  3174 non-null   float64\n",
      " 4   tariff                  3174 non-null   object \n",
      " 5   city                    3174 non-null   object \n",
      "dtypes: float64(4), object(2)\n",
      "memory usage: 342.4+ KB\n"
     ]
    }
   ],
   "source": [
    "monthly_data.info()"
   ]
  },
  {
   "cell_type": "markdown",
   "metadata": {},
   "source": [
    "Теперь заменим тип данных с float на целочисленный."
   ]
  },
  {
   "cell_type": "code",
   "execution_count": 47,
   "metadata": {},
   "outputs": [],
   "source": [
    "monthly_data[['calls_month_count', 'calls_month_duration', \n",
    "              'messages_month_count','internet_monthly_usage']] = monthly_data[['calls_month_count', \n",
    "                        'calls_month_duration', 'messages_month_count','internet_monthly_usage']].astype('int')"
   ]
  },
  {
   "cell_type": "code",
   "execution_count": 48,
   "metadata": {},
   "outputs": [
    {
     "data": {
      "text/html": [
       "<div>\n",
       "<style scoped>\n",
       "    .dataframe tbody tr th:only-of-type {\n",
       "        vertical-align: middle;\n",
       "    }\n",
       "\n",
       "    .dataframe tbody tr th {\n",
       "        vertical-align: top;\n",
       "    }\n",
       "\n",
       "    .dataframe thead th {\n",
       "        text-align: right;\n",
       "    }\n",
       "</style>\n",
       "<table border=\"1\" class=\"dataframe\">\n",
       "  <thead>\n",
       "    <tr style=\"text-align: right;\">\n",
       "      <th></th>\n",
       "      <th></th>\n",
       "      <th>calls_month_count</th>\n",
       "      <th>calls_month_duration</th>\n",
       "      <th>messages_month_count</th>\n",
       "      <th>internet_monthly_usage</th>\n",
       "      <th>tariff</th>\n",
       "      <th>city</th>\n",
       "    </tr>\n",
       "    <tr>\n",
       "      <th>user_id</th>\n",
       "      <th>month</th>\n",
       "      <th></th>\n",
       "      <th></th>\n",
       "      <th></th>\n",
       "      <th></th>\n",
       "      <th></th>\n",
       "      <th></th>\n",
       "    </tr>\n",
       "  </thead>\n",
       "  <tbody>\n",
       "    <tr>\n",
       "      <th rowspan=\"8\" valign=\"top\">1000</th>\n",
       "      <th>5</th>\n",
       "      <td>22</td>\n",
       "      <td>159</td>\n",
       "      <td>22</td>\n",
       "      <td>2256</td>\n",
       "      <td>ultra</td>\n",
       "      <td>Краснодар</td>\n",
       "    </tr>\n",
       "    <tr>\n",
       "      <th>6</th>\n",
       "      <td>43</td>\n",
       "      <td>172</td>\n",
       "      <td>60</td>\n",
       "      <td>23257</td>\n",
       "      <td>ultra</td>\n",
       "      <td>Краснодар</td>\n",
       "    </tr>\n",
       "    <tr>\n",
       "      <th>7</th>\n",
       "      <td>47</td>\n",
       "      <td>340</td>\n",
       "      <td>75</td>\n",
       "      <td>14016</td>\n",
       "      <td>ultra</td>\n",
       "      <td>Краснодар</td>\n",
       "    </tr>\n",
       "    <tr>\n",
       "      <th>8</th>\n",
       "      <td>52</td>\n",
       "      <td>408</td>\n",
       "      <td>81</td>\n",
       "      <td>14070</td>\n",
       "      <td>ultra</td>\n",
       "      <td>Краснодар</td>\n",
       "    </tr>\n",
       "    <tr>\n",
       "      <th>9</th>\n",
       "      <td>58</td>\n",
       "      <td>466</td>\n",
       "      <td>57</td>\n",
       "      <td>14581</td>\n",
       "      <td>ultra</td>\n",
       "      <td>Краснодар</td>\n",
       "    </tr>\n",
       "    <tr>\n",
       "      <th>10</th>\n",
       "      <td>57</td>\n",
       "      <td>350</td>\n",
       "      <td>73</td>\n",
       "      <td>14717</td>\n",
       "      <td>ultra</td>\n",
       "      <td>Краснодар</td>\n",
       "    </tr>\n",
       "    <tr>\n",
       "      <th>11</th>\n",
       "      <td>43</td>\n",
       "      <td>338</td>\n",
       "      <td>58</td>\n",
       "      <td>14768</td>\n",
       "      <td>ultra</td>\n",
       "      <td>Краснодар</td>\n",
       "    </tr>\n",
       "    <tr>\n",
       "      <th>12</th>\n",
       "      <td>46</td>\n",
       "      <td>333</td>\n",
       "      <td>70</td>\n",
       "      <td>9827</td>\n",
       "      <td>ultra</td>\n",
       "      <td>Краснодар</td>\n",
       "    </tr>\n",
       "    <tr>\n",
       "      <th rowspan=\"2\" valign=\"top\">1001</th>\n",
       "      <th>11</th>\n",
       "      <td>59</td>\n",
       "      <td>430</td>\n",
       "      <td>0</td>\n",
       "      <td>18452</td>\n",
       "      <td>smart</td>\n",
       "      <td>Москва</td>\n",
       "    </tr>\n",
       "    <tr>\n",
       "      <th>12</th>\n",
       "      <td>63</td>\n",
       "      <td>414</td>\n",
       "      <td>0</td>\n",
       "      <td>14053</td>\n",
       "      <td>smart</td>\n",
       "      <td>Москва</td>\n",
       "    </tr>\n",
       "    <tr>\n",
       "      <th rowspan=\"5\" valign=\"top\">1002</th>\n",
       "      <th>6</th>\n",
       "      <td>15</td>\n",
       "      <td>117</td>\n",
       "      <td>4</td>\n",
       "      <td>10871</td>\n",
       "      <td>smart</td>\n",
       "      <td>Стерлитамак</td>\n",
       "    </tr>\n",
       "    <tr>\n",
       "      <th>7</th>\n",
       "      <td>26</td>\n",
       "      <td>214</td>\n",
       "      <td>11</td>\n",
       "      <td>17601</td>\n",
       "      <td>smart</td>\n",
       "      <td>Стерлитамак</td>\n",
       "    </tr>\n",
       "    <tr>\n",
       "      <th>8</th>\n",
       "      <td>42</td>\n",
       "      <td>289</td>\n",
       "      <td>13</td>\n",
       "      <td>20347</td>\n",
       "      <td>smart</td>\n",
       "      <td>Стерлитамак</td>\n",
       "    </tr>\n",
       "    <tr>\n",
       "      <th>9</th>\n",
       "      <td>36</td>\n",
       "      <td>206</td>\n",
       "      <td>4</td>\n",
       "      <td>16712</td>\n",
       "      <td>smart</td>\n",
       "      <td>Стерлитамак</td>\n",
       "    </tr>\n",
       "    <tr>\n",
       "      <th>10</th>\n",
       "      <td>33</td>\n",
       "      <td>212</td>\n",
       "      <td>10</td>\n",
       "      <td>13905</td>\n",
       "      <td>smart</td>\n",
       "      <td>Стерлитамак</td>\n",
       "    </tr>\n",
       "  </tbody>\n",
       "</table>\n",
       "</div>"
      ],
      "text/plain": [
       "               calls_month_count  calls_month_duration  messages_month_count  \\\n",
       "user_id month                                                                  \n",
       "1000    5                     22                   159                    22   \n",
       "        6                     43                   172                    60   \n",
       "        7                     47                   340                    75   \n",
       "        8                     52                   408                    81   \n",
       "        9                     58                   466                    57   \n",
       "        10                    57                   350                    73   \n",
       "        11                    43                   338                    58   \n",
       "        12                    46                   333                    70   \n",
       "1001    11                    59                   430                     0   \n",
       "        12                    63                   414                     0   \n",
       "1002    6                     15                   117                     4   \n",
       "        7                     26                   214                    11   \n",
       "        8                     42                   289                    13   \n",
       "        9                     36                   206                     4   \n",
       "        10                    33                   212                    10   \n",
       "\n",
       "               internet_monthly_usage tariff         city  \n",
       "user_id month                                              \n",
       "1000    5                        2256  ultra    Краснодар  \n",
       "        6                       23257  ultra    Краснодар  \n",
       "        7                       14016  ultra    Краснодар  \n",
       "        8                       14070  ultra    Краснодар  \n",
       "        9                       14581  ultra    Краснодар  \n",
       "        10                      14717  ultra    Краснодар  \n",
       "        11                      14768  ultra    Краснодар  \n",
       "        12                       9827  ultra    Краснодар  \n",
       "1001    11                      18452  smart       Москва  \n",
       "        12                      14053  smart       Москва  \n",
       "1002    6                       10871  smart  Стерлитамак  \n",
       "        7                       17601  smart  Стерлитамак  \n",
       "        8                       20347  smart  Стерлитамак  \n",
       "        9                       16712  smart  Стерлитамак  \n",
       "        10                      13905  smart  Стерлитамак  "
      ]
     },
     "execution_count": 48,
     "metadata": {},
     "output_type": "execute_result"
    }
   ],
   "source": [
    "monthly_data.head(15)"
   ]
  },
  {
   "cell_type": "code",
   "execution_count": 49,
   "metadata": {},
   "outputs": [
    {
     "name": "stdout",
     "output_type": "stream",
     "text": [
      "<class 'pandas.core.frame.DataFrame'>\n",
      "MultiIndex: 3174 entries, (1000, 5) to (1499, 12)\n",
      "Data columns (total 6 columns):\n",
      " #   Column                  Non-Null Count  Dtype \n",
      "---  ------                  --------------  ----- \n",
      " 0   calls_month_count       3174 non-null   int64 \n",
      " 1   calls_month_duration    3174 non-null   int64 \n",
      " 2   messages_month_count    3174 non-null   int64 \n",
      " 3   internet_monthly_usage  3174 non-null   int64 \n",
      " 4   tariff                  3174 non-null   object\n",
      " 5   city                    3174 non-null   object\n",
      "dtypes: int64(4), object(2)\n",
      "memory usage: 342.4+ KB\n"
     ]
    }
   ],
   "source": [
    "monthly_data.info()"
   ]
  },
  {
   "cell_type": "markdown",
   "metadata": {},
   "source": [
    "### 2.3 Расчет выручки по абоненту за месяц"
   ]
  },
  {
   "cell_type": "markdown",
   "metadata": {},
   "source": [
    "Итак, вызовем таблицу с информацией о тарифах"
   ]
  },
  {
   "cell_type": "code",
   "execution_count": 50,
   "metadata": {},
   "outputs": [
    {
     "data": {
      "text/html": [
       "<div>\n",
       "<style scoped>\n",
       "    .dataframe tbody tr th:only-of-type {\n",
       "        vertical-align: middle;\n",
       "    }\n",
       "\n",
       "    .dataframe tbody tr th {\n",
       "        vertical-align: top;\n",
       "    }\n",
       "\n",
       "    .dataframe thead th {\n",
       "        text-align: right;\n",
       "    }\n",
       "</style>\n",
       "<table border=\"1\" class=\"dataframe\">\n",
       "  <thead>\n",
       "    <tr style=\"text-align: right;\">\n",
       "      <th></th>\n",
       "      <th>messages_included</th>\n",
       "      <th>mb_per_month_included</th>\n",
       "      <th>minutes_included</th>\n",
       "      <th>rub_monthly_fee</th>\n",
       "      <th>rub_per_gb</th>\n",
       "      <th>rub_per_message</th>\n",
       "      <th>rub_per_minute</th>\n",
       "      <th>tariff_name</th>\n",
       "    </tr>\n",
       "  </thead>\n",
       "  <tbody>\n",
       "    <tr>\n",
       "      <th>0</th>\n",
       "      <td>50</td>\n",
       "      <td>15360</td>\n",
       "      <td>500</td>\n",
       "      <td>550</td>\n",
       "      <td>200</td>\n",
       "      <td>3</td>\n",
       "      <td>3</td>\n",
       "      <td>smart</td>\n",
       "    </tr>\n",
       "    <tr>\n",
       "      <th>1</th>\n",
       "      <td>1000</td>\n",
       "      <td>30720</td>\n",
       "      <td>3000</td>\n",
       "      <td>1950</td>\n",
       "      <td>150</td>\n",
       "      <td>1</td>\n",
       "      <td>1</td>\n",
       "      <td>ultra</td>\n",
       "    </tr>\n",
       "  </tbody>\n",
       "</table>\n",
       "</div>"
      ],
      "text/plain": [
       "   messages_included  mb_per_month_included  minutes_included  \\\n",
       "0                 50                  15360               500   \n",
       "1               1000                  30720              3000   \n",
       "\n",
       "   rub_monthly_fee  rub_per_gb  rub_per_message  rub_per_minute tariff_name  \n",
       "0              550         200                3               3       smart  \n",
       "1             1950         150                1               1       ultra  "
      ]
     },
     "execution_count": 50,
     "metadata": {},
     "output_type": "execute_result"
    }
   ],
   "source": [
    "tariffs"
   ]
  },
  {
   "cell_type": "markdown",
   "metadata": {},
   "source": [
    "Итак, у нас 2 тарифа. Мы используем информацию из этой таблицы для написания функции расчета месячной выручки."
   ]
  },
  {
   "cell_type": "code",
   "execution_count": 51,
   "metadata": {},
   "outputs": [],
   "source": [
    "# напишем функцию для строки\n",
    "# она будет принимать строку и проверять какой вид тарифа и пользователя\n",
    "# в зависимости от тарифа будет производиться соответствующие вычисления\n",
    "\n",
    "def revenue_in_month(row):\n",
    "    tariff = row['tariff']\n",
    "    messages = row['messages_month_count']\n",
    "    internet_mb = row['internet_monthly_usage']\n",
    "    minutes = row['calls_month_duration']\n",
    "    \n",
    "    # здесь запишем абонентскую плату по тарифам\n",
    "    \n",
    "    smart_fee = 550\n",
    "    ultra_fee = 1950\n",
    "    \n",
    "    # проверим, является ли тариф smart\n",
    "    \n",
    "    if tariff == 'smart':\n",
    "        # если да - то начинаем считать использованные сообщения, минуты и мегабайты\n",
    "        # сверх включенного в тариф объема\n",
    "        # если лимит не был потрачен, то в extra сохраняем ноль\n",
    "        # если вышли за пределы  - то берем превышение по модулю\n",
    "        \n",
    "        if 50 - messages > 0:\n",
    "            extra_messages = 0\n",
    "        else:\n",
    "            extra_messages = abs(50 - messages)\n",
    "        if 500 - minutes > 0:\n",
    "             extra_minutes = 0\n",
    "        else:\n",
    "             extra_minutes = abs(500 - minutes)\n",
    "        if 15360 - internet_mb > 0:\n",
    "            extra_internet_mb = 0\n",
    "        else:\n",
    "            extra_internet_mb = abs(15360 - internet_mb)\n",
    "            \n",
    "        # здесь умножаем экстра-объем на соответствующие тарифу цены\n",
    "        # количество интернет трафика в мб переводим в гб и округляем вверх\n",
    "        # затем прибавляем абонентскую плату\n",
    "        \n",
    "        monthly_revenue = (extra_messages * 3 + extra_minutes * 3 + \n",
    "        mt.ceil(extra_internet_mb / 1024) * 200 + smart_fee)\n",
    "            \n",
    "        return monthly_revenue\n",
    "    \n",
    "    # здесь проводим вычисления для тарифа ultra\n",
    "    \n",
    "    else:\n",
    "        if 1000 - messages > 0:\n",
    "            extra_messages = 0\n",
    "        else:\n",
    "            extra_messages = abs(1000 - messages)\n",
    "        if 3000 - minutes > 0:\n",
    "             extra_minutes = 0\n",
    "        else:\n",
    "             extra_minutes = abs(3000 - minutes)\n",
    "        if 30720 - internet_mb > 0:\n",
    "            extra_internet_mb = 0\n",
    "        else:\n",
    "            extra_internet_mb = abs(30720 - internet_mb)\n",
    "        \n",
    "        monthly_revenue = (extra_messages * 1 + extra_minutes * 1 + \n",
    "        mt.ceil(extra_internet_mb / 1024) * 150 + ultra_fee)\n",
    "            \n",
    "        return monthly_revenue     "
   ]
  },
  {
   "cell_type": "markdown",
   "metadata": {},
   "source": [
    "Добавляем новый столбец, применяя написанную формулу к строке."
   ]
  },
  {
   "cell_type": "code",
   "execution_count": 52,
   "metadata": {},
   "outputs": [],
   "source": [
    "monthly_data['monthly_revenue'] = monthly_data.apply(revenue_in_month, axis = 1)"
   ]
  },
  {
   "cell_type": "code",
   "execution_count": 53,
   "metadata": {},
   "outputs": [
    {
     "data": {
      "text/html": [
       "<div>\n",
       "<style scoped>\n",
       "    .dataframe tbody tr th:only-of-type {\n",
       "        vertical-align: middle;\n",
       "    }\n",
       "\n",
       "    .dataframe tbody tr th {\n",
       "        vertical-align: top;\n",
       "    }\n",
       "\n",
       "    .dataframe thead th {\n",
       "        text-align: right;\n",
       "    }\n",
       "</style>\n",
       "<table border=\"1\" class=\"dataframe\">\n",
       "  <thead>\n",
       "    <tr style=\"text-align: right;\">\n",
       "      <th></th>\n",
       "      <th></th>\n",
       "      <th>calls_month_count</th>\n",
       "      <th>calls_month_duration</th>\n",
       "      <th>messages_month_count</th>\n",
       "      <th>internet_monthly_usage</th>\n",
       "      <th>tariff</th>\n",
       "      <th>city</th>\n",
       "      <th>monthly_revenue</th>\n",
       "    </tr>\n",
       "    <tr>\n",
       "      <th>user_id</th>\n",
       "      <th>month</th>\n",
       "      <th></th>\n",
       "      <th></th>\n",
       "      <th></th>\n",
       "      <th></th>\n",
       "      <th></th>\n",
       "      <th></th>\n",
       "      <th></th>\n",
       "    </tr>\n",
       "  </thead>\n",
       "  <tbody>\n",
       "    <tr>\n",
       "      <th rowspan=\"8\" valign=\"top\">1000</th>\n",
       "      <th>5</th>\n",
       "      <td>22</td>\n",
       "      <td>159</td>\n",
       "      <td>22</td>\n",
       "      <td>2256</td>\n",
       "      <td>ultra</td>\n",
       "      <td>Краснодар</td>\n",
       "      <td>1950</td>\n",
       "    </tr>\n",
       "    <tr>\n",
       "      <th>6</th>\n",
       "      <td>43</td>\n",
       "      <td>172</td>\n",
       "      <td>60</td>\n",
       "      <td>23257</td>\n",
       "      <td>ultra</td>\n",
       "      <td>Краснодар</td>\n",
       "      <td>1950</td>\n",
       "    </tr>\n",
       "    <tr>\n",
       "      <th>7</th>\n",
       "      <td>47</td>\n",
       "      <td>340</td>\n",
       "      <td>75</td>\n",
       "      <td>14016</td>\n",
       "      <td>ultra</td>\n",
       "      <td>Краснодар</td>\n",
       "      <td>1950</td>\n",
       "    </tr>\n",
       "    <tr>\n",
       "      <th>8</th>\n",
       "      <td>52</td>\n",
       "      <td>408</td>\n",
       "      <td>81</td>\n",
       "      <td>14070</td>\n",
       "      <td>ultra</td>\n",
       "      <td>Краснодар</td>\n",
       "      <td>1950</td>\n",
       "    </tr>\n",
       "    <tr>\n",
       "      <th>9</th>\n",
       "      <td>58</td>\n",
       "      <td>466</td>\n",
       "      <td>57</td>\n",
       "      <td>14581</td>\n",
       "      <td>ultra</td>\n",
       "      <td>Краснодар</td>\n",
       "      <td>1950</td>\n",
       "    </tr>\n",
       "    <tr>\n",
       "      <th>10</th>\n",
       "      <td>57</td>\n",
       "      <td>350</td>\n",
       "      <td>73</td>\n",
       "      <td>14717</td>\n",
       "      <td>ultra</td>\n",
       "      <td>Краснодар</td>\n",
       "      <td>1950</td>\n",
       "    </tr>\n",
       "    <tr>\n",
       "      <th>11</th>\n",
       "      <td>43</td>\n",
       "      <td>338</td>\n",
       "      <td>58</td>\n",
       "      <td>14768</td>\n",
       "      <td>ultra</td>\n",
       "      <td>Краснодар</td>\n",
       "      <td>1950</td>\n",
       "    </tr>\n",
       "    <tr>\n",
       "      <th>12</th>\n",
       "      <td>46</td>\n",
       "      <td>333</td>\n",
       "      <td>70</td>\n",
       "      <td>9827</td>\n",
       "      <td>ultra</td>\n",
       "      <td>Краснодар</td>\n",
       "      <td>1950</td>\n",
       "    </tr>\n",
       "    <tr>\n",
       "      <th rowspan=\"2\" valign=\"top\">1001</th>\n",
       "      <th>11</th>\n",
       "      <td>59</td>\n",
       "      <td>430</td>\n",
       "      <td>0</td>\n",
       "      <td>18452</td>\n",
       "      <td>smart</td>\n",
       "      <td>Москва</td>\n",
       "      <td>1350</td>\n",
       "    </tr>\n",
       "    <tr>\n",
       "      <th>12</th>\n",
       "      <td>63</td>\n",
       "      <td>414</td>\n",
       "      <td>0</td>\n",
       "      <td>14053</td>\n",
       "      <td>smart</td>\n",
       "      <td>Москва</td>\n",
       "      <td>550</td>\n",
       "    </tr>\n",
       "    <tr>\n",
       "      <th rowspan=\"7\" valign=\"top\">1002</th>\n",
       "      <th>6</th>\n",
       "      <td>15</td>\n",
       "      <td>117</td>\n",
       "      <td>4</td>\n",
       "      <td>10871</td>\n",
       "      <td>smart</td>\n",
       "      <td>Стерлитамак</td>\n",
       "      <td>550</td>\n",
       "    </tr>\n",
       "    <tr>\n",
       "      <th>7</th>\n",
       "      <td>26</td>\n",
       "      <td>214</td>\n",
       "      <td>11</td>\n",
       "      <td>17601</td>\n",
       "      <td>smart</td>\n",
       "      <td>Стерлитамак</td>\n",
       "      <td>1150</td>\n",
       "    </tr>\n",
       "    <tr>\n",
       "      <th>8</th>\n",
       "      <td>42</td>\n",
       "      <td>289</td>\n",
       "      <td>13</td>\n",
       "      <td>20347</td>\n",
       "      <td>smart</td>\n",
       "      <td>Стерлитамак</td>\n",
       "      <td>1550</td>\n",
       "    </tr>\n",
       "    <tr>\n",
       "      <th>9</th>\n",
       "      <td>36</td>\n",
       "      <td>206</td>\n",
       "      <td>4</td>\n",
       "      <td>16712</td>\n",
       "      <td>smart</td>\n",
       "      <td>Стерлитамак</td>\n",
       "      <td>950</td>\n",
       "    </tr>\n",
       "    <tr>\n",
       "      <th>10</th>\n",
       "      <td>33</td>\n",
       "      <td>212</td>\n",
       "      <td>10</td>\n",
       "      <td>13905</td>\n",
       "      <td>smart</td>\n",
       "      <td>Стерлитамак</td>\n",
       "      <td>550</td>\n",
       "    </tr>\n",
       "    <tr>\n",
       "      <th>11</th>\n",
       "      <td>32</td>\n",
       "      <td>243</td>\n",
       "      <td>16</td>\n",
       "      <td>18610</td>\n",
       "      <td>smart</td>\n",
       "      <td>Стерлитамак</td>\n",
       "      <td>1350</td>\n",
       "    </tr>\n",
       "    <tr>\n",
       "      <th>12</th>\n",
       "      <td>33</td>\n",
       "      <td>236</td>\n",
       "      <td>12</td>\n",
       "      <td>18137</td>\n",
       "      <td>smart</td>\n",
       "      <td>Стерлитамак</td>\n",
       "      <td>1150</td>\n",
       "    </tr>\n",
       "    <tr>\n",
       "      <th rowspan=\"3\" valign=\"top\">1003</th>\n",
       "      <th>8</th>\n",
       "      <td>55</td>\n",
       "      <td>380</td>\n",
       "      <td>37</td>\n",
       "      <td>8571</td>\n",
       "      <td>ultra</td>\n",
       "      <td>Москва</td>\n",
       "      <td>1950</td>\n",
       "    </tr>\n",
       "    <tr>\n",
       "      <th>9</th>\n",
       "      <td>134</td>\n",
       "      <td>961</td>\n",
       "      <td>91</td>\n",
       "      <td>12479</td>\n",
       "      <td>ultra</td>\n",
       "      <td>Москва</td>\n",
       "      <td>1950</td>\n",
       "    </tr>\n",
       "    <tr>\n",
       "      <th>10</th>\n",
       "      <td>108</td>\n",
       "      <td>855</td>\n",
       "      <td>83</td>\n",
       "      <td>14779</td>\n",
       "      <td>ultra</td>\n",
       "      <td>Москва</td>\n",
       "      <td>1950</td>\n",
       "    </tr>\n",
       "  </tbody>\n",
       "</table>\n",
       "</div>"
      ],
      "text/plain": [
       "               calls_month_count  calls_month_duration  messages_month_count  \\\n",
       "user_id month                                                                  \n",
       "1000    5                     22                   159                    22   \n",
       "        6                     43                   172                    60   \n",
       "        7                     47                   340                    75   \n",
       "        8                     52                   408                    81   \n",
       "        9                     58                   466                    57   \n",
       "        10                    57                   350                    73   \n",
       "        11                    43                   338                    58   \n",
       "        12                    46                   333                    70   \n",
       "1001    11                    59                   430                     0   \n",
       "        12                    63                   414                     0   \n",
       "1002    6                     15                   117                     4   \n",
       "        7                     26                   214                    11   \n",
       "        8                     42                   289                    13   \n",
       "        9                     36                   206                     4   \n",
       "        10                    33                   212                    10   \n",
       "        11                    32                   243                    16   \n",
       "        12                    33                   236                    12   \n",
       "1003    8                     55                   380                    37   \n",
       "        9                    134                   961                    91   \n",
       "        10                   108                   855                    83   \n",
       "\n",
       "               internet_monthly_usage tariff         city  monthly_revenue  \n",
       "user_id month                                                               \n",
       "1000    5                        2256  ultra    Краснодар             1950  \n",
       "        6                       23257  ultra    Краснодар             1950  \n",
       "        7                       14016  ultra    Краснодар             1950  \n",
       "        8                       14070  ultra    Краснодар             1950  \n",
       "        9                       14581  ultra    Краснодар             1950  \n",
       "        10                      14717  ultra    Краснодар             1950  \n",
       "        11                      14768  ultra    Краснодар             1950  \n",
       "        12                       9827  ultra    Краснодар             1950  \n",
       "1001    11                      18452  smart       Москва             1350  \n",
       "        12                      14053  smart       Москва              550  \n",
       "1002    6                       10871  smart  Стерлитамак              550  \n",
       "        7                       17601  smart  Стерлитамак             1150  \n",
       "        8                       20347  smart  Стерлитамак             1550  \n",
       "        9                       16712  smart  Стерлитамак              950  \n",
       "        10                      13905  smart  Стерлитамак              550  \n",
       "        11                      18610  smart  Стерлитамак             1350  \n",
       "        12                      18137  smart  Стерлитамак             1150  \n",
       "1003    8                        8571  ultra       Москва             1950  \n",
       "        9                       12479  ultra       Москва             1950  \n",
       "        10                      14779  ultra       Москва             1950  "
      ]
     },
     "execution_count": 53,
     "metadata": {},
     "output_type": "execute_result"
    }
   ],
   "source": [
    "monthly_data.head(20)"
   ]
  },
  {
   "cell_type": "markdown",
   "metadata": {},
   "source": [
    "Узнаем, сколько у нас месяцев, соответствующих тарифу ultra и сколько - smart."
   ]
  },
  {
   "cell_type": "code",
   "execution_count": 54,
   "metadata": {},
   "outputs": [
    {
     "data": {
      "text/plain": [
       "smart    2223\n",
       "ultra     951\n",
       "Name: tariff, dtype: int64"
      ]
     },
     "execution_count": 54,
     "metadata": {},
     "output_type": "execute_result"
    }
   ],
   "source": [
    "monthly_data['tariff'].value_counts()"
   ]
  },
  {
   "cell_type": "markdown",
   "metadata": {},
   "source": [
    "Количество доступных данных по абонентам smart более чем в 2 раза превышает доступные данные по абонентам ultra."
   ]
  },
  {
   "cell_type": "markdown",
   "metadata": {},
   "source": [
    "### Вывод "
   ]
  },
  {
   "cell_type": "markdown",
   "metadata": {},
   "source": [
    "Итак, на этом этапе мы сгруппировали данные по пользователям и месяцам, посчитав количество звоноков в минутах в месяц, сообщений в месяц, потраченных мегабайтов интернета в месяц.\n",
    "\n",
    "Затем мы объединили полученные данные в большой датафрейм - monthly_data.\n",
    "\n",
    "После этого написали формулу для расчета выручки в месяц и применили ее к строке, получив необходимые значения.\n",
    "\n",
    "На следующем этапе проанализируем полученные данные.\n",
    "\n"
   ]
  },
  {
   "cell_type": "markdown",
   "metadata": {},
   "source": [
    "## Шаг 3. Анализ данных"
   ]
  },
  {
   "cell_type": "markdown",
   "metadata": {},
   "source": [
    "Начнем анализировать то, как пользуются услугами абоненты двух тарифных групп.\n",
    "\n",
    "Для этого создадим отдельные таблицы, в которых будут абоненты только одного тарифа.\n",
    "\n",
    "Начнем с тарифа smart."
   ]
  },
  {
   "cell_type": "markdown",
   "metadata": {},
   "source": [
    "### 3.1 Анализ абонентов тарифа smart"
   ]
  },
  {
   "cell_type": "code",
   "execution_count": 55,
   "metadata": {},
   "outputs": [
    {
     "data": {
      "text/html": [
       "<div>\n",
       "<style scoped>\n",
       "    .dataframe tbody tr th:only-of-type {\n",
       "        vertical-align: middle;\n",
       "    }\n",
       "\n",
       "    .dataframe tbody tr th {\n",
       "        vertical-align: top;\n",
       "    }\n",
       "\n",
       "    .dataframe thead th {\n",
       "        text-align: right;\n",
       "    }\n",
       "</style>\n",
       "<table border=\"1\" class=\"dataframe\">\n",
       "  <thead>\n",
       "    <tr style=\"text-align: right;\">\n",
       "      <th></th>\n",
       "      <th></th>\n",
       "      <th>calls_month_count</th>\n",
       "      <th>calls_month_duration</th>\n",
       "      <th>messages_month_count</th>\n",
       "      <th>internet_monthly_usage</th>\n",
       "      <th>tariff</th>\n",
       "      <th>city</th>\n",
       "      <th>monthly_revenue</th>\n",
       "    </tr>\n",
       "    <tr>\n",
       "      <th>user_id</th>\n",
       "      <th>month</th>\n",
       "      <th></th>\n",
       "      <th></th>\n",
       "      <th></th>\n",
       "      <th></th>\n",
       "      <th></th>\n",
       "      <th></th>\n",
       "      <th></th>\n",
       "    </tr>\n",
       "  </thead>\n",
       "  <tbody>\n",
       "    <tr>\n",
       "      <th rowspan=\"2\" valign=\"top\">1001</th>\n",
       "      <th>11</th>\n",
       "      <td>59</td>\n",
       "      <td>430</td>\n",
       "      <td>0</td>\n",
       "      <td>18452</td>\n",
       "      <td>smart</td>\n",
       "      <td>Москва</td>\n",
       "      <td>1350</td>\n",
       "    </tr>\n",
       "    <tr>\n",
       "      <th>12</th>\n",
       "      <td>63</td>\n",
       "      <td>414</td>\n",
       "      <td>0</td>\n",
       "      <td>14053</td>\n",
       "      <td>smart</td>\n",
       "      <td>Москва</td>\n",
       "      <td>550</td>\n",
       "    </tr>\n",
       "    <tr>\n",
       "      <th rowspan=\"7\" valign=\"top\">1002</th>\n",
       "      <th>6</th>\n",
       "      <td>15</td>\n",
       "      <td>117</td>\n",
       "      <td>4</td>\n",
       "      <td>10871</td>\n",
       "      <td>smart</td>\n",
       "      <td>Стерлитамак</td>\n",
       "      <td>550</td>\n",
       "    </tr>\n",
       "    <tr>\n",
       "      <th>7</th>\n",
       "      <td>26</td>\n",
       "      <td>214</td>\n",
       "      <td>11</td>\n",
       "      <td>17601</td>\n",
       "      <td>smart</td>\n",
       "      <td>Стерлитамак</td>\n",
       "      <td>1150</td>\n",
       "    </tr>\n",
       "    <tr>\n",
       "      <th>8</th>\n",
       "      <td>42</td>\n",
       "      <td>289</td>\n",
       "      <td>13</td>\n",
       "      <td>20347</td>\n",
       "      <td>smart</td>\n",
       "      <td>Стерлитамак</td>\n",
       "      <td>1550</td>\n",
       "    </tr>\n",
       "    <tr>\n",
       "      <th>9</th>\n",
       "      <td>36</td>\n",
       "      <td>206</td>\n",
       "      <td>4</td>\n",
       "      <td>16712</td>\n",
       "      <td>smart</td>\n",
       "      <td>Стерлитамак</td>\n",
       "      <td>950</td>\n",
       "    </tr>\n",
       "    <tr>\n",
       "      <th>10</th>\n",
       "      <td>33</td>\n",
       "      <td>212</td>\n",
       "      <td>10</td>\n",
       "      <td>13905</td>\n",
       "      <td>smart</td>\n",
       "      <td>Стерлитамак</td>\n",
       "      <td>550</td>\n",
       "    </tr>\n",
       "    <tr>\n",
       "      <th>11</th>\n",
       "      <td>32</td>\n",
       "      <td>243</td>\n",
       "      <td>16</td>\n",
       "      <td>18610</td>\n",
       "      <td>smart</td>\n",
       "      <td>Стерлитамак</td>\n",
       "      <td>1350</td>\n",
       "    </tr>\n",
       "    <tr>\n",
       "      <th>12</th>\n",
       "      <td>33</td>\n",
       "      <td>236</td>\n",
       "      <td>12</td>\n",
       "      <td>18137</td>\n",
       "      <td>smart</td>\n",
       "      <td>Стерлитамак</td>\n",
       "      <td>1150</td>\n",
       "    </tr>\n",
       "    <tr>\n",
       "      <th rowspan=\"6\" valign=\"top\">1005</th>\n",
       "      <th>1</th>\n",
       "      <td>15</td>\n",
       "      <td>95</td>\n",
       "      <td>7</td>\n",
       "      <td>2730</td>\n",
       "      <td>smart</td>\n",
       "      <td>Набережные Челны</td>\n",
       "      <td>550</td>\n",
       "    </tr>\n",
       "    <tr>\n",
       "      <th>2</th>\n",
       "      <td>69</td>\n",
       "      <td>456</td>\n",
       "      <td>38</td>\n",
       "      <td>7394</td>\n",
       "      <td>smart</td>\n",
       "      <td>Набережные Челны</td>\n",
       "      <td>550</td>\n",
       "    </tr>\n",
       "    <tr>\n",
       "      <th>3</th>\n",
       "      <td>77</td>\n",
       "      <td>606</td>\n",
       "      <td>56</td>\n",
       "      <td>11117</td>\n",
       "      <td>smart</td>\n",
       "      <td>Набережные Челны</td>\n",
       "      <td>886</td>\n",
       "    </tr>\n",
       "    <tr>\n",
       "      <th>4</th>\n",
       "      <td>101</td>\n",
       "      <td>712</td>\n",
       "      <td>41</td>\n",
       "      <td>9365</td>\n",
       "      <td>smart</td>\n",
       "      <td>Набережные Челны</td>\n",
       "      <td>1186</td>\n",
       "    </tr>\n",
       "    <tr>\n",
       "      <th>5</th>\n",
       "      <td>73</td>\n",
       "      <td>595</td>\n",
       "      <td>42</td>\n",
       "      <td>7877</td>\n",
       "      <td>smart</td>\n",
       "      <td>Набережные Челны</td>\n",
       "      <td>835</td>\n",
       "    </tr>\n",
       "    <tr>\n",
       "      <th>6</th>\n",
       "      <td>80</td>\n",
       "      <td>612</td>\n",
       "      <td>47</td>\n",
       "      <td>9875</td>\n",
       "      <td>smart</td>\n",
       "      <td>Набережные Челны</td>\n",
       "      <td>886</td>\n",
       "    </tr>\n",
       "  </tbody>\n",
       "</table>\n",
       "</div>"
      ],
      "text/plain": [
       "               calls_month_count  calls_month_duration  messages_month_count  \\\n",
       "user_id month                                                                  \n",
       "1001    11                    59                   430                     0   \n",
       "        12                    63                   414                     0   \n",
       "1002    6                     15                   117                     4   \n",
       "        7                     26                   214                    11   \n",
       "        8                     42                   289                    13   \n",
       "        9                     36                   206                     4   \n",
       "        10                    33                   212                    10   \n",
       "        11                    32                   243                    16   \n",
       "        12                    33                   236                    12   \n",
       "1005    1                     15                    95                     7   \n",
       "        2                     69                   456                    38   \n",
       "        3                     77                   606                    56   \n",
       "        4                    101                   712                    41   \n",
       "        5                     73                   595                    42   \n",
       "        6                     80                   612                    47   \n",
       "\n",
       "               internet_monthly_usage tariff              city  \\\n",
       "user_id month                                                    \n",
       "1001    11                      18452  smart            Москва   \n",
       "        12                      14053  smart            Москва   \n",
       "1002    6                       10871  smart       Стерлитамак   \n",
       "        7                       17601  smart       Стерлитамак   \n",
       "        8                       20347  smart       Стерлитамак   \n",
       "        9                       16712  smart       Стерлитамак   \n",
       "        10                      13905  smart       Стерлитамак   \n",
       "        11                      18610  smart       Стерлитамак   \n",
       "        12                      18137  smart       Стерлитамак   \n",
       "1005    1                        2730  smart  Набережные Челны   \n",
       "        2                        7394  smart  Набережные Челны   \n",
       "        3                       11117  smart  Набережные Челны   \n",
       "        4                        9365  smart  Набережные Челны   \n",
       "        5                        7877  smart  Набережные Челны   \n",
       "        6                        9875  smart  Набережные Челны   \n",
       "\n",
       "               monthly_revenue  \n",
       "user_id month                   \n",
       "1001    11                1350  \n",
       "        12                 550  \n",
       "1002    6                  550  \n",
       "        7                 1150  \n",
       "        8                 1550  \n",
       "        9                  950  \n",
       "        10                 550  \n",
       "        11                1350  \n",
       "        12                1150  \n",
       "1005    1                  550  \n",
       "        2                  550  \n",
       "        3                  886  \n",
       "        4                 1186  \n",
       "        5                  835  \n",
       "        6                  886  "
      ]
     },
     "execution_count": 55,
     "metadata": {},
     "output_type": "execute_result"
    }
   ],
   "source": [
    "monthly_data_smart = monthly_data.query('tariff == \"smart\"')\n",
    "monthly_data_smart.head(15)"
   ]
  },
  {
   "cell_type": "markdown",
   "metadata": {},
   "source": [
    "Посчитаем, сколько у нас доступных для анализа абоненто-месяцев."
   ]
  },
  {
   "cell_type": "code",
   "execution_count": 56,
   "metadata": {},
   "outputs": [
    {
     "name": "stdout",
     "output_type": "stream",
     "text": [
      "<class 'pandas.core.frame.DataFrame'>\n",
      "MultiIndex: 2223 entries, (1001, 11) to (1499, 12)\n",
      "Data columns (total 7 columns):\n",
      " #   Column                  Non-Null Count  Dtype \n",
      "---  ------                  --------------  ----- \n",
      " 0   calls_month_count       2223 non-null   int64 \n",
      " 1   calls_month_duration    2223 non-null   int64 \n",
      " 2   messages_month_count    2223 non-null   int64 \n",
      " 3   internet_monthly_usage  2223 non-null   int64 \n",
      " 4   tariff                  2223 non-null   object\n",
      " 5   city                    2223 non-null   object\n",
      " 6   monthly_revenue         2223 non-null   int64 \n",
      "dtypes: int64(5), object(2)\n",
      "memory usage: 152.4+ KB\n"
     ]
    }
   ],
   "source": [
    "monthly_data_smart.info()"
   ]
  },
  {
   "cell_type": "code",
   "execution_count": 57,
   "metadata": {},
   "outputs": [
    {
     "data": {
      "text/html": [
       "<div>\n",
       "<style scoped>\n",
       "    .dataframe tbody tr th:only-of-type {\n",
       "        vertical-align: middle;\n",
       "    }\n",
       "\n",
       "    .dataframe tbody tr th {\n",
       "        vertical-align: top;\n",
       "    }\n",
       "\n",
       "    .dataframe thead th {\n",
       "        text-align: right;\n",
       "    }\n",
       "</style>\n",
       "<table border=\"1\" class=\"dataframe\">\n",
       "  <thead>\n",
       "    <tr style=\"text-align: right;\">\n",
       "      <th></th>\n",
       "      <th>calls_month_count</th>\n",
       "      <th>calls_month_duration</th>\n",
       "      <th>messages_month_count</th>\n",
       "      <th>internet_monthly_usage</th>\n",
       "      <th>monthly_revenue</th>\n",
       "    </tr>\n",
       "  </thead>\n",
       "  <tbody>\n",
       "    <tr>\n",
       "      <th>count</th>\n",
       "      <td>2223.000000</td>\n",
       "      <td>2223.000000</td>\n",
       "      <td>2223.000000</td>\n",
       "      <td>2223.000000</td>\n",
       "      <td>2223.000000</td>\n",
       "    </tr>\n",
       "    <tr>\n",
       "      <th>mean</th>\n",
       "      <td>58.621233</td>\n",
       "      <td>419.062978</td>\n",
       "      <td>33.396311</td>\n",
       "      <td>16230.166892</td>\n",
       "      <td>1295.569501</td>\n",
       "    </tr>\n",
       "    <tr>\n",
       "      <th>std</th>\n",
       "      <td>25.796101</td>\n",
       "      <td>189.325618</td>\n",
       "      <td>28.259437</td>\n",
       "      <td>5883.363044</td>\n",
       "      <td>821.648034</td>\n",
       "    </tr>\n",
       "    <tr>\n",
       "      <th>min</th>\n",
       "      <td>1.000000</td>\n",
       "      <td>0.000000</td>\n",
       "      <td>0.000000</td>\n",
       "      <td>0.000000</td>\n",
       "      <td>550.000000</td>\n",
       "    </tr>\n",
       "    <tr>\n",
       "      <th>25%</th>\n",
       "      <td>40.000000</td>\n",
       "      <td>285.000000</td>\n",
       "      <td>10.000000</td>\n",
       "      <td>12665.000000</td>\n",
       "      <td>550.000000</td>\n",
       "    </tr>\n",
       "    <tr>\n",
       "      <th>50%</th>\n",
       "      <td>60.000000</td>\n",
       "      <td>423.000000</td>\n",
       "      <td>28.000000</td>\n",
       "      <td>16527.000000</td>\n",
       "      <td>1039.000000</td>\n",
       "    </tr>\n",
       "    <tr>\n",
       "      <th>75%</th>\n",
       "      <td>76.000000</td>\n",
       "      <td>545.500000</td>\n",
       "      <td>51.000000</td>\n",
       "      <td>20074.000000</td>\n",
       "      <td>1750.000000</td>\n",
       "    </tr>\n",
       "    <tr>\n",
       "      <th>max</th>\n",
       "      <td>198.000000</td>\n",
       "      <td>1435.000000</td>\n",
       "      <td>143.000000</td>\n",
       "      <td>38610.000000</td>\n",
       "      <td>6770.000000</td>\n",
       "    </tr>\n",
       "  </tbody>\n",
       "</table>\n",
       "</div>"
      ],
      "text/plain": [
       "       calls_month_count  calls_month_duration  messages_month_count  \\\n",
       "count        2223.000000           2223.000000           2223.000000   \n",
       "mean           58.621233            419.062978             33.396311   \n",
       "std            25.796101            189.325618             28.259437   \n",
       "min             1.000000              0.000000              0.000000   \n",
       "25%            40.000000            285.000000             10.000000   \n",
       "50%            60.000000            423.000000             28.000000   \n",
       "75%            76.000000            545.500000             51.000000   \n",
       "max           198.000000           1435.000000            143.000000   \n",
       "\n",
       "       internet_monthly_usage  monthly_revenue  \n",
       "count             2223.000000      2223.000000  \n",
       "mean             16230.166892      1295.569501  \n",
       "std               5883.363044       821.648034  \n",
       "min                  0.000000       550.000000  \n",
       "25%              12665.000000       550.000000  \n",
       "50%              16527.000000      1039.000000  \n",
       "75%              20074.000000      1750.000000  \n",
       "max              38610.000000      6770.000000  "
      ]
     },
     "execution_count": 57,
     "metadata": {},
     "output_type": "execute_result"
    }
   ],
   "source": [
    "monthly_data_smart.describe()"
   ]
  },
  {
   "cell_type": "markdown",
   "metadata": {},
   "source": [
    "Значит у нас есть 2223 значений, которые мы можем проанализировать."
   ]
  },
  {
   "cell_type": "markdown",
   "metadata": {},
   "source": [
    "Сначала проверим данные на выбивающиеся значения, построим боксплоты."
   ]
  },
  {
   "cell_type": "code",
   "execution_count": 58,
   "metadata": {},
   "outputs": [
    {
     "data": {
      "image/png": "[encoded data removed]",
      "text/plain": [
       "<Figure size 432x288 with 1 Axes>"
      ]
     },
     "metadata": {
      "needs_background": "light"
     },
     "output_type": "display_data"
    },
    {
     "data": {
      "image/png": "[encoded data removed]",
      "text/plain": [
       "<Figure size 432x288 with 1 Axes>"
      ]
     },
     "metadata": {
      "needs_background": "light"
     },
     "output_type": "display_data"
    },
    {
     "data": {
      "image/png": "[encoded data removed]",
      "text/plain": [
       "<Figure size 432x288 with 1 Axes>"
      ]
     },
     "metadata": {
      "needs_background": "light"
     },
     "output_type": "display_data"
    },
    {
     "data": {
      "image/png": "[encoded data removed]",
      "text/plain": [
       "<Figure size 432x288 with 1 Axes>"
      ]
     },
     "metadata": {
      "needs_background": "light"
     },
     "output_type": "display_data"
    }
   ],
   "source": [
    "for column in ['calls_month_duration', 'messages_month_count','internet_monthly_usage', 'monthly_revenue']:\n",
    "    plt.subplots(1)\n",
    "    monthly_data_smart.boxplot(column)"
   ]
  },
  {
   "cell_type": "markdown",
   "metadata": {},
   "source": [
    "В целом можно сказать, что да, есть значения, выходящие за полтора межквартильных размаха сверху, но слишком выбивающимися их назвать трудно.\n",
    "\n",
    "Отдельно отметим, что по показателю месячной выручки по тарифу 'smart' достаточно большое количество выбросов, что может нам намекать на то, что данный тариф может приносить существенно большую выручку, чем абонентская плата."
   ]
  },
  {
   "cell_type": "markdown",
   "metadata": {},
   "source": [
    "Далее построим гистограммы для визуализации того, как используют звонки, сообщения, интернет абоненты тарифа smart, а также взглянем на распределение выручки в месяц.\n",
    "\n",
    "Для этого создадим словарь, где ключами будут столбцы, а значениями - списки с названиями графиков, диапазоном значений и количеством корзин."
   ]
  },
  {
   "cell_type": "code",
   "execution_count": 59,
   "metadata": {},
   "outputs": [
    {
     "name": "stdout",
     "output_type": "stream",
     "text": [
      "Длительность звонков в месяц, минут:\n",
      "Медиана: 423\n",
      "Среднее: 419\n",
      "Ст. отклонение: 189\n",
      "Дисперсия: 35844\n",
      "\n",
      "Количество отправленных сообщений в месяц, шт.:\n",
      "Медиана: 28\n",
      "Среднее: 33\n",
      "Ст. отклонение: 28\n",
      "Дисперсия: 799\n",
      "\n",
      "Объем потраченного интернет-трафика, мб:\n",
      "Медиана: 16527\n",
      "Среднее: 16230\n",
      "Ст. отклонение: 5883\n",
      "Дисперсия: 34613961\n",
      "\n",
      "Средняя выручка с абонента, руб:\n",
      "Медиана: 1039\n",
      "Среднее: 1296\n",
      "Ст. отклонение: 822\n",
      "Дисперсия: 675105\n",
      "\n"
     ]
    },
    {
     "data": {
      "image/png": "[encoded data removed]",
      "text/plain": [
       "<Figure size 432x288 with 1 Axes>"
      ]
     },
     "metadata": {
      "needs_background": "light"
     },
     "output_type": "display_data"
    },
    {
     "data": {
      "image/png": "[encoded data removed]",
      "text/plain": [
       "<Figure size 432x288 with 1 Axes>"
      ]
     },
     "metadata": {
      "needs_background": "light"
     },
     "output_type": "display_data"
    },
    {
     "data": {
      "image/png": "[encoded data removed]",
      "text/plain": [
       "<Figure size 432x288 with 1 Axes>"
      ]
     },
     "metadata": {
      "needs_background": "light"
     },
     "output_type": "display_data"
    },
    {
     "data": {
      "image/png": "[encoded data removed]",
      "text/plain": [
       "<Figure size 432x288 with 1 Axes>"
      ]
     },
     "metadata": {
      "needs_background": "light"
     },
     "output_type": "display_data"
    }
   ],
   "source": [
    "cols_for_viz_smart = {'calls_month_duration' : ['Длительность звонков в месяц, минут', (0, 1450), 29],\n",
    "                'messages_month_count' : ['Количество отправленных сообщений в месяц, шт.', (0, 145), 29],\n",
    "                'internet_monthly_usage' : ['Объем потраченного интернет-трафика, мб', (0, 38000), 38],\n",
    "                'monthly_revenue' : ['Средняя выручка с абонента, руб', (500, 7000), 26]}\n",
    "\n",
    "for col, name in cols_for_viz_smart.items():\n",
    "    monthly_data_smart.plot(y=col, title=name[0], grid=True, kind='hist', color='b', legend=False, range=name[1], bins=name[2], alpha = 0.7)\n",
    "    print(f'{name[0]}:\\nМедиана: {monthly_data_smart[col].median():.0f}\\nСреднее: {monthly_data_smart[col].mean():.0f}\\nСт. отклонение: {np.sqrt(np.var(monthly_data_smart[col], ddof=1)):.0f}\\nДисперсия: {np.var(monthly_data_smart[col],ddof=1):.0f}\\n')\n",
    "    plt.ylabel('Частота')\n",
    "    plt.xlabel(name[0])"
   ]
  },
  {
   "cell_type": "markdown",
   "metadata": {},
   "source": [
    "Итак, сначала рассмотрим первую гистограмму с длительностью звонков в течение месяца.\n",
    "\n",
    "Из графика видно, что распределение длительности звонков в месяц в целом похоже на нормальное, но пик значений приходится на 500-550 минут.\n",
    "\n",
    "Из расчетов видно, что в среднем пользователи тарифа smart совершают звонки на 419 минут в месяц, что ниже предоставленного лимита.\n",
    "\n",
    "Интресно проанализировать какую долю составляли месяцы, в которых абоненты прибегали к дополнительным услугам."
   ]
  },
  {
   "cell_type": "code",
   "execution_count": 60,
   "metadata": {},
   "outputs": [
    {
     "name": "stdout",
     "output_type": "stream",
     "text": [
      "Доля месяцев с дополнительными минутами: 33.92%\n"
     ]
    }
   ],
   "source": [
    "print(f\"Доля месяцев с дополнительными минутами: {len(monthly_data_smart.query('calls_month_duration > 500')) / len(monthly_data_smart['calls_month_duration']):.2%}\")"
   ]
  },
  {
   "cell_type": "markdown",
   "metadata": {},
   "source": [
    "То есть, в трети месяцев абоненты пользовались дополнительными минутами.\n",
    "\n",
    "Узнаем, сколько минут в среднем приходилось оплачивать."
   ]
  },
  {
   "cell_type": "code",
   "execution_count": 61,
   "metadata": {},
   "outputs": [
    {
     "name": "stdout",
     "output_type": "stream",
     "text": [
      "Среднее превышение лимита абонентами, которым не хватало 500 минут: 123\n"
     ]
    }
   ],
   "source": [
    "print(f\"Среднее превышение лимита абонентами, которым не хватало 500 минут: {monthly_data_smart.query('calls_month_duration > 500')['calls_month_duration'].mean() - 500:.0f}\")"
   ]
  },
  {
   "cell_type": "markdown",
   "metadata": {},
   "source": [
    "Значит, абонентам потребности в разговорах которых превышали лимит минут, нужно было еще около 2 часов звонков."
   ]
  },
  {
   "cell_type": "markdown",
   "metadata": {},
   "source": [
    "Далее взглянем на график с сообщениями.\n",
    "\n",
    "Видно, что было очень большое количество месяцев, когда абоненты не отправляли никаких сообщений.\n",
    "\n",
    "Но среднее значение отправленных сообщений - 28.\n",
    "\n",
    "Также посмотрим, сколько людей прибегало к отправке сообщений сверх лимита и сколько сообщений такие люди отправляли выше включенного в плату значения."
   ]
  },
  {
   "cell_type": "code",
   "execution_count": 62,
   "metadata": {},
   "outputs": [
    {
     "name": "stdout",
     "output_type": "stream",
     "text": [
      "Доля месяцев с дополнительными сообщениями: 25.37%\n",
      "Среднее превышение лимита абонентами, которым не хватало 50 сообщений: 23\n"
     ]
    }
   ],
   "source": [
    "print(f\"Доля месяцев с дополнительными сообщениями: {len(monthly_data_smart.query('messages_month_count > 50')) / len(monthly_data_smart['messages_month_count']):.2%}\")\n",
    "print(f\"Среднее превышение лимита абонентами, которым не хватало 50 сообщений: {monthly_data_smart.query('messages_month_count > 50')['messages_month_count'].mean() - 50:.0f}\")"
   ]
  },
  {
   "cell_type": "markdown",
   "metadata": {},
   "source": [
    "В четверти месяцев абоненты выбивались за лимит сообщений, и в среднем им требовалось около 23 сообщений."
   ]
  },
  {
   "cell_type": "markdown",
   "metadata": {},
   "source": [
    "Далее посмотрим на гистограмму потраченного мегабайтов интернета.\n",
    "\n",
    "Обращает на себя внимание, что распределение частоты этого параметра очень похоже на нормальное.\n",
    "\n",
    "Расчетное среднее значение - 16200 мб, и на графике видно, что пик приходится на значения в диапазоне от 16000 до 17000 мб. Хвосты в целом укладываются в пределах среднего и трех сигм.\n",
    "\n",
    "Посмотрим, в скольких месяцах абоненты выбились за лимит предоставленного трафика и солько трафика в среднем бралось дополнительно."
   ]
  },
  {
   "cell_type": "code",
   "execution_count": 63,
   "metadata": {},
   "outputs": [
    {
     "name": "stdout",
     "output_type": "stream",
     "text": [
      "Доля месяцев с дополнительным интернет-трафиком: 58.70%\n",
      "Среднее превышение лимита абонентами, которым не хватало 15 ГБ интернета: 4724\n"
     ]
    }
   ],
   "source": [
    "print(f\"Доля месяцев с дополнительным интернет-трафиком: {len(monthly_data_smart.query('internet_monthly_usage > 15360')) / len(monthly_data_smart['internet_monthly_usage']):.2%}\")\n",
    "print(f\"Среднее превышение лимита абонентами, которым не хватало 15 ГБ интернета: {monthly_data_smart.query('internet_monthly_usage > 15360')['internet_monthly_usage'].mean() - 15360:.0f}\")"
   ]
  },
  {
   "cell_type": "markdown",
   "metadata": {},
   "source": [
    "Здесь получились очень интересные данные.\n",
    "\n",
    "Получается больше, чем в половине случаев пользователи тарифа smart выбивались из лимита включенного трафика, и в среднем им требовалось почти 5 гб интернета. "
   ]
  },
  {
   "cell_type": "markdown",
   "metadata": {},
   "source": [
    "Далее посмотрим на распределение выручки по месяцам.\n",
    "\n",
    "Здесь видно, что стандартная абонентская плата в 550 рублей взималась примерно в трети месяцев.\n",
    "\n",
    "Среднее значение выручки этого тарифа - около 1300 рублей, что более чем вдвое превышает абонентскую плату.\n",
    "\n",
    "Посчитаем, сколько всего принес денег этот тариф."
   ]
  },
  {
   "cell_type": "code",
   "execution_count": 64,
   "metadata": {},
   "outputs": [
    {
     "name": "stdout",
     "output_type": "stream",
     "text": [
      "Суммарная выручка от абонентов тарифа smart: 2880051 тыс. руб.\n"
     ]
    }
   ],
   "source": [
    "print(f\"Суммарная выручка от абонентов тарифа smart: {monthly_data_smart['monthly_revenue'].sum()} тыс. руб.\")"
   ]
  },
  {
   "cell_type": "markdown",
   "metadata": {},
   "source": [
    "## Вывод "
   ]
  },
  {
   "cell_type": "markdown",
   "metadata": {},
   "source": [
    "Абоненты тарифа smart достаточно часто прибегают к дополнительным услугам сверх тарифного пакета - в трети случаев по звонкам, в четверти - по сообщениям и в более половине случаев по интернету.\n",
    "\n",
    "Средняя выручка существенно (более чем вдвое) превышает абонентскую плату, составляя почти 1300 рублей, но обладает также значительным стандартным отклонением.\n",
    "\n",
    "Вообще выглядит так, что такой тарифный план не слишком удобен для большинства абонентов, так как потребности в интернет-трафике у людей куда больше, чем предлагает тариф. И получается, что при превышении трафика на 2 ГБ (13%) абоненту приходится дополнительно платить примерно 75% абонентской платы.\n",
    "\n",
    "Возможно, это негативно сказывается на пользовательском опыте, но, видимо, данных слишком мало, чтобы говорить о том, что есть серьезный отток абонентов. Всего 23 пользователя тарифа smart отказались от него."
   ]
  },
  {
   "cell_type": "markdown",
   "metadata": {},
   "source": [
    "## 3.2 Анализ абонентов тарифа ultra"
   ]
  },
  {
   "cell_type": "markdown",
   "metadata": {},
   "source": [
    "Далее сделаем аналогинчые операции для абонентов тарифа ultra.\n",
    "\n",
    "Создадим отдельный датафрейм с такими абонентами."
   ]
  },
  {
   "cell_type": "code",
   "execution_count": 65,
   "metadata": {},
   "outputs": [
    {
     "data": {
      "text/html": [
       "<div>\n",
       "<style scoped>\n",
       "    .dataframe tbody tr th:only-of-type {\n",
       "        vertical-align: middle;\n",
       "    }\n",
       "\n",
       "    .dataframe tbody tr th {\n",
       "        vertical-align: top;\n",
       "    }\n",
       "\n",
       "    .dataframe thead th {\n",
       "        text-align: right;\n",
       "    }\n",
       "</style>\n",
       "<table border=\"1\" class=\"dataframe\">\n",
       "  <thead>\n",
       "    <tr style=\"text-align: right;\">\n",
       "      <th></th>\n",
       "      <th></th>\n",
       "      <th>calls_month_count</th>\n",
       "      <th>calls_month_duration</th>\n",
       "      <th>messages_month_count</th>\n",
       "      <th>internet_monthly_usage</th>\n",
       "      <th>tariff</th>\n",
       "      <th>city</th>\n",
       "      <th>monthly_revenue</th>\n",
       "    </tr>\n",
       "    <tr>\n",
       "      <th>user_id</th>\n",
       "      <th>month</th>\n",
       "      <th></th>\n",
       "      <th></th>\n",
       "      <th></th>\n",
       "      <th></th>\n",
       "      <th></th>\n",
       "      <th></th>\n",
       "      <th></th>\n",
       "    </tr>\n",
       "  </thead>\n",
       "  <tbody>\n",
       "    <tr>\n",
       "      <th rowspan=\"8\" valign=\"top\">1000</th>\n",
       "      <th>5</th>\n",
       "      <td>22</td>\n",
       "      <td>159</td>\n",
       "      <td>22</td>\n",
       "      <td>2256</td>\n",
       "      <td>ultra</td>\n",
       "      <td>Краснодар</td>\n",
       "      <td>1950</td>\n",
       "    </tr>\n",
       "    <tr>\n",
       "      <th>6</th>\n",
       "      <td>43</td>\n",
       "      <td>172</td>\n",
       "      <td>60</td>\n",
       "      <td>23257</td>\n",
       "      <td>ultra</td>\n",
       "      <td>Краснодар</td>\n",
       "      <td>1950</td>\n",
       "    </tr>\n",
       "    <tr>\n",
       "      <th>7</th>\n",
       "      <td>47</td>\n",
       "      <td>340</td>\n",
       "      <td>75</td>\n",
       "      <td>14016</td>\n",
       "      <td>ultra</td>\n",
       "      <td>Краснодар</td>\n",
       "      <td>1950</td>\n",
       "    </tr>\n",
       "    <tr>\n",
       "      <th>8</th>\n",
       "      <td>52</td>\n",
       "      <td>408</td>\n",
       "      <td>81</td>\n",
       "      <td>14070</td>\n",
       "      <td>ultra</td>\n",
       "      <td>Краснодар</td>\n",
       "      <td>1950</td>\n",
       "    </tr>\n",
       "    <tr>\n",
       "      <th>9</th>\n",
       "      <td>58</td>\n",
       "      <td>466</td>\n",
       "      <td>57</td>\n",
       "      <td>14581</td>\n",
       "      <td>ultra</td>\n",
       "      <td>Краснодар</td>\n",
       "      <td>1950</td>\n",
       "    </tr>\n",
       "    <tr>\n",
       "      <th>10</th>\n",
       "      <td>57</td>\n",
       "      <td>350</td>\n",
       "      <td>73</td>\n",
       "      <td>14717</td>\n",
       "      <td>ultra</td>\n",
       "      <td>Краснодар</td>\n",
       "      <td>1950</td>\n",
       "    </tr>\n",
       "    <tr>\n",
       "      <th>11</th>\n",
       "      <td>43</td>\n",
       "      <td>338</td>\n",
       "      <td>58</td>\n",
       "      <td>14768</td>\n",
       "      <td>ultra</td>\n",
       "      <td>Краснодар</td>\n",
       "      <td>1950</td>\n",
       "    </tr>\n",
       "    <tr>\n",
       "      <th>12</th>\n",
       "      <td>46</td>\n",
       "      <td>333</td>\n",
       "      <td>70</td>\n",
       "      <td>9827</td>\n",
       "      <td>ultra</td>\n",
       "      <td>Краснодар</td>\n",
       "      <td>1950</td>\n",
       "    </tr>\n",
       "    <tr>\n",
       "      <th rowspan=\"5\" valign=\"top\">1003</th>\n",
       "      <th>8</th>\n",
       "      <td>55</td>\n",
       "      <td>380</td>\n",
       "      <td>37</td>\n",
       "      <td>8571</td>\n",
       "      <td>ultra</td>\n",
       "      <td>Москва</td>\n",
       "      <td>1950</td>\n",
       "    </tr>\n",
       "    <tr>\n",
       "      <th>9</th>\n",
       "      <td>134</td>\n",
       "      <td>961</td>\n",
       "      <td>91</td>\n",
       "      <td>12479</td>\n",
       "      <td>ultra</td>\n",
       "      <td>Москва</td>\n",
       "      <td>1950</td>\n",
       "    </tr>\n",
       "    <tr>\n",
       "      <th>10</th>\n",
       "      <td>108</td>\n",
       "      <td>855</td>\n",
       "      <td>83</td>\n",
       "      <td>14779</td>\n",
       "      <td>ultra</td>\n",
       "      <td>Москва</td>\n",
       "      <td>1950</td>\n",
       "    </tr>\n",
       "    <tr>\n",
       "      <th>11</th>\n",
       "      <td>115</td>\n",
       "      <td>824</td>\n",
       "      <td>94</td>\n",
       "      <td>11368</td>\n",
       "      <td>ultra</td>\n",
       "      <td>Москва</td>\n",
       "      <td>1950</td>\n",
       "    </tr>\n",
       "    <tr>\n",
       "      <th>12</th>\n",
       "      <td>108</td>\n",
       "      <td>802</td>\n",
       "      <td>75</td>\n",
       "      <td>10132</td>\n",
       "      <td>ultra</td>\n",
       "      <td>Москва</td>\n",
       "      <td>1950</td>\n",
       "    </tr>\n",
       "    <tr>\n",
       "      <th rowspan=\"2\" valign=\"top\">1004</th>\n",
       "      <th>5</th>\n",
       "      <td>9</td>\n",
       "      <td>35</td>\n",
       "      <td>95</td>\n",
       "      <td>13415</td>\n",
       "      <td>ultra</td>\n",
       "      <td>Новокузнецк</td>\n",
       "      <td>1950</td>\n",
       "    </tr>\n",
       "    <tr>\n",
       "      <th>6</th>\n",
       "      <td>31</td>\n",
       "      <td>171</td>\n",
       "      <td>134</td>\n",
       "      <td>17619</td>\n",
       "      <td>ultra</td>\n",
       "      <td>Новокузнецк</td>\n",
       "      <td>1950</td>\n",
       "    </tr>\n",
       "  </tbody>\n",
       "</table>\n",
       "</div>"
      ],
      "text/plain": [
       "               calls_month_count  calls_month_duration  messages_month_count  \\\n",
       "user_id month                                                                  \n",
       "1000    5                     22                   159                    22   \n",
       "        6                     43                   172                    60   \n",
       "        7                     47                   340                    75   \n",
       "        8                     52                   408                    81   \n",
       "        9                     58                   466                    57   \n",
       "        10                    57                   350                    73   \n",
       "        11                    43                   338                    58   \n",
       "        12                    46                   333                    70   \n",
       "1003    8                     55                   380                    37   \n",
       "        9                    134                   961                    91   \n",
       "        10                   108                   855                    83   \n",
       "        11                   115                   824                    94   \n",
       "        12                   108                   802                    75   \n",
       "1004    5                      9                    35                    95   \n",
       "        6                     31                   171                   134   \n",
       "\n",
       "               internet_monthly_usage tariff         city  monthly_revenue  \n",
       "user_id month                                                               \n",
       "1000    5                        2256  ultra    Краснодар             1950  \n",
       "        6                       23257  ultra    Краснодар             1950  \n",
       "        7                       14016  ultra    Краснодар             1950  \n",
       "        8                       14070  ultra    Краснодар             1950  \n",
       "        9                       14581  ultra    Краснодар             1950  \n",
       "        10                      14717  ultra    Краснодар             1950  \n",
       "        11                      14768  ultra    Краснодар             1950  \n",
       "        12                       9827  ultra    Краснодар             1950  \n",
       "1003    8                        8571  ultra       Москва             1950  \n",
       "        9                       12479  ultra       Москва             1950  \n",
       "        10                      14779  ultra       Москва             1950  \n",
       "        11                      11368  ultra       Москва             1950  \n",
       "        12                      10132  ultra       Москва             1950  \n",
       "1004    5                       13415  ultra  Новокузнецк             1950  \n",
       "        6                       17619  ultra  Новокузнецк             1950  "
      ]
     },
     "execution_count": 65,
     "metadata": {},
     "output_type": "execute_result"
    }
   ],
   "source": [
    "monthly_data_ultra = monthly_data.query('tariff == \"ultra\"')\n",
    "monthly_data_ultra.head(15)"
   ]
  },
  {
   "cell_type": "markdown",
   "metadata": {},
   "source": [
    "Взглянем на информацию о таблице."
   ]
  },
  {
   "cell_type": "code",
   "execution_count": 66,
   "metadata": {},
   "outputs": [
    {
     "name": "stdout",
     "output_type": "stream",
     "text": [
      "<class 'pandas.core.frame.DataFrame'>\n",
      "MultiIndex: 951 entries, (1000, 5) to (1495, 12)\n",
      "Data columns (total 7 columns):\n",
      " #   Column                  Non-Null Count  Dtype \n",
      "---  ------                  --------------  ----- \n",
      " 0   calls_month_count       951 non-null    int64 \n",
      " 1   calls_month_duration    951 non-null    int64 \n",
      " 2   messages_month_count    951 non-null    int64 \n",
      " 3   internet_monthly_usage  951 non-null    int64 \n",
      " 4   tariff                  951 non-null    object\n",
      " 5   city                    951 non-null    object\n",
      " 6   monthly_revenue         951 non-null    int64 \n",
      "dtypes: int64(5), object(2)\n",
      "memory usage: 79.2+ KB\n"
     ]
    }
   ],
   "source": [
    "monthly_data_ultra.info()"
   ]
  },
  {
   "cell_type": "code",
   "execution_count": 67,
   "metadata": {},
   "outputs": [
    {
     "data": {
      "text/html": [
       "<div>\n",
       "<style scoped>\n",
       "    .dataframe tbody tr th:only-of-type {\n",
       "        vertical-align: middle;\n",
       "    }\n",
       "\n",
       "    .dataframe tbody tr th {\n",
       "        vertical-align: top;\n",
       "    }\n",
       "\n",
       "    .dataframe thead th {\n",
       "        text-align: right;\n",
       "    }\n",
       "</style>\n",
       "<table border=\"1\" class=\"dataframe\">\n",
       "  <thead>\n",
       "    <tr style=\"text-align: right;\">\n",
       "      <th></th>\n",
       "      <th>calls_month_count</th>\n",
       "      <th>calls_month_duration</th>\n",
       "      <th>messages_month_count</th>\n",
       "      <th>internet_monthly_usage</th>\n",
       "      <th>monthly_revenue</th>\n",
       "    </tr>\n",
       "  </thead>\n",
       "  <tbody>\n",
       "    <tr>\n",
       "      <th>count</th>\n",
       "      <td>951.000000</td>\n",
       "      <td>951.000000</td>\n",
       "      <td>951.000000</td>\n",
       "      <td>951.000000</td>\n",
       "      <td>951.000000</td>\n",
       "    </tr>\n",
       "    <tr>\n",
       "      <th>mean</th>\n",
       "      <td>76.016824</td>\n",
       "      <td>545.451104</td>\n",
       "      <td>49.033649</td>\n",
       "      <td>19480.544690</td>\n",
       "      <td>2071.924290</td>\n",
       "    </tr>\n",
       "    <tr>\n",
       "      <th>std</th>\n",
       "      <td>42.403348</td>\n",
       "      <td>306.925754</td>\n",
       "      <td>46.890656</td>\n",
       "      <td>10135.971146</td>\n",
       "      <td>382.106872</td>\n",
       "    </tr>\n",
       "    <tr>\n",
       "      <th>min</th>\n",
       "      <td>1.000000</td>\n",
       "      <td>0.000000</td>\n",
       "      <td>0.000000</td>\n",
       "      <td>0.000000</td>\n",
       "      <td>1950.000000</td>\n",
       "    </tr>\n",
       "    <tr>\n",
       "      <th>25%</th>\n",
       "      <td>43.000000</td>\n",
       "      <td>310.000000</td>\n",
       "      <td>5.000000</td>\n",
       "      <td>11633.500000</td>\n",
       "      <td>1950.000000</td>\n",
       "    </tr>\n",
       "    <tr>\n",
       "      <th>50%</th>\n",
       "      <td>75.000000</td>\n",
       "      <td>528.000000</td>\n",
       "      <td>39.000000</td>\n",
       "      <td>19374.000000</td>\n",
       "      <td>1950.000000</td>\n",
       "    </tr>\n",
       "    <tr>\n",
       "      <th>75%</th>\n",
       "      <td>105.000000</td>\n",
       "      <td>756.500000</td>\n",
       "      <td>79.000000</td>\n",
       "      <td>26857.500000</td>\n",
       "      <td>1950.000000</td>\n",
       "    </tr>\n",
       "    <tr>\n",
       "      <th>max</th>\n",
       "      <td>244.000000</td>\n",
       "      <td>1673.000000</td>\n",
       "      <td>224.000000</td>\n",
       "      <td>49789.000000</td>\n",
       "      <td>4800.000000</td>\n",
       "    </tr>\n",
       "  </tbody>\n",
       "</table>\n",
       "</div>"
      ],
      "text/plain": [
       "       calls_month_count  calls_month_duration  messages_month_count  \\\n",
       "count         951.000000            951.000000            951.000000   \n",
       "mean           76.016824            545.451104             49.033649   \n",
       "std            42.403348            306.925754             46.890656   \n",
       "min             1.000000              0.000000              0.000000   \n",
       "25%            43.000000            310.000000              5.000000   \n",
       "50%            75.000000            528.000000             39.000000   \n",
       "75%           105.000000            756.500000             79.000000   \n",
       "max           244.000000           1673.000000            224.000000   \n",
       "\n",
       "       internet_monthly_usage  monthly_revenue  \n",
       "count              951.000000       951.000000  \n",
       "mean             19480.544690      2071.924290  \n",
       "std              10135.971146       382.106872  \n",
       "min                  0.000000      1950.000000  \n",
       "25%              11633.500000      1950.000000  \n",
       "50%              19374.000000      1950.000000  \n",
       "75%              26857.500000      1950.000000  \n",
       "max              49789.000000      4800.000000  "
      ]
     },
     "execution_count": 67,
     "metadata": {},
     "output_type": "execute_result"
    }
   ],
   "source": [
    "monthly_data_ultra.describe()"
   ]
  },
  {
   "cell_type": "markdown",
   "metadata": {},
   "source": [
    "Итак, у нас есть 951 абоненто-месяц тарифа ultra, который мы можем проанализировать. Эта выборка более чем в 2 раза меньше выборки абонентов тарифа smart."
   ]
  },
  {
   "cell_type": "markdown",
   "metadata": {},
   "source": [
    "Построим боксплоты, чтобы взглянуть на редкие значения."
   ]
  },
  {
   "cell_type": "code",
   "execution_count": 68,
   "metadata": {},
   "outputs": [
    {
     "data": {
      "image/png": "[encoded data removed]",
      "text/plain": [
       "<Figure size 432x288 with 1 Axes>"
      ]
     },
     "metadata": {
      "needs_background": "light"
     },
     "output_type": "display_data"
    },
    {
     "data": {
      "image/png": "[encoded data removed]",
      "text/plain": [
       "<Figure size 432x288 with 1 Axes>"
      ]
     },
     "metadata": {
      "needs_background": "light"
     },
     "output_type": "display_data"
    },
    {
     "data": {
      "image/png": "[encoded data removed]",
      "text/plain": [
       "<Figure size 432x288 with 1 Axes>"
      ]
     },
     "metadata": {
      "needs_background": "light"
     },
     "output_type": "display_data"
    },
    {
     "data": {
      "image/png": "[encoded data removed]",
      "text/plain": [
       "<Figure size 432x288 with 1 Axes>"
      ]
     },
     "metadata": {
      "needs_background": "light"
     },
     "output_type": "display_data"
    }
   ],
   "source": [
    "for column in ['calls_month_duration', 'messages_month_count','internet_monthly_usage', 'monthly_revenue']:\n",
    "    plt.subplots(1)\n",
    "    monthly_data_ultra.boxplot(column)"
   ]
  },
  {
   "cell_type": "markdown",
   "metadata": {},
   "source": [
    "Как видим, в тарифе ultra значений, выходящих за полтора межквартильных интервала очень мало.\n",
    "\n",
    "Обращает на себя внимание последний график с месячной выручкой - видно, что выручка от большинства абонентов составляет абоненсткую плату, и есть только около двух десятков месяцев, когда выручка превышала 1950 рублей."
   ]
  },
  {
   "cell_type": "markdown",
   "metadata": {},
   "source": [
    "Далее построим гистограммы и посчитаем средние, дисперсии и стандартное отклонение."
   ]
  },
  {
   "cell_type": "code",
   "execution_count": 69,
   "metadata": {},
   "outputs": [
    {
     "name": "stdout",
     "output_type": "stream",
     "text": [
      "Длительность звонков в месяц, минут:\n",
      "Медиана: 528\n",
      "Среднее: 545\n",
      "Ст. отклонение: 307\n",
      "Дисперсия: 94203\n",
      "\n",
      "Количество отправленных сообщений в месяц, шт.:\n",
      "Медиана: 39\n",
      "Среднее: 49\n",
      "Ст. отклонение: 47\n",
      "Дисперсия: 2199\n",
      "\n",
      "Объем потраченного интернет-трафика, мб:\n",
      "Медиана: 19374\n",
      "Среднее: 19481\n",
      "Ст. отклонение: 10136\n",
      "Дисперсия: 102737911\n",
      "\n",
      "Средняя выручка с абонента, руб:\n",
      "Медиана: 1950\n",
      "Среднее: 2072\n",
      "Ст. отклонение: 382\n",
      "Дисперсия: 146006\n",
      "\n"
     ]
    },
    {
     "data": {
      "image/png": "[encoded data removed]",
      "text/plain": [
       "<Figure size 432x288 with 1 Axes>"
      ]
     },
     "metadata": {
      "needs_background": "light"
     },
     "output_type": "display_data"
    },
    {
     "data": {
      "image/png": "[encoded data removed]",
      "text/plain": [
       "<Figure size 432x288 with 1 Axes>"
      ]
     },
     "metadata": {
      "needs_background": "light"
     },
     "output_type": "display_data"
    },
    {
     "data": {
      "image/png": "[encoded data removed]",
      "text/plain": [
       "<Figure size 432x288 with 1 Axes>"
      ]
     },
     "metadata": {
      "needs_background": "light"
     },
     "output_type": "display_data"
    },
    {
     "data": {
      "image/png": "[encoded data removed]",
      "text/plain": [
       "<Figure size 432x288 with 1 Axes>"
      ]
     },
     "metadata": {
      "needs_background": "light"
     },
     "output_type": "display_data"
    }
   ],
   "source": [
    "cols_for_viz_ultra = {'calls_month_duration' : ['Длительность звонков в месяц, минут', (0, 1750), 35],\n",
    "                'messages_month_count' : ['Количество отправленных сообщений в месяц, шт.', (0, 250), 50],\n",
    "                'internet_monthly_usage' : ['Объем потраченного интернет-трафика, мб', (0, 50000), 50],\n",
    "                'monthly_revenue' : ['Средняя выручка с абонента, руб', (1500, 5000), 7]}\n",
    "\n",
    "for col, name in cols_for_viz_ultra.items():\n",
    "    monthly_data_ultra.plot(y=col, title=name[0], grid=True, kind='hist', color='r', legend=False, range=name[1], bins=name[2], alpha = 0.7)\n",
    "    print(f'{name[0]}:\\nМедиана: {monthly_data_ultra[col].median():.0f}\\nСреднее: {monthly_data_ultra[col].mean():.0f}\\nСт. отклонение: {np.sqrt(np.var(monthly_data_ultra[col], ddof=1)):.0f}\\nДисперсия: {np.var(monthly_data_ultra[col], ddof=1):.0f}\\n')\n",
    "    plt.ylabel('Частота')\n",
    "    plt.xlabel(name[0])"
   ]
  },
  {
   "cell_type": "markdown",
   "metadata": {},
   "source": [
    "Итак, посмотрим на гистограмму с распределением длительности звонков.\n",
    "\n",
    "В целом можно сказать, что оно похоже на нормальное. Пик значений приходится на длительность от 500 до 550 минут.\n",
    "\n",
    "Расчетное среднее ultra также лежит в этом диапазоне и составляет 545 минут, что достаточно существенно превышает среднюю продолжительность звонков абонентов smart.\n",
    "\n",
    "По длительности звонков никто из абонентов не выбился из лимита, хвосты в целом уложились в три сигмы."
   ]
  },
  {
   "cell_type": "markdown",
   "metadata": {},
   "source": [
    "Далее взглянем на сообщения - в выборке присутствовало достаточно большое количество месяцев, когда абоненты не отправляли сообщения.\n",
    "\n",
    "Среднее значение составило 50, что не то, что не превышает лимит, а соответствует лимиту из другого тарифного плана.\n"
   ]
  },
  {
   "cell_type": "markdown",
   "metadata": {},
   "source": [
    "Распределение потраченного интернет-трафика также похоже на нормальное. Пик значений пришелся на 20-22 ГБ. Расчетное среднее - 19.5 ГБ. Интересно, что стандартное отклонение составляет почти половину от среднего, в то время как у абонентов smart оно составляло около трети.\n",
    "\n",
    "По этому показателю было превышение тарифного лимита, посмотрим, сколько было таких месяцев."
   ]
  },
  {
   "cell_type": "code",
   "execution_count": 70,
   "metadata": {},
   "outputs": [
    {
     "name": "stdout",
     "output_type": "stream",
     "text": [
      "Доля месяцев с дополнительным интернет-трафиком: 13.46%\n",
      "Среднее превышение лимита абонентами, которым не хватало 30 ГБ интернета: 5654\n"
     ]
    }
   ],
   "source": [
    "print(f\"Доля месяцев с дополнительным интернет-трафиком: {len(monthly_data_ultra.query('internet_monthly_usage > 30720')) / len(monthly_data_ultra['internet_monthly_usage']):.2%}\")\n",
    "print(f\"Среднее превышение лимита абонентами, которым не хватало 30 ГБ интернета: {monthly_data_ultra.query('internet_monthly_usage > 30720')['internet_monthly_usage'].mean() - 30720:.0f}\")"
   ]
  },
  {
   "cell_type": "markdown",
   "metadata": {},
   "source": [
    "Из-за того, что было только 13.5% месяцев, когда пользователи выходили за лимит услуг, среднее значение месячной выручки с абонента достаточно устойчиво и составляет 2072 рубля со стандартным отклонением в 382 рубля."
   ]
  },
  {
   "cell_type": "markdown",
   "metadata": {},
   "source": [
    "Посчитаем, сколько выручки принесли за период абоненты этого тарифа."
   ]
  },
  {
   "cell_type": "code",
   "execution_count": 71,
   "metadata": {},
   "outputs": [
    {
     "name": "stdout",
     "output_type": "stream",
     "text": [
      "Суммарная выручка от абонентов тарифа ultra: 1970400 тыс. руб.\n"
     ]
    }
   ],
   "source": [
    "print(f\"Суммарная выручка от абонентов тарифа ultra: {monthly_data_ultra['monthly_revenue'].sum()} тыс. руб.\")"
   ]
  },
  {
   "cell_type": "markdown",
   "metadata": {},
   "source": [
    "### Вывод "
   ]
  },
  {
   "cell_type": "markdown",
   "metadata": {},
   "source": [
    "Из-за того, что лимиты по сообщениям и минутам звонков очень высокие, абоненты ultra не приближаются к пороговым значениям.\n",
    "\n",
    "Лимит интернет-трафика также высок, его превышали только в 13.5% случаев.\n",
    "\n",
    "Выручка от тарифа ultra стабильна и почти всегда равна абонентской плате.\n",
    "\n",
    "Суммарная же выручка тарифа ultra составляет примерно две трети от выручки абонентов smart, при том, что абонентов ultra более чем в 2 раза меньше.\n",
    "\n",
    "Напоследок выедем сводную таблицу со средними показателями двух тарифных групп."
   ]
  },
  {
   "cell_type": "code",
   "execution_count": 72,
   "metadata": {},
   "outputs": [
    {
     "data": {
      "text/html": [
       "<div>\n",
       "<style scoped>\n",
       "    .dataframe tbody tr th:only-of-type {\n",
       "        vertical-align: middle;\n",
       "    }\n",
       "\n",
       "    .dataframe tbody tr th {\n",
       "        vertical-align: top;\n",
       "    }\n",
       "\n",
       "    .dataframe thead th {\n",
       "        text-align: right;\n",
       "    }\n",
       "</style>\n",
       "<table border=\"1\" class=\"dataframe\">\n",
       "  <thead>\n",
       "    <tr style=\"text-align: right;\">\n",
       "      <th></th>\n",
       "      <th>calls_month_count</th>\n",
       "      <th>calls_month_duration</th>\n",
       "      <th>internet_monthly_usage</th>\n",
       "      <th>messages_month_count</th>\n",
       "      <th>monthly_revenue</th>\n",
       "    </tr>\n",
       "    <tr>\n",
       "      <th>tariff</th>\n",
       "      <th></th>\n",
       "      <th></th>\n",
       "      <th></th>\n",
       "      <th></th>\n",
       "      <th></th>\n",
       "    </tr>\n",
       "  </thead>\n",
       "  <tbody>\n",
       "    <tr>\n",
       "      <th>smart</th>\n",
       "      <td>58.621233</td>\n",
       "      <td>419.062978</td>\n",
       "      <td>16230.166892</td>\n",
       "      <td>33.396311</td>\n",
       "      <td>1295.569501</td>\n",
       "    </tr>\n",
       "    <tr>\n",
       "      <th>ultra</th>\n",
       "      <td>76.016824</td>\n",
       "      <td>545.451104</td>\n",
       "      <td>19480.544690</td>\n",
       "      <td>49.033649</td>\n",
       "      <td>2071.924290</td>\n",
       "    </tr>\n",
       "  </tbody>\n",
       "</table>\n",
       "</div>"
      ],
      "text/plain": [
       "        calls_month_count  calls_month_duration  internet_monthly_usage  \\\n",
       "tariff                                                                    \n",
       "smart           58.621233            419.062978            16230.166892   \n",
       "ultra           76.016824            545.451104            19480.544690   \n",
       "\n",
       "        messages_month_count  monthly_revenue  \n",
       "tariff                                         \n",
       "smart              33.396311      1295.569501  \n",
       "ultra              49.033649      2071.924290  "
      ]
     },
     "execution_count": 72,
     "metadata": {},
     "output_type": "execute_result"
    }
   ],
   "source": [
    "monthly_data_tariffs = monthly_data.pivot_table(index = ['tariff'])\n",
    "monthly_data_tariffs"
   ]
  },
  {
   "cell_type": "markdown",
   "metadata": {},
   "source": [
    "## Шаг 4. Проверка гипотез"
   ]
  },
  {
   "cell_type": "markdown",
   "metadata": {},
   "source": [
    "### 4.1 Сравнение средней выручки пользователей тарифов smart и ultra"
   ]
  },
  {
   "cell_type": "markdown",
   "metadata": {},
   "source": [
    "Итак, нам необходимо сравнить среднюю выручку пользователей тарифов smart и ultra.\n",
    "\n",
    "В данном случае мы будем формулировать гипотезу о равенстве среднего двух генеральных совокупностей.\n",
    "\n",
    "Соответственно, первой генеральной совокупностью для нас будут абоненты тарифа smart, вторая генеральная совокупность - абоненты тарифа ultra.\n",
    "\n",
    "Соответственно, нам нужно провести тест для того, чтобы можно было сделать вывод о том, случайны ли отличия средних двух выборок - абонентов smart и ultra.\n",
    "\n",
    "Таким образом, нулевая гипотеза Н0 для нас состоит в том, что средние выручки абонентов тарифа smart и ultra равны.\n",
    "\n",
    "Следовательно, альтернативная гипотеза H1 - средние выручки абонентов не равны.\n",
    "\n",
    "Чтобы проверить эту гипотезу, обратимся к тесту scipy.stats.ttest_ind.\n",
    "\n",
    "Уровень значимости выберем в 5%.\n",
    "\n",
    "На наш взгляд, есть основания полагать, что дисперсии выборок разные, а значит установим параметр  \"equal_var = False\". В целом мы это вроде бы видели, когда рассчитывали их в пункте 3, где было видно, что средняя выручка абонентов ultra - более устойчивая величина.\n",
    "\n",
    "Итак, передадим методу два массива, содержащие выборки."
   ]
  },
  {
   "cell_type": "code",
   "execution_count": 73,
   "metadata": {},
   "outputs": [],
   "source": [
    "alpha_level = 0.05\n",
    "results_tariffs = ( \n",
    "    st.ttest_ind(monthly_data_smart['monthly_revenue'],\n",
    "                 monthly_data_ultra['monthly_revenue'],equal_var = False )  \n",
    ")"
   ]
  },
  {
   "cell_type": "markdown",
   "metadata": {},
   "source": [
    "Итак, выведем на экран p-значение, и сравним его с уровнем значимости."
   ]
  },
  {
   "cell_type": "code",
   "execution_count": 74,
   "metadata": {},
   "outputs": [
    {
     "name": "stdout",
     "output_type": "stream",
     "text": [
      "p-значение: 1.8405224159827356e-241\n",
      "Отвергаем нулевую гипотезу\n"
     ]
    }
   ],
   "source": [
    "print(f\"p-значение: {results_tariffs.pvalue}\")\n",
    "if (results_tariffs.pvalue < alpha_level): \n",
    "    print(\"Отвергаем нулевую гипотезу\")\n",
    "else:\n",
    "    print(\"Не получилось отвергнуть нулевую гипотезу\")"
   ]
  },
  {
   "cell_type": "markdown",
   "metadata": {},
   "source": [
    "### Вывод "
   ]
  },
  {
   "cell_type": "markdown",
   "metadata": {},
   "source": [
    "Итак, полученное значение p-value говорит о том, что наблюдаемое различие в средних выручках абонентов из двух тарифных групп может быть случайным с ничтожнейшей вероятностью. Следовательно, различие между средними выручками значимо. Мы отвергаем нулевую гипотезу, средние выручки абонентов разных тарифов не равны."
   ]
  },
  {
   "cell_type": "markdown",
   "metadata": {},
   "source": [
    "### 4.2 Сравнение средней выручки пользователей из Москвы и других регионов"
   ]
  },
  {
   "cell_type": "markdown",
   "metadata": {},
   "source": [
    "На этом этапе нам необходимо сравнить среднюю выручку абонентов из Москвы со средней выручкой абонентов из регионов.\n",
    "\n",
    "В данном случае мы также будем формулировать гипотезу о равенстве средних двух генеральных совокупностей.\n",
    "\n",
    "Соответственно, первой генеральной совокупностью для нас будут абоненты из Москвы, вторая генеральная совокупность - абоненты не из Москвы.\n",
    "\n",
    "Соответственно, нам нужно провести тест для того, чтобы можно было сделать вывод о том, случайны ли отличия средних этих двух выборок - абонентов из Москвы и абонентов из регионов.\n",
    "\n",
    "Таким образом, нулевая гипотеза Н0 для нас состоит в том, что средние выручки абонентов из Москвы и из регионов равны.\n",
    "\n",
    "Следовательно, альтернативная гипотеза H1 - средние выручки абонентов не равны.\n",
    "\n",
    "Чтобы проверить эту гипотезу, обратимся к тесту scipy.stats.ttest_ind.\n",
    "\n",
    "Уровень значимости оставим на 5%.\n",
    "\n",
    "На наш взгляд, здесь нет оснований полагать, что дисперсии выборок разные, так как и в Москве и в регионах абоненты обоих тарифов. Значит установим параметр  \"equal_var = True\".\n",
    "\n",
    "Создадим необходимые нам массивы."
   ]
  },
  {
   "cell_type": "code",
   "execution_count": 75,
   "metadata": {},
   "outputs": [],
   "source": [
    "moscow = monthly_data.query('city == \"Москва\"')\n",
    "regions = monthly_data.query('city != \"Москва\"')"
   ]
  },
  {
   "cell_type": "markdown",
   "metadata": {},
   "source": [
    "Передадим методу два массива, содержащие выборки."
   ]
  },
  {
   "cell_type": "code",
   "execution_count": 76,
   "metadata": {},
   "outputs": [],
   "source": [
    "results_cities = st.ttest_ind(moscow['monthly_revenue'],regions['monthly_revenue'])  "
   ]
  },
  {
   "cell_type": "markdown",
   "metadata": {},
   "source": [
    "Итак, выведем на экран p-значение, и сравним его с уровнем значимости."
   ]
  },
  {
   "cell_type": "code",
   "execution_count": 77,
   "metadata": {},
   "outputs": [
    {
     "name": "stdout",
     "output_type": "stream",
     "text": [
      "p-значение: 0.4516335152984994\n",
      "Не получилось отвергнуть нулевую гипотезу\n"
     ]
    }
   ],
   "source": [
    "print(f\"p-значение: {results_cities.pvalue}\")\n",
    "if (results_cities.pvalue < alpha_level): \n",
    "    print(\"Отвергаем нулевую гипотезу\")\n",
    "else:\n",
    "    print(\"Не получилось отвергнуть нулевую гипотезу\")"
   ]
  },
  {
   "cell_type": "markdown",
   "metadata": {},
   "source": [
    "### Вывод "
   ]
  },
  {
   "cell_type": "markdown",
   "metadata": {},
   "source": [
    "Полученное значение p-value говорит о том, что хотя средняя выручка абонентов в Москве и регионах отличается, с вероятностью около 45% такое или большее различие можно получить случайно.\n",
    "\n",
    "Это слишком большая вероятность, чтобы делать выводы о значимом различии между средними выручками двух групп абонентов. Мы не отвергаем нулевую гипотезу, значит, продолжаем полагать, что средняя выручка москвичей и абонентов из регионов не отличается."
   ]
  },
  {
   "cell_type": "markdown",
   "metadata": {},
   "source": [
    "## Шаг 5. Общий вывод"
   ]
  },
  {
   "cell_type": "markdown",
   "metadata": {},
   "source": [
    "Итак, мы проанализировали выборку 500 абонентов мобильного оператора.\n",
    "\n",
    "Для проведения анализа мы использовали сводные таблицы, в которых группировали данные по абонентам и по месяцам, получив данные об отправленных сообщениях, минутах разговора, использованном интернет-трафике и средней выручке от абонента в месяц.\n",
    "\n",
    "После этого мы разбили данные на две части и отдельно проанализировали абонентов тарифа smart и абонентов тарифа ultra.\n",
    "\n",
    "Оказалось, что абоненты smart, у которых ограниченные лимиты по включенному объему услуг в абонентсвую плату, очень часто прибегают к оплате дополнительных услуг, особенно интернет-трафика. Возможно, это создает для них неудобства.\n",
    "\n",
    "Напротив, у абонентов ultra лимиты по сообщениям и звонкам существенно превышают их потребности, а к дополнительному интернету они прибегают гораздо реже.\n",
    "\n",
    "Средняя выручка от абонентов ultra составляет 2070 рублей, а абонентов smart  - около 1300 рублей (что существенно превышает абонентскую плату).\n",
    "\n",
    "Возможно, \"Мегалайн\" стоит задуматься о том, чтобы увеличить объем услуг включенных в абонентскую плату и повысить ее.\n",
    "\n",
    "Также мы проверяли гипотезы о равенстве средней выручки.\n",
    "\n",
    "Первая проверка касалась того, равны ли средние выручки по двум тарифным планам. Проведенный нами статистический тест, показал, что мы должны отвергнуть нулевую гипотезу о равенстве выручек.\n",
    "\n",
    "Вторая проверка касалась равенства средних выручек от абонентов из Москвы и регионов. Тест продемонстрировал, что у нас недостаточно аргументов, чтобы отвергнуть нулевую гипотезу, средние выручки абонентов из Москвы и регионов равны."
   ]
  }
 ],
 "metadata": {
  "kernelspec": {
   "display_name": "Python 3",
   "language": "python",
   "name": "python3"
  },
  "language_info": {
   "codemirror_mode": {
    "name": "ipython",
    "version": 3
   },
   "file_extension": ".py",
   "mimetype": "text/x-python",
   "name": "python",
   "nbconvert_exporter": "python",
   "pygments_lexer": "ipython3",
   "version": "3.7.7"
  },
  "toc": {
   "base_numbering": 1,
   "nav_menu": {},
   "number_sections": true,
   "sideBar": true,
   "skip_h1_title": true,
   "title_cell": "Table of Contents",
   "title_sidebar": "Contents",
   "toc_cell": false,
   "toc_position": {},
   "toc_section_display": true,
   "toc_window_display": false
  }
 },
 "nbformat": 4,
 "nbformat_minor": 2
}
