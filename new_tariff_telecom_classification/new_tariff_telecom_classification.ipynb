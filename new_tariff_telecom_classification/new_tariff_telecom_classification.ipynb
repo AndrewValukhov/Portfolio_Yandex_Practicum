{
 "cells": [
  {
   "cell_type": "markdown",
   "metadata": {},
   "source": [
    "# Выбор подходящего тарифа для существующих клиентов"
   ]
  },
  {
   "cell_type": "markdown",
   "metadata": {},
   "source": [
    "Мобильный оператор «Y-mobile» выяснил: значительная часть клиентов продолжает пользоваться архивными тарифами. Руководство поставило хадачу построения модели, которая будет способна сделать анализ поведения клиентов и предложить существующим клиентам с архивными тарифами новый тариф: «Смарт» или «Ультра»."
   ]
  },
  {
   "cell_type": "markdown",
   "metadata": {},
   "source": [
    "## Рекомендация тарифов"
   ]
  },
  {
   "cell_type": "markdown",
   "metadata": {},
   "source": [
    "Мы располагаем данными о поведении клиентов, которые уже перешли на эти тарифы. Небходимо создать модель для задачи классификации, которая выберет подходящий тариф.\n",
    "\n",
    "Нужно построить модель с максимально большим значением *accuracy*. Целевое значение - 0.75."
   ]
  },
  {
   "cell_type": "markdown",
   "metadata": {},
   "source": [
    "## Описание данных "
   ]
  },
  {
   "cell_type": "markdown",
   "metadata": {},
   "source": [
    "Каждый объект в наборе данных — это информация о поведении одного пользователя за месяц. Известно:\n",
    " - сalls — количество звонков,\n",
    " - minutes — суммарная длительность звонков в минутах,\n",
    " - messages — количество sms-сообщений,\n",
    " - mb_used — израсходованный интернет-трафик в Мб,\n",
    " - is_ultra — каким тарифом пользовался в течение месяца («Ультра» — 1, «Смарт» — 0)."
   ]
  },
  {
   "cell_type": "markdown",
   "metadata": {},
   "source": [
    "**Содержание проекта**\n",
    "- [1. Изучение данных](#1.-Изучение-данных)\n",
    "- [2. Разбивка данных на выборки](#2.-Разбивка-данных-на-выборки)\n",
    "- [3. Исследование моделей](#3.-Исследование-моделей)\n",
    " - [3.1 Дерево решений](#3.1-Дерево-решений)\n",
    " - [3.2 Случайный лес](#3.2-Случайный-лес)\n",
    " - [3.3 Логистическая регрессия](#3.3-Логистическая-регрессия)\n",
    "- [4. Проверка модели на тестовой выборке](#4.-Проверка-модели-на-тестовой-выборке)\n",
    "- [5. (бонус) Проверка модели на адекватность](#5.-(бонус)-Проверка-модели-на-адекватность)"
   ]
  },
  {
   "cell_type": "markdown",
   "metadata": {},
   "source": [
    "## 1. Изучение данных"
   ]
  },
  {
   "cell_type": "markdown",
   "metadata": {},
   "source": [
    "Сначала импортируем необходимые нам для работы библиотеки и изученные в теоретическом блоке алгоритмы обучения."
   ]
  },
  {
   "cell_type": "code",
   "execution_count": 1,
   "metadata": {},
   "outputs": [],
   "source": [
    "import pandas as pd\n",
    "import numpy as np\n",
    "from sklearn.model_selection import train_test_split\n",
    "from sklearn.tree import DecisionTreeClassifier\n",
    "from sklearn.ensemble import RandomForestClassifier\n",
    "from sklearn.linear_model import LogisticRegression\n",
    "from sklearn.metrics import accuracy_score\n",
    "from sklearn.metrics import recall_score\n",
    "from sklearn.model_selection import train_test_split"
   ]
  },
  {
   "cell_type": "markdown",
   "metadata": {},
   "source": [
    "Прочитаем файл и сохраним данные в датасет users."
   ]
  },
  {
   "cell_type": "code",
   "execution_count": 2,
   "metadata": {},
   "outputs": [],
   "source": [
    "users = pd.read_csv('/datasets/users_behavior.csv')"
   ]
  },
  {
   "cell_type": "markdown",
   "metadata": {},
   "source": [
    "Посмотрим на первые пять строк."
   ]
  },
  {
   "cell_type": "code",
   "execution_count": 3,
   "metadata": {
    "scrolled": false
   },
   "outputs": [
    {
     "data": {
      "text/html": [
       "<div>\n",
       "<style scoped>\n",
       "    .dataframe tbody tr th:only-of-type {\n",
       "        vertical-align: middle;\n",
       "    }\n",
       "\n",
       "    .dataframe tbody tr th {\n",
       "        vertical-align: top;\n",
       "    }\n",
       "\n",
       "    .dataframe thead th {\n",
       "        text-align: right;\n",
       "    }\n",
       "</style>\n",
       "<table border=\"1\" class=\"dataframe\">\n",
       "  <thead>\n",
       "    <tr style=\"text-align: right;\">\n",
       "      <th></th>\n",
       "      <th>calls</th>\n",
       "      <th>minutes</th>\n",
       "      <th>messages</th>\n",
       "      <th>mb_used</th>\n",
       "      <th>is_ultra</th>\n",
       "    </tr>\n",
       "  </thead>\n",
       "  <tbody>\n",
       "    <tr>\n",
       "      <td>0</td>\n",
       "      <td>40.0</td>\n",
       "      <td>311.90</td>\n",
       "      <td>83.0</td>\n",
       "      <td>19915.42</td>\n",
       "      <td>0</td>\n",
       "    </tr>\n",
       "    <tr>\n",
       "      <td>1</td>\n",
       "      <td>85.0</td>\n",
       "      <td>516.75</td>\n",
       "      <td>56.0</td>\n",
       "      <td>22696.96</td>\n",
       "      <td>0</td>\n",
       "    </tr>\n",
       "    <tr>\n",
       "      <td>2</td>\n",
       "      <td>77.0</td>\n",
       "      <td>467.66</td>\n",
       "      <td>86.0</td>\n",
       "      <td>21060.45</td>\n",
       "      <td>0</td>\n",
       "    </tr>\n",
       "    <tr>\n",
       "      <td>3</td>\n",
       "      <td>106.0</td>\n",
       "      <td>745.53</td>\n",
       "      <td>81.0</td>\n",
       "      <td>8437.39</td>\n",
       "      <td>1</td>\n",
       "    </tr>\n",
       "    <tr>\n",
       "      <td>4</td>\n",
       "      <td>66.0</td>\n",
       "      <td>418.74</td>\n",
       "      <td>1.0</td>\n",
       "      <td>14502.75</td>\n",
       "      <td>0</td>\n",
       "    </tr>\n",
       "  </tbody>\n",
       "</table>\n",
       "</div>"
      ],
      "text/plain": [
       "   calls  minutes  messages   mb_used  is_ultra\n",
       "0   40.0   311.90      83.0  19915.42         0\n",
       "1   85.0   516.75      56.0  22696.96         0\n",
       "2   77.0   467.66      86.0  21060.45         0\n",
       "3  106.0   745.53      81.0   8437.39         1\n",
       "4   66.0   418.74       1.0  14502.75         0"
      ]
     },
     "execution_count": 3,
     "metadata": {},
     "output_type": "execute_result"
    }
   ],
   "source": [
    "users.head()"
   ]
  },
  {
   "cell_type": "code",
   "execution_count": 4,
   "metadata": {},
   "outputs": [
    {
     "name": "stdout",
     "output_type": "stream",
     "text": [
      "<class 'pandas.core.frame.DataFrame'>\n",
      "RangeIndex: 3214 entries, 0 to 3213\n",
      "Data columns (total 5 columns):\n",
      "calls       3214 non-null float64\n",
      "minutes     3214 non-null float64\n",
      "messages    3214 non-null float64\n",
      "mb_used     3214 non-null float64\n",
      "is_ultra    3214 non-null int64\n",
      "dtypes: float64(4), int64(1)\n",
      "memory usage: 125.7 KB\n"
     ]
    }
   ],
   "source": [
    "users.info()"
   ]
  },
  {
   "cell_type": "markdown",
   "metadata": {},
   "source": [
    "Пропусков в данных нет."
   ]
  },
  {
   "cell_type": "code",
   "execution_count": 5,
   "metadata": {},
   "outputs": [
    {
     "data": {
      "text/html": [
       "<div>\n",
       "<style scoped>\n",
       "    .dataframe tbody tr th:only-of-type {\n",
       "        vertical-align: middle;\n",
       "    }\n",
       "\n",
       "    .dataframe tbody tr th {\n",
       "        vertical-align: top;\n",
       "    }\n",
       "\n",
       "    .dataframe thead th {\n",
       "        text-align: right;\n",
       "    }\n",
       "</style>\n",
       "<table border=\"1\" class=\"dataframe\">\n",
       "  <thead>\n",
       "    <tr style=\"text-align: right;\">\n",
       "      <th></th>\n",
       "      <th>calls</th>\n",
       "      <th>minutes</th>\n",
       "      <th>messages</th>\n",
       "      <th>mb_used</th>\n",
       "      <th>is_ultra</th>\n",
       "    </tr>\n",
       "  </thead>\n",
       "  <tbody>\n",
       "    <tr>\n",
       "      <td>count</td>\n",
       "      <td>3214.000000</td>\n",
       "      <td>3214.000000</td>\n",
       "      <td>3214.000000</td>\n",
       "      <td>3214.000000</td>\n",
       "      <td>3214.000000</td>\n",
       "    </tr>\n",
       "    <tr>\n",
       "      <td>mean</td>\n",
       "      <td>63.038892</td>\n",
       "      <td>438.208787</td>\n",
       "      <td>38.281269</td>\n",
       "      <td>17207.673836</td>\n",
       "      <td>0.306472</td>\n",
       "    </tr>\n",
       "    <tr>\n",
       "      <td>std</td>\n",
       "      <td>33.236368</td>\n",
       "      <td>234.569872</td>\n",
       "      <td>36.148326</td>\n",
       "      <td>7570.968246</td>\n",
       "      <td>0.461100</td>\n",
       "    </tr>\n",
       "    <tr>\n",
       "      <td>min</td>\n",
       "      <td>0.000000</td>\n",
       "      <td>0.000000</td>\n",
       "      <td>0.000000</td>\n",
       "      <td>0.000000</td>\n",
       "      <td>0.000000</td>\n",
       "    </tr>\n",
       "    <tr>\n",
       "      <td>25%</td>\n",
       "      <td>40.000000</td>\n",
       "      <td>274.575000</td>\n",
       "      <td>9.000000</td>\n",
       "      <td>12491.902500</td>\n",
       "      <td>0.000000</td>\n",
       "    </tr>\n",
       "    <tr>\n",
       "      <td>50%</td>\n",
       "      <td>62.000000</td>\n",
       "      <td>430.600000</td>\n",
       "      <td>30.000000</td>\n",
       "      <td>16943.235000</td>\n",
       "      <td>0.000000</td>\n",
       "    </tr>\n",
       "    <tr>\n",
       "      <td>75%</td>\n",
       "      <td>82.000000</td>\n",
       "      <td>571.927500</td>\n",
       "      <td>57.000000</td>\n",
       "      <td>21424.700000</td>\n",
       "      <td>1.000000</td>\n",
       "    </tr>\n",
       "    <tr>\n",
       "      <td>max</td>\n",
       "      <td>244.000000</td>\n",
       "      <td>1632.060000</td>\n",
       "      <td>224.000000</td>\n",
       "      <td>49745.730000</td>\n",
       "      <td>1.000000</td>\n",
       "    </tr>\n",
       "  </tbody>\n",
       "</table>\n",
       "</div>"
      ],
      "text/plain": [
       "             calls      minutes     messages       mb_used     is_ultra\n",
       "count  3214.000000  3214.000000  3214.000000   3214.000000  3214.000000\n",
       "mean     63.038892   438.208787    38.281269  17207.673836     0.306472\n",
       "std      33.236368   234.569872    36.148326   7570.968246     0.461100\n",
       "min       0.000000     0.000000     0.000000      0.000000     0.000000\n",
       "25%      40.000000   274.575000     9.000000  12491.902500     0.000000\n",
       "50%      62.000000   430.600000    30.000000  16943.235000     0.000000\n",
       "75%      82.000000   571.927500    57.000000  21424.700000     1.000000\n",
       "max     244.000000  1632.060000   224.000000  49745.730000     1.000000"
      ]
     },
     "execution_count": 5,
     "metadata": {},
     "output_type": "execute_result"
    }
   ],
   "source": [
    "users.describe()"
   ]
  },
  {
   "cell_type": "markdown",
   "metadata": {},
   "source": [
    "В описательной статистике таке все выглядит нормально."
   ]
  },
  {
   "cell_type": "markdown",
   "metadata": {},
   "source": [
    "Далее проверим данные на дубликаты."
   ]
  },
  {
   "cell_type": "code",
   "execution_count": 6,
   "metadata": {},
   "outputs": [
    {
     "data": {
      "text/html": [
       "<div>\n",
       "<style scoped>\n",
       "    .dataframe tbody tr th:only-of-type {\n",
       "        vertical-align: middle;\n",
       "    }\n",
       "\n",
       "    .dataframe tbody tr th {\n",
       "        vertical-align: top;\n",
       "    }\n",
       "\n",
       "    .dataframe thead th {\n",
       "        text-align: right;\n",
       "    }\n",
       "</style>\n",
       "<table border=\"1\" class=\"dataframe\">\n",
       "  <thead>\n",
       "    <tr style=\"text-align: right;\">\n",
       "      <th></th>\n",
       "      <th>calls</th>\n",
       "      <th>minutes</th>\n",
       "      <th>messages</th>\n",
       "      <th>mb_used</th>\n",
       "      <th>is_ultra</th>\n",
       "    </tr>\n",
       "  </thead>\n",
       "  <tbody>\n",
       "  </tbody>\n",
       "</table>\n",
       "</div>"
      ],
      "text/plain": [
       "Empty DataFrame\n",
       "Columns: [calls, minutes, messages, mb_used, is_ultra]\n",
       "Index: []"
      ]
     },
     "execution_count": 6,
     "metadata": {},
     "output_type": "execute_result"
    }
   ],
   "source": [
    "duplicates = users[users.duplicated()]\n",
    "duplicates"
   ]
  },
  {
   "cell_type": "markdown",
   "metadata": {},
   "source": [
    "Дубликатов нет."
   ]
  },
  {
   "cell_type": "markdown",
   "metadata": {},
   "source": [
    "Наконец посмотрим на соотношение значений целевого признака."
   ]
  },
  {
   "cell_type": "code",
   "execution_count": 7,
   "metadata": {},
   "outputs": [
    {
     "data": {
      "text/plain": [
       "0    2229\n",
       "1     985\n",
       "Name: is_ultra, dtype: int64"
      ]
     },
     "execution_count": 7,
     "metadata": {},
     "output_type": "execute_result"
    }
   ],
   "source": [
    "users['is_ultra'].value_counts()"
   ]
  },
  {
   "cell_type": "markdown",
   "metadata": {},
   "source": [
    "Получается, что у нас только около 30.5% абоннетов пользуются тарифом \"Ультра\". То есть, мы должны обратить внимание на тот факт, что если в будущем точность нашей модели будет около 70% - это может означать, что она не способна предсказывать тариф \"Ультра\"."
   ]
  },
  {
   "cell_type": "markdown",
   "metadata": {},
   "source": [
    "Перейдем к разделению данных на выборки."
   ]
  },
  {
   "cell_type": "markdown",
   "metadata": {},
   "source": [
    "## 2. Разбивка данных на выборки"
   ]
  },
  {
   "cell_type": "markdown",
   "metadata": {},
   "source": [
    "Нам необходимо выделить среди наших данных три выборки - обучающую, валидационную и тестовую.\n",
    "\n",
    "Мы возьмем их в соотношениях 3 : 1 : 1.\n",
    "\n",
    "Для этого воспользуемся функцией train_test_split 2 раза, кроме этого, сделаем стратификацию, чтобы доли обоих значений целевого признака во всех выборках были равны."
   ]
  },
  {
   "cell_type": "code",
   "execution_count": 8,
   "metadata": {},
   "outputs": [],
   "source": [
    "target = users['is_ultra']\n",
    "features = users.drop('is_ultra', axis=1)\n",
    "\n",
    "features_train, features_valid_test, target_train, target_valid_test = train_test_split(features, \n",
    "                                        target, test_size=0.4, random_state=1, stratify = target)\n",
    "\n",
    "features_valid, features_test, target_valid, target_test = train_test_split(features_valid_test, \n",
    "                        target_valid_test, test_size=0.5, random_state=1, stratify=target_valid_test)"
   ]
  },
  {
   "cell_type": "markdown",
   "metadata": {},
   "source": [
    "Итак, данные разделены на выборки; признаки и целевые признаки выделены.\n",
    "\n",
    "Проверим, представительство классов в выборках."
   ]
  },
  {
   "cell_type": "code",
   "execution_count": 9,
   "metadata": {},
   "outputs": [
    {
     "data": {
      "text/plain": [
       "0    1337\n",
       "1     591\n",
       "Name: is_ultra, dtype: int64"
      ]
     },
     "metadata": {},
     "output_type": "display_data"
    },
    {
     "data": {
      "text/plain": [
       "0    0.693465\n",
       "1    0.306535\n",
       "Name: is_ultra, dtype: float64"
      ]
     },
     "metadata": {},
     "output_type": "display_data"
    },
    {
     "data": {
      "text/plain": [
       "0    446\n",
       "1    197\n",
       "Name: is_ultra, dtype: int64"
      ]
     },
     "metadata": {},
     "output_type": "display_data"
    },
    {
     "data": {
      "text/plain": [
       "0    0.693624\n",
       "1    0.306376\n",
       "Name: is_ultra, dtype: float64"
      ]
     },
     "metadata": {},
     "output_type": "display_data"
    },
    {
     "data": {
      "text/plain": [
       "0    446\n",
       "1    197\n",
       "Name: is_ultra, dtype: int64"
      ]
     },
     "metadata": {},
     "output_type": "display_data"
    },
    {
     "data": {
      "text/plain": [
       "0    0.693624\n",
       "1    0.306376\n",
       "Name: is_ultra, dtype: float64"
      ]
     },
     "metadata": {},
     "output_type": "display_data"
    }
   ],
   "source": [
    "for i in [target_train, target_valid, target_test]:\n",
    "    display(i.value_counts(), i.value_counts(normalize=True))     "
   ]
  },
  {
   "cell_type": "markdown",
   "metadata": {},
   "source": [
    "Заметно, что стратификация прошла успешно и доли классов во всех трех выборках одинаковы."
   ]
  },
  {
   "cell_type": "markdown",
   "metadata": {},
   "source": [
    "Итак, выборки сформированы в соотношении 3 : 1 : 1, признакам присвоены имена. Можно приступать к исследованию моделей."
   ]
  },
  {
   "cell_type": "markdown",
   "metadata": {},
   "source": [
    "## 3. Исследование моделей"
   ]
  },
  {
   "cell_type": "markdown",
   "metadata": {},
   "source": [
    "Прежде чем переходить к изучению моделей, создадим функцию для проверки точности модели на гиперпараметрах по умолчанию."
   ]
  },
  {
   "cell_type": "code",
   "execution_count": 10,
   "metadata": {},
   "outputs": [],
   "source": [
    "# в качестве аргументов передается алгоритм обучения, \n",
    "# признаки и целевые признаки обучающей и валидационной выборок\n",
    "# модель обучается, делает прогноз, и затем вызывается функция проверки точности\n",
    "\n",
    "def default_check(model_type, f_train, t_train, f_valid, t_valid):\n",
    "    model = model_type(random_state=1)\n",
    "    model.fit(f_train, t_train)\n",
    "    model_predictions = model.predict(f_valid)\n",
    "    return accuracy_score(t_valid, model_predictions)"
   ]
  },
  {
   "cell_type": "markdown",
   "metadata": {},
   "source": [
    "### 3.1 Дерево решений"
   ]
  },
  {
   "cell_type": "markdown",
   "metadata": {},
   "source": [
    "Первой рассмотренной моделью будет алгоритм дерева решений.\n",
    "\n",
    "Вызовем для него проверку по умолчанию."
   ]
  },
  {
   "cell_type": "code",
   "execution_count": 11,
   "metadata": {},
   "outputs": [
    {
     "data": {
      "text/plain": [
       "0.7013996889580093"
      ]
     },
     "execution_count": 11,
     "metadata": {},
     "output_type": "execute_result"
    }
   ],
   "source": [
    "default_check(DecisionTreeClassifier, features_train, target_train, features_valid, target_valid)"
   ]
  },
  {
   "cell_type": "markdown",
   "metadata": {},
   "source": [
    "Получается, что на валидационной выборке наша модель показала точность чуть выше 70%, что ниже требуемого заданием порога в 75%.\n",
    "\n",
    "Посмотрим, приведет ли изменение гиперпараметров к повышению точности."
   ]
  },
  {
   "cell_type": "markdown",
   "metadata": {},
   "source": [
    "Перебирать различные значения гиперпараметров будем во вложенных циклах.\n",
    "\n",
    "Для модели дерева решения попробуем менять следующие параметры (здесь и далее описание гиперпараметров приведено как попытка перевода с английского из документаций соответствующих алгоритмов):\n",
    "\n",
    " - максимальная глубина дерева;\n",
    " \n",
    " \n",
    " - минимальное количество объектов в листе - он будет запрещать создавать лист, в котором слишком мало объектов обучающей выборки, по умолчанию = 1;\n",
    " \n",
    " \n",
    " - минимальное количество примеров для разделения - будет запрещать создавать узлы, в которые попадает слишком мало объектов обучающей выборки, по умолчанию = 2."
   ]
  },
  {
   "cell_type": "markdown",
   "metadata": {},
   "source": [
    "Перед выполнением цикла создадим новые переменные, которые будет сохранять информацию о гиперпараметрах лучшей по точности модели.\n",
    "\n",
    "После обучения модели будем проверять ее на валидационной выборке."
   ]
  },
  {
   "cell_type": "code",
   "execution_count": 12,
   "metadata": {},
   "outputs": [],
   "source": [
    "best_tree_model = None\n",
    "best_tree_result = 0\n",
    "best_depth = 0\n",
    "best_samples_leaf = 0\n",
    "best_samples_split = 0\n",
    "\n",
    "for depth in range(1,10):\n",
    "    for leaf in range(1,20):\n",
    "        for split in range(2,10):\n",
    "            tree_model = DecisionTreeClassifier(random_state=1, max_depth=depth, \n",
    "                                min_samples_leaf=leaf, min_samples_split=split)\n",
    "            \n",
    "            tree_model.fit(features_train, target_train)\n",
    "            tree_predictions = tree_model.predict(features_valid)\n",
    "            result = accuracy_score(target_valid, tree_predictions)\n",
    "            \n",
    "            if result > best_tree_result:\n",
    "                \n",
    "                best_tree_model = tree_model\n",
    "                best_tree_result = result\n",
    "                best_depth = depth\n",
    "                best_samples_leaf = leaf\n",
    "                best_samples_split = split\n"
   ]
  },
  {
   "cell_type": "markdown",
   "metadata": {},
   "source": [
    "Итак, выведем точность и значения гиперпараметров алгоритма лучшей модели."
   ]
  },
  {
   "cell_type": "code",
   "execution_count": 13,
   "metadata": {},
   "outputs": [
    {
     "name": "stdout",
     "output_type": "stream",
     "text": [
      "Точность наилучшей модели дерева решений: 80.40%\n",
      "Максимальная глубина: 7\n",
      "Минимальное количество объектов в листе: 6\n",
      "Минимальное количество примеров для разделения: 2\n"
     ]
    }
   ],
   "source": [
    "print(f'Точность наилучшей модели дерева решений: {best_tree_result:.2%}')\n",
    "print(f'Максимальная глубина: {best_depth}')\n",
    "print(f'Минимальное количество объектов в листе: {best_samples_leaf}')\n",
    "print(f'Минимальное количество примеров для разделения: {best_samples_split}')"
   ]
  },
  {
   "cell_type": "markdown",
   "metadata": {},
   "source": [
    "Получается, что точность модели выросла более чем на 10%, по сравнению с настройками по умолчанию.\n",
    "\n",
    "Мы видим, что наше лучшее дерево достигло глубины в 7 уровней. Значение по умолчанию для этого гиперпараметра отсутствует - узлы расширяются до тех пор, пока все листья - чистые или содержат меньше, чем минимальное количество примеров для разделения.\n",
    "\n",
    "Кроме того, в лучшей модели минимальное количество объектов выборки, попадающих в лист - 6.\n",
    "\n",
    "Минимальное количество примеров для разделения осталось значением \"по умолчанию\"."
   ]
  },
  {
   "cell_type": "markdown",
   "metadata": {},
   "source": [
    "### 3.2 Случайный лес"
   ]
  },
  {
   "cell_type": "markdown",
   "metadata": {},
   "source": [
    "Далее рассмотрим модель случайного леса.\n",
    "\n",
    "Проверим ее на гиперпараметрах по умолчанию."
   ]
  },
  {
   "cell_type": "code",
   "execution_count": 14,
   "metadata": {},
   "outputs": [
    {
     "name": "stderr",
     "output_type": "stream",
     "text": [
      "/opt/conda/lib/python3.7/site-packages/sklearn/ensemble/forest.py:245: FutureWarning: The default value of n_estimators will change from 10 in version 0.20 to 100 in 0.22.\n",
      "  \"10 in version 0.20 to 100 in 0.22.\", FutureWarning)\n"
     ]
    },
    {
     "data": {
      "text/plain": [
       "0.7838258164852255"
      ]
     },
     "execution_count": 14,
     "metadata": {},
     "output_type": "execute_result"
    }
   ],
   "source": [
    "default_check(RandomForestClassifier, features_train, target_train, features_valid, target_valid)"
   ]
  },
  {
   "cell_type": "markdown",
   "metadata": {},
   "source": [
    "Модель сразу же выдала точность выше 78%.\n",
    "\n",
    "Посомтрим, можно ли ее повысить, изменяя гиперпараметры.\n",
    "\n",
    "В качестве изменяемых гиперпараметров возьмем следующие:\n",
    " - n_estimators - количество деревьев в лесу;\n",
    " - максимальная глубина дерева;\n",
    " - максимальное количество листьев - то есть конечных ячеек."
   ]
  },
  {
   "cell_type": "markdown",
   "metadata": {},
   "source": [
    "Выполним цикл для случайного леса."
   ]
  },
  {
   "cell_type": "code",
   "execution_count": 15,
   "metadata": {},
   "outputs": [],
   "source": [
    "best_forest_model = None\n",
    "best_forest_result = 0\n",
    "best_depth_for_forest = 0\n",
    "best_estimators = 0\n",
    "best_max_leaf_nodes = 0\n",
    "\n",
    "for est in range(1,10):\n",
    "    for depth in range(1,10):\n",
    "        for node in range(2,10):\n",
    "            forest_model = RandomForestClassifier(random_state=1, max_depth=depth, \n",
    "                                n_estimators=est,max_leaf_nodes=node)\n",
    "            \n",
    "            forest_model.fit(features_train, target_train)\n",
    "            forest_predictions = forest_model.predict(features_valid)\n",
    "            result = accuracy_score(target_valid, forest_predictions)\n",
    "            \n",
    "            if result > best_forest_result:\n",
    "                \n",
    "                best_forest_model = forest_model\n",
    "                best_forest_result = result\n",
    "                best_depth_for_forest = depth\n",
    "                best_estimators = est\n",
    "                best_max_leaf_nodes = node"
   ]
  },
  {
   "cell_type": "markdown",
   "metadata": {},
   "source": [
    "Выведем значения точности и гиперпараметров."
   ]
  },
  {
   "cell_type": "code",
   "execution_count": 16,
   "metadata": {},
   "outputs": [
    {
     "name": "stdout",
     "output_type": "stream",
     "text": [
      "Точность наилучшей модели случайного леса: 80.09%\n",
      "Максимальная глубина: 3\n",
      "Количество деревьев: 4\n",
      "Максимальное количество листьев: 7\n"
     ]
    }
   ],
   "source": [
    "print(f'Точность наилучшей модели случайного леса: {best_forest_result:.2%}')\n",
    "print(f'Максимальная глубина: {best_depth_for_forest}')\n",
    "print(f'Количество деревьев: {best_estimators}')\n",
    "print(f'Максимальное количество листьев: {best_max_leaf_nodes}')"
   ]
  },
  {
   "cell_type": "markdown",
   "metadata": {},
   "source": [
    "Итак, лучшая модель случайного леса насчитывает в себе 4 дерева.\n",
    "\n",
    "Нам незначительно удалось повысить показатель точности, изменняя гиперпараметры.\n",
    "\n",
    "То есть, алгоритм обучил 4 независимых друг от друга случайных деревьев, а потом принял решение на основе голосования.\n",
    "\n",
    "Максимальная глубина - 3, у этой модели уровней у дерева меньше, чем у предыдущей.\n",
    "\n",
    "Кроме того, получилось, что у лучшей модели число конечных ячеек (листьев) ограничено семью. (В этих ячейках назначаются классы)."
   ]
  },
  {
   "cell_type": "markdown",
   "metadata": {},
   "source": [
    "### 3.3 Логистическая регрессия"
   ]
  },
  {
   "cell_type": "markdown",
   "metadata": {},
   "source": [
    "Далее рассмотрим алгоритм логистической регрессии.\n",
    "\n",
    "Выполним для него проверку по умолчанию."
   ]
  },
  {
   "cell_type": "code",
   "execution_count": 17,
   "metadata": {},
   "outputs": [
    {
     "name": "stderr",
     "output_type": "stream",
     "text": [
      "/opt/conda/lib/python3.7/site-packages/sklearn/linear_model/logistic.py:432: FutureWarning: Default solver will be changed to 'lbfgs' in 0.22. Specify a solver to silence this warning.\n",
      "  FutureWarning)\n"
     ]
    },
    {
     "data": {
      "text/plain": [
       "0.7511664074650077"
      ]
     },
     "execution_count": 17,
     "metadata": {},
     "output_type": "execute_result"
    }
   ],
   "source": [
    "default_check(LogisticRegression, features_train, target_train, features_valid, target_valid)"
   ]
  },
  {
   "cell_type": "markdown",
   "metadata": {},
   "source": [
    "Точность модели на валидационной выборке - около 75%.\n",
    "\n",
    "Посмотрим, удастся ли его повысить меняя гиперпараметры.\n",
    "\n",
    "Попробуем менять следующие:\n",
    " - включение константы (пересечения с осью y) в функцию (по умолчанию=True);\n",
    " - выбор алгоритма для решения задачи оптимизации (по умолчанию lbfgs - метод с ограничением использования памяти алгоритма Бройдена — Флетчера — Гольдфарба — Шанно )\n",
    " - попробуем разное количество итераций для алгоритма оптимизации - при малых значений модель предупреждала об ошибке."
   ]
  },
  {
   "cell_type": "code",
   "execution_count": 18,
   "metadata": {},
   "outputs": [],
   "source": [
    "best_LR_model = None\n",
    "best_LR_result = 0\n",
    "best_intercept = 0\n",
    "best_solver = None\n",
    "best_iter = 0\n",
    "best_class = None\n",
    "\n",
    "for intercept in [True, False]:\n",
    "    for solver in ['lbfgs', 'liblinear', 'sag', 'saga']:\n",
    "        for iterations in range(4000, 7000, 1500):\n",
    "             \n",
    "                    LR_model = LogisticRegression(random_state=1, fit_intercept=intercept,\n",
    "                                             solver=solver, max_iter=iterations)\n",
    "            \n",
    "                    LR_model.fit(features_train, target_train)\n",
    "                    LR_predictions = LR_model.predict(features_valid)\n",
    "                    result = accuracy_score(target_valid, LR_predictions)\n",
    "            \n",
    "                    if result > best_LR_result:\n",
    "                        best_LR_model = LR_model\n",
    "                        best_LR_result = result\n",
    "                        best_intercept = intercept\n",
    "                        best_solver = solver\n",
    "                        best_iter = iterations"
   ]
  },
  {
   "cell_type": "code",
   "execution_count": 19,
   "metadata": {},
   "outputs": [
    {
     "name": "stdout",
     "output_type": "stream",
     "text": [
      "Точность наилучшей логистической регрессии: 75.27%\n",
      "Включаем ли константу в функцию: True\n",
      "Алгоритм для решения задачи оптимизации: lbfgs\n",
      "Максимальное количество итераций для алгоритма оптимизации: 4000\n"
     ]
    }
   ],
   "source": [
    "print(f'Точность наилучшей логистической регрессии: {best_LR_result:.2%}')\n",
    "print(f'Включаем ли константу в функцию: {best_intercept}')\n",
    "print(f'Алгоритм для решения задачи оптимизации: {best_solver}')\n",
    "print(f'Максимальное количество итераций для алгоритма оптимизации: {best_iter}')"
   ]
  },
  {
   "cell_type": "markdown",
   "metadata": {},
   "source": [
    "Итак, получается, что точность модели после манипуляций на валидационной выборке незначительно выросла.\n",
    "\n",
    "Включение константы в функцию в лучшей модели осталось значением по умолчанию (включаем).\n",
    "\n",
    "Алгоритм оптимизации остался также по умолчанию.\n",
    "\n",
    "А количество итераций, потребовавшееся, чтобы модель работала без предупреждений - 4000."
   ]
  },
  {
   "cell_type": "markdown",
   "metadata": {},
   "source": [
    "### Вывод "
   ]
  },
  {
   "cell_type": "markdown",
   "metadata": {},
   "source": [
    "Итак, мы рассмотрели три алгоритма обучения, для каждого из которых меняли гиперпараметры (в количестве трех штук).\n",
    "\n",
    "В целом, можно сказать, что изменение гиперпараметров положительно сказалось на повышении точности моделей на валидационной выборке, по сравнению с точностью при использовании алгоритмами гиперпараметров по умолчанию.\n",
    "\n",
    "Для дерева решений рост точности был заметным. Для случайного леса  - более слабым. Для логистической регрессии - почти незаметным.\n",
    "\n",
    "В целом можно сказать, что затратив время на подбор лучших гиперпараметров, нам удалось добиться роста точности моделей на валидационной выборке."
   ]
  },
  {
   "cell_type": "markdown",
   "metadata": {},
   "source": [
    "## 4. Проверка модели на тестовой выборке"
   ]
  },
  {
   "cell_type": "markdown",
   "metadata": {},
   "source": [
    "Попробуем проверить точность моделей на тестовой выборке.\n",
    "\n",
    "Для этого напишем функцию проверки точности, которая принимает модели и тестовую выборку."
   ]
  },
  {
   "cell_type": "code",
   "execution_count": 20,
   "metadata": {},
   "outputs": [],
   "source": [
    "def test_accuracy(model, features, target):\n",
    "    predictions = model.predict(features)\n",
    "    return accuracy_score(target, predictions)"
   ]
  },
  {
   "cell_type": "code",
   "execution_count": 21,
   "metadata": {},
   "outputs": [
    {
     "name": "stdout",
     "output_type": "stream",
     "text": [
      "Точность модели Дерево решений на тестовой выборке: 79.63%\n",
      "Точность модели Случайный лес на тестовой выборке: 80.25%\n",
      "Точность модели Логистическая регрессия на тестовой выборке: 75.74%\n"
     ]
    }
   ],
   "source": [
    "models = {'Дерево решений': best_tree_model, 'Случайный лес' : best_forest_model, \n",
    "          'Логистическая регрессия': best_LR_model}\n",
    "for name, model in models.items():\n",
    "    print(f'Точность модели {name} на тестовой выборке: {test_accuracy(model, features_test, target_test):.2%}')"
   ]
  },
  {
   "cell_type": "markdown",
   "metadata": {},
   "source": [
    "Далее воспользуемся метрикой recall_score, чтобы узнать, какую долю каждого класса наши модели предсказали правильно."
   ]
  },
  {
   "cell_type": "code",
   "execution_count": 22,
   "metadata": {},
   "outputs": [],
   "source": [
    "from sklearn.metrics import recall_score"
   ]
  },
  {
   "cell_type": "code",
   "execution_count": 23,
   "metadata": {},
   "outputs": [
    {
     "name": "stdout",
     "output_type": "stream",
     "text": [
      "recall_score Дерево решений на тестовой выборке: [0.95515695 0.43654822]\n",
      "recall_score Случайный лес на тестовой выборке: [0.93721973 0.49746193]\n",
      "recall_score Логистическая регрессия на тестовой выборке: [0.98206278 0.24873096]\n"
     ]
    }
   ],
   "source": [
    "for name, model in models.items():\n",
    "    print(f'recall_score {name} на тестовой выборке: {recall_score(target_test, model.predict(features_test), average=None)}')"
   ]
  },
  {
   "cell_type": "markdown",
   "metadata": {},
   "source": [
    "### Вывод"
   ]
  },
  {
   "cell_type": "markdown",
   "metadata": {},
   "source": [
    "Итак, мы решали задачу классификации абонентов, исходя из того, сколько звонков делают, сколько минут они говорят, сколько сообщений отправляют и сколько мегабайтов интернета в месяц они тратят, зная пользуются ли они тарифом ultra, либо тарифом smart.\n",
    "\n",
    "Все данные мы разбили на три выборки - обучающую, валидационную и тестовую в отношении 3 : 1 : 1. \n",
    "\n",
    "Модели мы обучали тремя алгоритмами обучения - деревом решений, случайным лесом и логистической регрессией.\n",
    "\n",
    "Все модели после перебора индивидуальных гиперпараметров показали повышение точности на валидационной выборке по сравнению с гиперпараметрами по умолчанию.\n",
    "\n",
    "На тестовой выборке Дерево решений и случайный лес показали точность около 80% соответственно. В то время как логистическая регрессия чуть перешагнула за границу в 75%.\n",
    "\n",
    "Также интересны были результаты работы recall_score. Оказалось, что случайный лес хуже всех прогнозирует абонентов тарифа \"Смарт\" (93%), но лучше всех - абонентов 'ultra' (почти 50%). Дерево решений имеет похожие результаты, но немного лучше по \"смарт\" и существенно хуже по \"ультра\".\n",
    "\n",
    "Логистическая регрессия отлично предсказывает абонентов \"смарт\" и только четверть абонентов \"ультра\"."
   ]
  },
  {
   "cell_type": "markdown",
   "metadata": {},
   "source": [
    "## 5. (бонус) Проверка модели на адекватность"
   ]
  },
  {
   "cell_type": "markdown",
   "metadata": {},
   "source": [
    "Итак, sanity-check или \"проверка на вменяемость\" подразумевает относительно простой тест для определения, может ли быть модель адекватно применяемой.\n",
    "\n",
    "Для того, чтобы попытаться провести такую проверку для наших моделей обратимся к значениям целевого признака по датасету."
   ]
  },
  {
   "cell_type": "code",
   "execution_count": 24,
   "metadata": {},
   "outputs": [
    {
     "data": {
      "text/plain": [
       "0.30647168637212197"
      ]
     },
     "execution_count": 24,
     "metadata": {},
     "output_type": "execute_result"
    }
   ],
   "source": [
    "users['is_ultra'].mean()"
   ]
  },
  {
   "cell_type": "markdown",
   "metadata": {},
   "source": [
    "Значит, в нашем наборе данных около 69.5% абонентов пользуются тарифом \"смарт\".\n",
    "\n",
    "Следовательно, если мы предположим, что наши модели будут всегда предсказывать тариф \"смарт\", то точность моделей была бы на уровне 69.5%. Но у каждой из трех моделей после подбора лучших гиперпараметров она превышает это значение.\n",
    "\n",
    "Таким обазом, на мой взгляд, модели прошли проверку на вменяемость."
   ]
  },
  {
   "cell_type": "code",
   "execution_count": 25,
   "metadata": {},
   "outputs": [
    {
     "data": {
      "text/plain": [
       "0.6936236391912908"
      ]
     },
     "execution_count": 25,
     "metadata": {},
     "output_type": "execute_result"
    }
   ],
   "source": [
    "from sklearn.dummy import DummyClassifier\n",
    "\n",
    "dummy_clf = DummyClassifier(strategy=\"most_frequent\")\n",
    "dummy_clf.fit(features_train, target_train)\n",
    "dummy_clf.score(dummy_clf.predict(features_valid), target_valid)"
   ]
  }
 ],
 "metadata": {
  "kernelspec": {
   "display_name": "Python 3",
   "language": "python",
   "name": "python3"
  },
  "language_info": {
   "codemirror_mode": {
    "name": "ipython",
    "version": 3
   },
   "file_extension": ".py",
   "mimetype": "text/x-python",
   "name": "python",
   "nbconvert_exporter": "python",
   "pygments_lexer": "ipython3",
   "version": "3.7.7"
  },
  "toc": {
   "base_numbering": 1,
   "nav_menu": {},
   "number_sections": true,
   "sideBar": true,
   "skip_h1_title": true,
   "title_cell": "Table of Contents",
   "title_sidebar": "Contents",
   "toc_cell": false,
   "toc_position": {},
   "toc_section_display": true,
   "toc_window_display": false
  }
 },
 "nbformat": 4,
 "nbformat_minor": 2
}
